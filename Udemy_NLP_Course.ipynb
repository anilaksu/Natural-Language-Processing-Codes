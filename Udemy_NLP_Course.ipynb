{
  "nbformat": 4,
  "nbformat_minor": 0,
  "metadata": {
    "colab": {
      "provenance": [],
      "toc_visible": true,
      "include_colab_link": true
    },
    "kernelspec": {
      "name": "python3",
      "display_name": "Python 3"
    },
    "language_info": {
      "name": "python"
    }
  },
  "cells": [
    {
      "cell_type": "markdown",
      "metadata": {
        "id": "view-in-github",
        "colab_type": "text"
      },
      "source": [
        "<a href=\"https://colab.research.google.com/github/anilaksu/Natural-Language-Processing-Codes/blob/main/Udemy_NLP_Course.ipynb\" target=\"_parent\"><img src=\"https://colab.research.google.com/assets/colab-badge.svg\" alt=\"Open In Colab\"/></a>"
      ]
    },
    {
      "cell_type": "markdown",
      "source": [
        "# **Natural Language Processing with Pyhton Udemy Training**\n",
        "\n",
        "\n",
        "Anil Aksu\n",
        "\n",
        "Personal e-mail: aaa293@cornell.edu\n",
        "\n",
        "\n",
        "## Notebook Organization:\n",
        "- **Python Text Basics**\n",
        "- **Natural Language Processing Basics**\n",
        "- **Part of Speech Tagging and Named Entity Recognition**\n",
        "- **Text Classification**\n",
        "- **Semantics and Sentiment Analysis**\n",
        "- **Topic Modeling**\n",
        "- **Deep Learning for NLP**\n",
        "\n"
      ],
      "metadata": {
        "id": "jKQMRP66eM-e"
      }
    },
    {
      "cell_type": "markdown",
      "source": [
        "# 1 Pyhton Text Basics\n",
        "\n",
        "\n",
        "1.   Working with PDFS\n",
        "2.   Regular Expressions\n",
        "\n"
      ],
      "metadata": {
        "id": "91mrhrvYeS_c"
      }
    },
    {
      "cell_type": "code",
      "source": [
        "# Here we set our working directory in our google drive to access datasets externally\n",
        "from google.colab import drive\n",
        "drive.mount('/content/drive')\n",
        "%cd /content/drive/MyDrive/ColabNotebooks/NLP"
      ],
      "metadata": {
        "colab": {
          "base_uri": "https://localhost:8080/"
        },
        "id": "Bw2Rs3B8l-tS",
        "outputId": "5703da77-8e08-4f93-9405-183597318f78"
      },
      "execution_count": 20,
      "outputs": [
        {
          "output_type": "stream",
          "name": "stdout",
          "text": [
            "Mounted at /content/drive\n",
            "/content/drive/MyDrive/ColabNotebooks/NLP\n"
          ]
        }
      ]
    },
    {
      "cell_type": "code",
      "source": [
        "person = \"Jose\"\n",
        "print(\"My name is {}\".format(person)) # Old version"
      ],
      "metadata": {
        "colab": {
          "base_uri": "https://localhost:8080/"
        },
        "id": "4Ze-A47UhOmx",
        "outputId": "c4273e02-f9a8-4443-bf5e-035da0b0b193"
      },
      "execution_count": 1,
      "outputs": [
        {
          "output_type": "stream",
          "name": "stdout",
          "text": [
            "My name is Jose\n"
          ]
        }
      ]
    },
    {
      "cell_type": "code",
      "source": [
        "print(f\"My name is {person}\")         # New version"
      ],
      "metadata": {
        "colab": {
          "base_uri": "https://localhost:8080/"
        },
        "id": "_IKZ1cj1iSoG",
        "outputId": "b33efe18-6720-4c63-f77f-9cf62cc7afa1"
      },
      "execution_count": 2,
      "outputs": [
        {
          "output_type": "stream",
          "name": "stdout",
          "text": [
            "My name is Jose\n"
          ]
        }
      ]
    },
    {
      "cell_type": "code",
      "source": [
        "d = {'a':123, 'b':456}                # Sample dictionary\n",
        "print(f\"My number is {d['a']}\")       # Output an element from dictionary"
      ],
      "metadata": {
        "colab": {
          "base_uri": "https://localhost:8080/"
        },
        "id": "YpLkUzutiegF",
        "outputId": "5668a8a0-467c-4ae0-9022-7648961f3d94"
      },
      "execution_count": 3,
      "outputs": [
        {
          "output_type": "stream",
          "name": "stdout",
          "text": [
            "My number is 123\n"
          ]
        }
      ]
    },
    {
      "cell_type": "code",
      "source": [
        "mylist = [0, 1, 2]\n",
        "print(f\"My number is {mylist[0]}\")       # Output an element from list"
      ],
      "metadata": {
        "colab": {
          "base_uri": "https://localhost:8080/"
        },
        "id": "j2-OFju5izJu",
        "outputId": "d002a97f-0507-437f-9628-eeab475385fb"
      },
      "execution_count": 4,
      "outputs": [
        {
          "output_type": "stream",
          "name": "stdout",
          "text": [
            "My number is 0\n"
          ]
        }
      ]
    },
    {
      "cell_type": "code",
      "source": [
        "library = [('Author', 'Topic', 'Pages'), ('Twain', 'Rafting', 601), ('Feynman', 'Physics', 95), ('Hamilton', 'Mythology', 144)]\n",
        "library\n",
        "\n",
        "for author, topic, pages in library:\n",
        "  print(f\"{author:{10}} {topic:{30}} {pages:{10}}\")\n",
        "\n",
        "print(\"\\n\")\n",
        "\n",
        "for author, topic, pages in library:\n",
        "  print(f\"{author:{10}} {topic:{30}} {pages:>{10}}\")\n",
        "\n",
        "print(\"\\n\")\n",
        "\n",
        "for author, topic, pages in library:\n",
        "  print(f\"{author:{10}} {topic:{30}} {pages:.>{10}}\")"
      ],
      "metadata": {
        "colab": {
          "base_uri": "https://localhost:8080/"
        },
        "id": "LpB9h4kEi90A",
        "outputId": "5ba6f57f-5a2e-4d40-fbc5-ca75ac7d950a"
      },
      "execution_count": 12,
      "outputs": [
        {
          "output_type": "stream",
          "name": "stdout",
          "text": [
            "Author     Topic                          Pages     \n",
            "Twain      Rafting                               601\n",
            "Feynman    Physics                                95\n",
            "Hamilton   Mythology                             144\n",
            "\n",
            "\n",
            "Author     Topic                               Pages\n",
            "Twain      Rafting                               601\n",
            "Feynman    Physics                                95\n",
            "Hamilton   Mythology                             144\n",
            "\n",
            "\n",
            "Author     Topic                          .....Pages\n",
            "Twain      Rafting                        .......601\n",
            "Feynman    Physics                        ........95\n",
            "Hamilton   Mythology                      .......144\n"
          ]
        }
      ]
    },
    {
      "cell_type": "code",
      "source": [
        "from datetime import datetime\n",
        "today = datetime(year = 2019, month = 2, day = 28)\n",
        "print(f\"{today}\")\n",
        "print(f\"{today: %B %d, %Y}\")"
      ],
      "metadata": {
        "colab": {
          "base_uri": "https://localhost:8080/"
        },
        "id": "B5nuLJlbksN-",
        "outputId": "3e27cbca-4e73-4833-c2ad-82e9f55fde24"
      },
      "execution_count": 14,
      "outputs": [
        {
          "output_type": "stream",
          "name": "stdout",
          "text": [
            "2019-02-28 00:00:00\n",
            " February 28, 2019\n"
          ]
        }
      ]
    },
    {
      "cell_type": "code",
      "source": [
        "%%writefile test.txt\n",
        "Hello, this is a quick test.\n",
        "This is the second line of the file."
      ],
      "metadata": {
        "colab": {
          "base_uri": "https://localhost:8080/"
        },
        "id": "DRZQxK1_lZBG",
        "outputId": "1062e251-f7d9-479c-c931-5abe523297da"
      },
      "execution_count": 18,
      "outputs": [
        {
          "output_type": "stream",
          "name": "stdout",
          "text": [
            "Overwriting test.txt\n"
          ]
        }
      ]
    },
    {
      "cell_type": "code",
      "source": [
        "myfile = open('test.txt')\n",
        "myfile.read()"
      ],
      "metadata": {
        "colab": {
          "base_uri": "https://localhost:8080/",
          "height": 36
        },
        "id": "ma3ZvN8hluRd",
        "outputId": "a606d8f5-0f14-48a9-d193-39296c149521"
      },
      "execution_count": 20,
      "outputs": [
        {
          "output_type": "execute_result",
          "data": {
            "text/plain": [
              "'Hello, this is a quick test.\\nThis is the second line of the file.\\n'"
            ],
            "application/vnd.google.colaboratory.intrinsic+json": {
              "type": "string"
            }
          },
          "metadata": {},
          "execution_count": 20
        }
      ]
    },
    {
      "cell_type": "code",
      "source": [
        "myfile.seek(0) # Here we reset the cursor in the file\n",
        "myfile.read()"
      ],
      "metadata": {
        "colab": {
          "base_uri": "https://localhost:8080/",
          "height": 36
        },
        "id": "gUoM8UdJoVwp",
        "outputId": "edb9333a-cdce-4b7b-f941-f80643d7dbb8"
      },
      "execution_count": 21,
      "outputs": [
        {
          "output_type": "execute_result",
          "data": {
            "text/plain": [
              "'Hello, this is a quick test.\\nThis is the second line of the file.\\n'"
            ],
            "application/vnd.google.colaboratory.intrinsic+json": {
              "type": "string"
            }
          },
          "metadata": {},
          "execution_count": 21
        }
      ]
    },
    {
      "cell_type": "code",
      "source": [
        "myfile.seek(0) # Here we reset the cursor in the file\n",
        "content = myfile.read()\n",
        "print(content)"
      ],
      "metadata": {
        "colab": {
          "base_uri": "https://localhost:8080/"
        },
        "id": "uOdwPJCTphp_",
        "outputId": "9ca15630-1558-4566-f406-7ab4e3dc593a"
      },
      "execution_count": 23,
      "outputs": [
        {
          "output_type": "stream",
          "name": "stdout",
          "text": [
            "Hello, this is a quick test.\n",
            "This is the second line of the file.\n",
            "\n"
          ]
        }
      ]
    },
    {
      "cell_type": "code",
      "source": [
        "myfile.close() # Close it so that you can edit the file externally"
      ],
      "metadata": {
        "id": "2IBn0eeCpvp4"
      },
      "execution_count": 25,
      "outputs": []
    },
    {
      "cell_type": "code",
      "source": [
        "myfile = open('test.txt')\n",
        "myfile.readlines() # It reads line by line"
      ],
      "metadata": {
        "colab": {
          "base_uri": "https://localhost:8080/"
        },
        "id": "KsxrH_p-p6pu",
        "outputId": "2e2619d9-30a2-42bf-8bbb-0776928c6907"
      },
      "execution_count": 26,
      "outputs": [
        {
          "output_type": "execute_result",
          "data": {
            "text/plain": [
              "['Hello, this is a quick test.\\n', 'This is the second line of the file.\\n']"
            ]
          },
          "metadata": {},
          "execution_count": 26
        }
      ]
    },
    {
      "cell_type": "code",
      "source": [
        "myfile.seek(0) # Here we reset the cursor in the file\n",
        "mylines = myfile.readlines() # It reads line by line"
      ],
      "metadata": {
        "id": "7aP-wUL5qMQa"
      },
      "execution_count": 28,
      "outputs": []
    },
    {
      "cell_type": "code",
      "source": [
        "for line in mylines:\n",
        "  print(line.split()[0])"
      ],
      "metadata": {
        "colab": {
          "base_uri": "https://localhost:8080/"
        },
        "id": "1lkrrWlKqRiE",
        "outputId": "7d2001ae-427a-4170-8b6a-a11ad84bacac"
      },
      "execution_count": 30,
      "outputs": [
        {
          "output_type": "stream",
          "name": "stdout",
          "text": [
            "Hello,\n",
            "This\n"
          ]
        }
      ]
    },
    {
      "cell_type": "code",
      "source": [
        "myfile = open('test.txt', 'w+') # It allows us to read and write the file"
      ],
      "metadata": {
        "id": "cmNnRaLHqma3"
      },
      "execution_count": 31,
      "outputs": []
    },
    {
      "cell_type": "code",
      "source": [
        "myfile.write('MY BRAND NEW TEXT')"
      ],
      "metadata": {
        "colab": {
          "base_uri": "https://localhost:8080/"
        },
        "id": "VKPWJzQeq5sM",
        "outputId": "9818a0ce-6689-48fa-9fc5-ef654582fd00"
      },
      "execution_count": 33,
      "outputs": [
        {
          "output_type": "execute_result",
          "data": {
            "text/plain": [
              "17"
            ]
          },
          "metadata": {},
          "execution_count": 33
        }
      ]
    },
    {
      "cell_type": "code",
      "source": [
        "myfile.seek(0)\n",
        "myfile.read()"
      ],
      "metadata": {
        "colab": {
          "base_uri": "https://localhost:8080/",
          "height": 36
        },
        "id": "zmeIvDr2rFuz",
        "outputId": "214b8d84-4c49-4ed3-d884-ee13971b454a"
      },
      "execution_count": 34,
      "outputs": [
        {
          "output_type": "execute_result",
          "data": {
            "text/plain": [
              "'MY BRAND NEW TEXT'"
            ],
            "application/vnd.google.colaboratory.intrinsic+json": {
              "type": "string"
            }
          },
          "metadata": {},
          "execution_count": 34
        }
      ]
    },
    {
      "cell_type": "code",
      "source": [
        "myfile.close()"
      ],
      "metadata": {
        "id": "P3nnM5Q9rSWF"
      },
      "execution_count": 35,
      "outputs": []
    },
    {
      "cell_type": "code",
      "source": [
        "## Appending an existing file\n",
        "myfile = open('test.txt', 'a+')"
      ],
      "metadata": {
        "id": "f5J3-y10rUqc"
      },
      "execution_count": 36,
      "outputs": []
    },
    {
      "cell_type": "code",
      "source": [
        "myfile.write('MY FIRST LINE IN A+ OPENING')"
      ],
      "metadata": {
        "colab": {
          "base_uri": "https://localhost:8080/"
        },
        "id": "X-E_F0a4riOx",
        "outputId": "34b26c04-432d-447c-d677-b93e57876bf5"
      },
      "execution_count": 37,
      "outputs": [
        {
          "output_type": "execute_result",
          "data": {
            "text/plain": [
              "27"
            ]
          },
          "metadata": {},
          "execution_count": 37
        }
      ]
    },
    {
      "cell_type": "code",
      "source": [
        "myfile.close()"
      ],
      "metadata": {
        "id": "WhO_zQH7rpU6"
      },
      "execution_count": 39,
      "outputs": []
    },
    {
      "cell_type": "code",
      "source": [
        "newfile = open('test.txt')\n",
        "newfile.read()"
      ],
      "metadata": {
        "colab": {
          "base_uri": "https://localhost:8080/",
          "height": 36
        },
        "id": "dsbY9LYarrS-",
        "outputId": "fa9c20bd-debd-427b-9f2e-797c74fd9e3a"
      },
      "execution_count": 40,
      "outputs": [
        {
          "output_type": "execute_result",
          "data": {
            "text/plain": [
              "'MY BRAND NEW TEXTMY FIRST LINE IN A+ OPENING'"
            ],
            "application/vnd.google.colaboratory.intrinsic+json": {
              "type": "string"
            }
          },
          "metadata": {},
          "execution_count": 40
        }
      ]
    },
    {
      "cell_type": "code",
      "source": [
        "newfile.close()"
      ],
      "metadata": {
        "id": "QottPyFIsBXB"
      },
      "execution_count": 44,
      "outputs": []
    },
    {
      "cell_type": "code",
      "source": [
        "myfile = open('test.txt', mode = 'a+')\n",
        "myfile.write('\\nThis is an added line, because I used a+ mode')"
      ],
      "metadata": {
        "colab": {
          "base_uri": "https://localhost:8080/"
        },
        "id": "MepDypKPsDxO",
        "outputId": "02892ccb-1c98-46f2-c409-4a238a4fe558"
      },
      "execution_count": 45,
      "outputs": [
        {
          "output_type": "execute_result",
          "data": {
            "text/plain": [
              "46"
            ]
          },
          "metadata": {},
          "execution_count": 45
        }
      ]
    },
    {
      "cell_type": "code",
      "source": [
        "myfile.seek(0)\n",
        "myfile.read()"
      ],
      "metadata": {
        "colab": {
          "base_uri": "https://localhost:8080/",
          "height": 36
        },
        "id": "WBIyImfmsJ5r",
        "outputId": "06ae0e13-5859-4c67-ce06-dc6df60688da"
      },
      "execution_count": 46,
      "outputs": [
        {
          "output_type": "execute_result",
          "data": {
            "text/plain": [
              "'MY BRAND NEW TEXTMY FIRST LINE IN A+ OPENINGThis is an added line, because I used a+ mode\\nThis is an added line, because I used a+ mode'"
            ],
            "application/vnd.google.colaboratory.intrinsic+json": {
              "type": "string"
            }
          },
          "metadata": {},
          "execution_count": 46
        }
      ]
    },
    {
      "cell_type": "code",
      "source": [
        "with open('test.txt', 'r') as mynewfile: # Context Manager to read files automatically closes the file\n",
        "  myvariable = mynewfile.readlines()"
      ],
      "metadata": {
        "id": "3loIky82sfg5"
      },
      "execution_count": 50,
      "outputs": []
    },
    {
      "cell_type": "code",
      "source": [
        "myvariable"
      ],
      "metadata": {
        "colab": {
          "base_uri": "https://localhost:8080/"
        },
        "id": "4UlvNP9ZswLn",
        "outputId": "b74a1467-5b3c-4584-b681-8155d208efdd"
      },
      "execution_count": 49,
      "outputs": [
        {
          "output_type": "execute_result",
          "data": {
            "text/plain": [
              "['MY BRAND NEW TEXTMY FIRST LINE IN A+ OPENINGThis is an added line, because I used a+ mode\\n',\n",
              " 'This is an added line, because I used a+ mode']"
            ]
          },
          "metadata": {},
          "execution_count": 49
        }
      ]
    },
    {
      "cell_type": "markdown",
      "source": [
        "## 1.1 Working with PDFs"
      ],
      "metadata": {
        "id": "gIv08SrT5paH"
      }
    },
    {
      "cell_type": "code",
      "source": [
        "!pip3 install PyPDF2 --upgrade --no-cache-dir\n",
        "import PyPDF2\n",
        "myfile = open('PDFs/US_Declaration.pdf', mode = 'rb')"
      ],
      "metadata": {
        "colab": {
          "base_uri": "https://localhost:8080/",
          "height": 297
        },
        "id": "e7H7ILtF58N7",
        "outputId": "19b9bb2e-2ea3-4298-e391-9d90b208baf2"
      },
      "execution_count": 3,
      "outputs": [
        {
          "output_type": "stream",
          "name": "stdout",
          "text": [
            "Collecting PyPDF2\n",
            "  Downloading pypdf2-3.0.1-py3-none-any.whl (232 kB)\n",
            "\u001b[?25l     \u001b[90m━━━━━━━━━━━━━━━━━━━━━━━━━━━━━━━━━━━━━━━━\u001b[0m \u001b[32m0.0/232.6 kB\u001b[0m \u001b[31m?\u001b[0m eta \u001b[36m-:--:--\u001b[0m\r\u001b[2K     \u001b[91m━━━━━━━━━━━━━━━━━━━━━━━━━━━━━\u001b[0m\u001b[90m╺\u001b[0m\u001b[90m━━━━━━━━━\u001b[0m \u001b[32m174.1/232.6 kB\u001b[0m \u001b[31m5.0 MB/s\u001b[0m eta \u001b[36m0:00:01\u001b[0m\r\u001b[2K     \u001b[90m━━━━━━━━━━━━━━━━━━━━━━━━━━━━━━━━━━━━━━━\u001b[0m \u001b[32m232.6/232.6 kB\u001b[0m \u001b[31m6.0 MB/s\u001b[0m eta \u001b[36m0:00:00\u001b[0m\n",
            "\u001b[?25hInstalling collected packages: PyPDF2\n",
            "Successfully installed PyPDF2-3.0.1\n"
          ]
        },
        {
          "output_type": "error",
          "ename": "FileNotFoundError",
          "evalue": "ignored",
          "traceback": [
            "\u001b[0;31m---------------------------------------------------------------------------\u001b[0m",
            "\u001b[0;31mFileNotFoundError\u001b[0m                         Traceback (most recent call last)",
            "\u001b[0;32m<ipython-input-3-4d25863f7658>\u001b[0m in \u001b[0;36m<cell line: 3>\u001b[0;34m()\u001b[0m\n\u001b[1;32m      1\u001b[0m \u001b[0mget_ipython\u001b[0m\u001b[0;34m(\u001b[0m\u001b[0;34m)\u001b[0m\u001b[0;34m.\u001b[0m\u001b[0msystem\u001b[0m\u001b[0;34m(\u001b[0m\u001b[0;34m'pip3 install PyPDF2 --upgrade --no-cache-dir'\u001b[0m\u001b[0;34m)\u001b[0m\u001b[0;34m\u001b[0m\u001b[0;34m\u001b[0m\u001b[0m\n\u001b[1;32m      2\u001b[0m \u001b[0;32mimport\u001b[0m \u001b[0mPyPDF2\u001b[0m\u001b[0;34m\u001b[0m\u001b[0;34m\u001b[0m\u001b[0m\n\u001b[0;32m----> 3\u001b[0;31m \u001b[0mmyfile\u001b[0m \u001b[0;34m=\u001b[0m \u001b[0mopen\u001b[0m\u001b[0;34m(\u001b[0m\u001b[0;34m'PDFs/US_Declaration.pdf'\u001b[0m\u001b[0;34m,\u001b[0m \u001b[0mmode\u001b[0m \u001b[0;34m=\u001b[0m \u001b[0;34m'rb'\u001b[0m\u001b[0;34m)\u001b[0m\u001b[0;34m\u001b[0m\u001b[0;34m\u001b[0m\u001b[0m\n\u001b[0m",
            "\u001b[0;31mFileNotFoundError\u001b[0m: [Errno 2] No such file or directory: 'PDFs/US_Declaration.pdf'"
          ]
        }
      ]
    },
    {
      "cell_type": "code",
      "source": [
        "pdf_reader = PyPDF2.PdfReader(myfile) # Here we create a pdf reader\n",
        "len(pdf_reader.pages)"
      ],
      "metadata": {
        "colab": {
          "base_uri": "https://localhost:8080/"
        },
        "id": "BzZ06nB27Oh8",
        "outputId": "bd2c6169-302e-4d1f-dd5a-aff900691161"
      },
      "execution_count": 60,
      "outputs": [
        {
          "output_type": "execute_result",
          "data": {
            "text/plain": [
              "5"
            ]
          },
          "metadata": {},
          "execution_count": 60
        }
      ]
    },
    {
      "cell_type": "code",
      "source": [
        "page_one = pdf_reader.pages[0]\n",
        "mytext = page_one.extract_text()\n",
        "print(page_one.extract_text())\n",
        "myfile.close()"
      ],
      "metadata": {
        "colab": {
          "base_uri": "https://localhost:8080/"
        },
        "id": "W8ncamcg7t1K",
        "outputId": "5314ff4f-7a1b-4320-ca54-a6f679719722"
      },
      "execution_count": 65,
      "outputs": [
        {
          "output_type": "stream",
          "name": "stdout",
          "text": [
            "Declaration of Independence\n",
            "IN CONGRESS, July 4, 1776.  \n",
            "The unanimous Declaration of the thirteen united States of America,  \n",
            "When in the Course of human events, it becomes necessary for one people to dissolve thepolitical bands which have connected them with another, and to assume among the powers of theearth, the separate and equal station to which the Laws of Nature and of Nature's God entitlethem, a decent respect to the opinions of mankind requires that they should declare the causeswhich impel them to the separation. We hold these truths to be self-evident, that all men are created equal, that they are endowed bytheir Creator with certain unalienable Rights, that among these are Life, Liberty and the pursuit\n",
            "of Happiness.— \u0014That to secure these rights, Governments are instituted among Men, derivingtheir just powers from the consent of the governed,—  \u0014That whenever any Form of Government\n",
            "becomes destructive of these ends, it is the Right of the People to alter or to abolish it, and to\n",
            "institute new Government, laying its foundation on such principles and organizing its powers in\n",
            "such form, as to them shall seem most likely to effect their Safety and Happiness. Prudence,indeed, will dictate that Governments long established should not be changed for light andtransient causes; and accordingly all experience hath shewn, that mankind are more disposed to\n",
            "suffer, while evils are sufferable, than to right themselves by abolishing the forms to which theyare accustomed. But when a long train of abuses and usurpations, pursuing invariably the same\n",
            "Object evinces a design to reduce them under absolute Despotism, it is their right, it is their duty,\n",
            "to throw off such Government, and to provide new Guards for their future securit y.— \u0014Such has\n",
            "been the patient sufferance of these Colonies; and such is now the necessity which constrainsthem to alter their former Systems of Government. The history of the present King of GreatBritain is a history of repeated injuries and usurpations, all having in direct object the\n",
            "establishment of an absolute Tyranny over these States. To prove this, let Facts be submitted to a\n",
            "candid world. \n",
            "He has refused his Assent to Laws, the most wholesome and necessary for the\n",
            "public good.He has forbidden his Governors to pass Laws of immediate and pressingimportance, unless suspended in their operation till his Assent should be obtained;and when so suspended, he has utterly neglected to attend to them.He has refused to pass other Laws for the accommodation of large districts of\n",
            "people, unless those people would relinquish the right of Representation in theLegislature, a right inestimable to them and formidable to tyrants only. He has called together legislative bodies at places unusual, uncomfortable, and distantfrom the depository of their public Records, for the sole purpose of fatiguing them into\n",
            "compliance with his measures.\n"
          ]
        }
      ]
    },
    {
      "cell_type": "code",
      "source": [
        "f = open('PDFs/US_Declaration.pdf', mode = 'rb')\n",
        "pdf_reader = PyPDF2.PdfReader(f)\n",
        "first_page = pdf_reader.pages[0]\n",
        "pdf_writer = PyPDF2.PdfWriter() # Here we initiate Pdf writer\n",
        "pdf_writer.add_page(first_page)"
      ],
      "metadata": {
        "colab": {
          "base_uri": "https://localhost:8080/"
        },
        "id": "evmZsezS8Rs_",
        "outputId": "cc7318b2-3980-4de0-a40d-7f24c94a4329"
      },
      "execution_count": 70,
      "outputs": [
        {
          "output_type": "execute_result",
          "data": {
            "text/plain": [
              "{'/Type': '/Page',\n",
              " '/Contents': {},\n",
              " '/MediaBox': [0, 0, 612, 792],\n",
              " '/Resources': {'/Font': {'/F9': {'/Type': '/Font',\n",
              "    '/Subtype': '/Type1',\n",
              "    '/Name': '/F9',\n",
              "    '/Encoding': '/WinAnsiEncoding',\n",
              "    '/FirstChar': 31,\n",
              "    '/LastChar': 255,\n",
              "    '/Widths': [778,\n",
              "     250,\n",
              "     333,\n",
              "     555,\n",
              "     500,\n",
              "     500,\n",
              "     1000,\n",
              "     833,\n",
              "     278,\n",
              "     333,\n",
              "     333,\n",
              "     500,\n",
              "     570,\n",
              "     250,\n",
              "     333,\n",
              "     250,\n",
              "     278,\n",
              "     500,\n",
              "     500,\n",
              "     500,\n",
              "     500,\n",
              "     500,\n",
              "     500,\n",
              "     500,\n",
              "     500,\n",
              "     500,\n",
              "     500,\n",
              "     333,\n",
              "     333,\n",
              "     570,\n",
              "     570,\n",
              "     570,\n",
              "     500,\n",
              "     930,\n",
              "     722,\n",
              "     667,\n",
              "     722,\n",
              "     722,\n",
              "     667,\n",
              "     611,\n",
              "     778,\n",
              "     778,\n",
              "     389,\n",
              "     500,\n",
              "     778,\n",
              "     667,\n",
              "     944,\n",
              "     722,\n",
              "     778,\n",
              "     611,\n",
              "     778,\n",
              "     722,\n",
              "     556,\n",
              "     667,\n",
              "     722,\n",
              "     722,\n",
              "     1000,\n",
              "     722,\n",
              "     722,\n",
              "     667,\n",
              "     333,\n",
              "     278,\n",
              "     333,\n",
              "     581,\n",
              "     500,\n",
              "     333,\n",
              "     500,\n",
              "     556,\n",
              "     444,\n",
              "     556,\n",
              "     444,\n",
              "     333,\n",
              "     500,\n",
              "     556,\n",
              "     278,\n",
              "     333,\n",
              "     556,\n",
              "     278,\n",
              "     833,\n",
              "     556,\n",
              "     500,\n",
              "     556,\n",
              "     556,\n",
              "     444,\n",
              "     389,\n",
              "     333,\n",
              "     556,\n",
              "     500,\n",
              "     722,\n",
              "     500,\n",
              "     500,\n",
              "     444,\n",
              "     394,\n",
              "     220,\n",
              "     394,\n",
              "     520,\n",
              "     778,\n",
              "     500,\n",
              "     778,\n",
              "     333,\n",
              "     500,\n",
              "     500,\n",
              "     1000,\n",
              "     500,\n",
              "     500,\n",
              "     333,\n",
              "     1000,\n",
              "     556,\n",
              "     333,\n",
              "     1000,\n",
              "     778,\n",
              "     778,\n",
              "     778,\n",
              "     778,\n",
              "     333,\n",
              "     333,\n",
              "     500,\n",
              "     500,\n",
              "     350,\n",
              "     500,\n",
              "     1000,\n",
              "     333,\n",
              "     1000,\n",
              "     389,\n",
              "     333,\n",
              "     722,\n",
              "     778,\n",
              "     778,\n",
              "     722,\n",
              "     250,\n",
              "     333,\n",
              "     500,\n",
              "     500,\n",
              "     500,\n",
              "     500,\n",
              "     220,\n",
              "     500,\n",
              "     333,\n",
              "     747,\n",
              "     300,\n",
              "     500,\n",
              "     570,\n",
              "     333,\n",
              "     747,\n",
              "     500,\n",
              "     400,\n",
              "     549,\n",
              "     300,\n",
              "     300,\n",
              "     333,\n",
              "     576,\n",
              "     540,\n",
              "     250,\n",
              "     333,\n",
              "     300,\n",
              "     330,\n",
              "     500,\n",
              "     750,\n",
              "     750,\n",
              "     750,\n",
              "     500,\n",
              "     722,\n",
              "     722,\n",
              "     722,\n",
              "     722,\n",
              "     722,\n",
              "     722,\n",
              "     1000,\n",
              "     722,\n",
              "     667,\n",
              "     667,\n",
              "     667,\n",
              "     667,\n",
              "     389,\n",
              "     389,\n",
              "     389,\n",
              "     389,\n",
              "     722,\n",
              "     722,\n",
              "     778,\n",
              "     778,\n",
              "     778,\n",
              "     778,\n",
              "     778,\n",
              "     570,\n",
              "     778,\n",
              "     722,\n",
              "     722,\n",
              "     722,\n",
              "     722,\n",
              "     722,\n",
              "     611,\n",
              "     556,\n",
              "     500,\n",
              "     500,\n",
              "     500,\n",
              "     500,\n",
              "     500,\n",
              "     500,\n",
              "     722,\n",
              "     444,\n",
              "     444,\n",
              "     444,\n",
              "     444,\n",
              "     444,\n",
              "     278,\n",
              "     278,\n",
              "     278,\n",
              "     278,\n",
              "     500,\n",
              "     556,\n",
              "     500,\n",
              "     500,\n",
              "     500,\n",
              "     500,\n",
              "     500,\n",
              "     549,\n",
              "     500,\n",
              "     556,\n",
              "     556,\n",
              "     556,\n",
              "     556,\n",
              "     500,\n",
              "     556,\n",
              "     500],\n",
              "    '/BaseFont': '/TimesNewRomanPS-BoldMT',\n",
              "    '/FontDescriptor': {'/Type': '/FontDescriptor',\n",
              "     '/FontName': '/TimesNewRomanPS-BoldMT',\n",
              "     '/Ascent': 677,\n",
              "     '/CapHeight': 500,\n",
              "     '/Descent': -216,\n",
              "     '/Flags': 34,\n",
              "     '/FontBBox': [-558, -307, 2034, 1026],\n",
              "     '/ItalicAngle': 0,\n",
              "     '/StemV': 0,\n",
              "     '/AvgWidth': 427,\n",
              "     '/Leading': 150,\n",
              "     '/MaxWidth': 2592,\n",
              "     '/XHeight': 250,\n",
              "     '/FontFile': {'/Filter': ['/ASCII85Decode'],\n",
              "      '/Length1': 4690,\n",
              "      '/Length2': 46374,\n",
              "      '/Length3': 532}}},\n",
              "   '/F6': {'/Type': '/Font',\n",
              "    '/Subtype': '/Type1',\n",
              "    '/Name': '/F6',\n",
              "    '/Encoding': '/WinAnsiEncoding',\n",
              "    '/FirstChar': 31,\n",
              "    '/LastChar': 255,\n",
              "    '/Widths': [778,\n",
              "     250,\n",
              "     333,\n",
              "     408,\n",
              "     500,\n",
              "     500,\n",
              "     833,\n",
              "     778,\n",
              "     180,\n",
              "     333,\n",
              "     333,\n",
              "     500,\n",
              "     564,\n",
              "     250,\n",
              "     333,\n",
              "     250,\n",
              "     278,\n",
              "     500,\n",
              "     500,\n",
              "     500,\n",
              "     500,\n",
              "     500,\n",
              "     500,\n",
              "     500,\n",
              "     500,\n",
              "     500,\n",
              "     500,\n",
              "     278,\n",
              "     278,\n",
              "     564,\n",
              "     564,\n",
              "     564,\n",
              "     444,\n",
              "     921,\n",
              "     722,\n",
              "     667,\n",
              "     667,\n",
              "     722,\n",
              "     611,\n",
              "     556,\n",
              "     722,\n",
              "     722,\n",
              "     333,\n",
              "     389,\n",
              "     722,\n",
              "     611,\n",
              "     889,\n",
              "     722,\n",
              "     722,\n",
              "     556,\n",
              "     722,\n",
              "     667,\n",
              "     556,\n",
              "     611,\n",
              "     722,\n",
              "     722,\n",
              "     944,\n",
              "     722,\n",
              "     722,\n",
              "     611,\n",
              "     333,\n",
              "     278,\n",
              "     333,\n",
              "     469,\n",
              "     500,\n",
              "     333,\n",
              "     444,\n",
              "     500,\n",
              "     444,\n",
              "     500,\n",
              "     444,\n",
              "     333,\n",
              "     500,\n",
              "     500,\n",
              "     278,\n",
              "     278,\n",
              "     500,\n",
              "     278,\n",
              "     778,\n",
              "     500,\n",
              "     500,\n",
              "     500,\n",
              "     500,\n",
              "     333,\n",
              "     389,\n",
              "     278,\n",
              "     500,\n",
              "     500,\n",
              "     722,\n",
              "     500,\n",
              "     500,\n",
              "     444,\n",
              "     480,\n",
              "     200,\n",
              "     480,\n",
              "     541,\n",
              "     778,\n",
              "     500,\n",
              "     778,\n",
              "     333,\n",
              "     500,\n",
              "     444,\n",
              "     1000,\n",
              "     500,\n",
              "     500,\n",
              "     333,\n",
              "     1000,\n",
              "     556,\n",
              "     333,\n",
              "     889,\n",
              "     778,\n",
              "     778,\n",
              "     778,\n",
              "     778,\n",
              "     333,\n",
              "     333,\n",
              "     444,\n",
              "     444,\n",
              "     350,\n",
              "     500,\n",
              "     1000,\n",
              "     333,\n",
              "     980,\n",
              "     389,\n",
              "     333,\n",
              "     722,\n",
              "     778,\n",
              "     778,\n",
              "     722,\n",
              "     250,\n",
              "     333,\n",
              "     500,\n",
              "     500,\n",
              "     500,\n",
              "     500,\n",
              "     200,\n",
              "     500,\n",
              "     333,\n",
              "     760,\n",
              "     276,\n",
              "     500,\n",
              "     564,\n",
              "     333,\n",
              "     760,\n",
              "     500,\n",
              "     400,\n",
              "     549,\n",
              "     300,\n",
              "     300,\n",
              "     333,\n",
              "     576,\n",
              "     453,\n",
              "     250,\n",
              "     333,\n",
              "     300,\n",
              "     310,\n",
              "     500,\n",
              "     750,\n",
              "     750,\n",
              "     750,\n",
              "     444,\n",
              "     722,\n",
              "     722,\n",
              "     722,\n",
              "     722,\n",
              "     722,\n",
              "     722,\n",
              "     889,\n",
              "     667,\n",
              "     611,\n",
              "     611,\n",
              "     611,\n",
              "     611,\n",
              "     333,\n",
              "     333,\n",
              "     333,\n",
              "     333,\n",
              "     722,\n",
              "     722,\n",
              "     722,\n",
              "     722,\n",
              "     722,\n",
              "     722,\n",
              "     722,\n",
              "     564,\n",
              "     722,\n",
              "     722,\n",
              "     722,\n",
              "     722,\n",
              "     722,\n",
              "     722,\n",
              "     556,\n",
              "     500,\n",
              "     444,\n",
              "     444,\n",
              "     444,\n",
              "     444,\n",
              "     444,\n",
              "     444,\n",
              "     667,\n",
              "     444,\n",
              "     444,\n",
              "     444,\n",
              "     444,\n",
              "     444,\n",
              "     278,\n",
              "     278,\n",
              "     278,\n",
              "     278,\n",
              "     500,\n",
              "     500,\n",
              "     500,\n",
              "     500,\n",
              "     500,\n",
              "     500,\n",
              "     500,\n",
              "     549,\n",
              "     500,\n",
              "     500,\n",
              "     500,\n",
              "     500,\n",
              "     500,\n",
              "     500,\n",
              "     500,\n",
              "     500],\n",
              "    '/BaseFont': '/TimesNewRomanPSMT',\n",
              "    '/FontDescriptor': {'/Type': '/FontDescriptor',\n",
              "     '/FontName': '/TimesNewRomanPSMT',\n",
              "     '/Ascent': 693,\n",
              "     '/CapHeight': 500,\n",
              "     '/Descent': -216,\n",
              "     '/Flags': 34,\n",
              "     '/FontBBox': [-568, -307, 2028, 1007],\n",
              "     '/ItalicAngle': 0,\n",
              "     '/StemV': 0,\n",
              "     '/AvgWidth': 401,\n",
              "     '/Leading': 150,\n",
              "     '/MaxWidth': 2597,\n",
              "     '/XHeight': 250,\n",
              "     '/FontFile': {'/Filter': ['/ASCII85Decode'],\n",
              "      '/Length1': 4680,\n",
              "      '/Length2': 46205,\n",
              "      '/Length3': 532}}}},\n",
              "  '/ProcSet': ['/PDF', '/Text']},\n",
              " '/Parent': {'/Type': '/Pages',\n",
              "  '/Count': 1,\n",
              "  '/Kids': [IndirectObject(4, 0, 140071990978080)]}}"
            ]
          },
          "metadata": {},
          "execution_count": 70
        }
      ]
    },
    {
      "cell_type": "code",
      "source": [
        "pdf_output = open('MY_BRAND_NEW.pdf', mode = 'wb') # Write binary command"
      ],
      "metadata": {
        "id": "8rVKr1j-9AuM"
      },
      "execution_count": 80,
      "outputs": []
    },
    {
      "cell_type": "code",
      "source": [
        "pdf_writer.write(pdf_output)"
      ],
      "metadata": {
        "colab": {
          "base_uri": "https://localhost:8080/"
        },
        "id": "6ZYIACu_9s_4",
        "outputId": "6b7c446d-ce21-4f5c-af01-94349934f844"
      },
      "execution_count": 81,
      "outputs": [
        {
          "output_type": "execute_result",
          "data": {
            "text/plain": [
              "(False, <_io.BufferedWriter name='MY_BRAND_NEW.pdf'>)"
            ]
          },
          "metadata": {},
          "execution_count": 81
        }
      ]
    },
    {
      "cell_type": "code",
      "source": [
        "pdf_output.close()\n",
        "f.close()"
      ],
      "metadata": {
        "id": "Z1tUySF1940s"
      },
      "execution_count": 82,
      "outputs": []
    },
    {
      "cell_type": "code",
      "source": [
        "brand_new = open('MY_BRAND_NEW.pdf', 'rb')\n",
        "\n",
        "pdf_reader = PyPDF2.PdfReader(brand_new)\n",
        "len(pdf_reader.pages)"
      ],
      "metadata": {
        "colab": {
          "base_uri": "https://localhost:8080/"
        },
        "id": "GeycEFCd-S1I",
        "outputId": "5744ccd7-29ed-4ba0-e5eb-86af6c20be78"
      },
      "execution_count": 85,
      "outputs": [
        {
          "output_type": "execute_result",
          "data": {
            "text/plain": [
              "1"
            ]
          },
          "metadata": {},
          "execution_count": 85
        }
      ]
    },
    {
      "cell_type": "code",
      "source": [
        "f = open('PDFs/US_Declaration.pdf', mode = 'rb')\n",
        "pdf_text = [0]\n",
        "pdf_reader = PyPDF2.PdfReader(f)\n",
        "\n",
        "for p in range(len(pdf_reader.pages)):\n",
        "\n",
        "  page = pdf_reader.pages[p]\n",
        "\n",
        "  pdf_text.append(page.extract_text())\n",
        "\n",
        "f.close()"
      ],
      "metadata": {
        "id": "wNBhrhNl-qm3"
      },
      "execution_count": 92,
      "outputs": []
    },
    {
      "cell_type": "code",
      "source": [
        "pdf_text"
      ],
      "metadata": {
        "colab": {
          "base_uri": "https://localhost:8080/"
        },
        "id": "GBFRKC5a_hL9",
        "outputId": "cd6921d3-1302-4d20-9981-fbd9b992f776"
      },
      "execution_count": 93,
      "outputs": [
        {
          "output_type": "execute_result",
          "data": {
            "text/plain": [
              "[0,\n",
              " \"Declaration of Independence\\nIN CONGRESS, July 4, 1776.  \\nThe unanimous Declaration of the thirteen united States of America,  \\nWhen in the Course of human events, it becomes necessary for one people to dissolve thepolitical bands which have connected them with another, and to assume among the powers of theearth, the separate and equal station to which the Laws of Nature and of Nature's God entitlethem, a decent respect to the opinions of mankind requires that they should declare the causeswhich impel them to the separation. We hold these truths to be self-evident, that all men are created equal, that they are endowed bytheir Creator with certain unalienable Rights, that among these are Life, Liberty and the pursuit\\nof Happiness.— \\x14That to secure these rights, Governments are instituted among Men, derivingtheir just powers from the consent of the governed,—  \\x14That whenever any Form of Government\\nbecomes destructive of these ends, it is the Right of the People to alter or to abolish it, and to\\ninstitute new Government, laying its foundation on such principles and organizing its powers in\\nsuch form, as to them shall seem most likely to effect their Safety and Happiness. Prudence,indeed, will dictate that Governments long established should not be changed for light andtransient causes; and accordingly all experience hath shewn, that mankind are more disposed to\\nsuffer, while evils are sufferable, than to right themselves by abolishing the forms to which theyare accustomed. But when a long train of abuses and usurpations, pursuing invariably the same\\nObject evinces a design to reduce them under absolute Despotism, it is their right, it is their duty,\\nto throw off such Government, and to provide new Guards for their future securit y.— \\x14Such has\\nbeen the patient sufferance of these Colonies; and such is now the necessity which constrainsthem to alter their former Systems of Government. The history of the present King of GreatBritain is a history of repeated injuries and usurpations, all having in direct object the\\nestablishment of an absolute Tyranny over these States. To prove this, let Facts be submitted to a\\ncandid world. \\nHe has refused his Assent to Laws, the most wholesome and necessary for the\\npublic good.He has forbidden his Governors to pass Laws of immediate and pressingimportance, unless suspended in their operation till his Assent should be obtained;and when so suspended, he has utterly neglected to attend to them.He has refused to pass other Laws for the accommodation of large districts of\\npeople, unless those people would relinquish the right of Representation in theLegislature, a right inestimable to them and formidable to tyrants only. He has called together legislative bodies at places unusual, uncomfortable, and distantfrom the depository of their public Records, for the sole purpose of fatiguing them into\\ncompliance with his measures.\",\n",
              " 'He has dissolved Re presentative Ho uses repeatedly , for opposing wit h manly\\nfirmness his invasions on the rights of the people.\\nHe has refused for a long time, after such dissolutions, to cause others to be\\nelected; whereby the Leg islative powers, incapable of Annihilation, have returned\\nto the People at lar ge for their exe rcise; the State r emaining in the me an time\\nexposed to all the dangers of invasion from without, and convulsions within.\\nHe has endeavou red to prevent the  population of these  States; for that pur pose\\nobstructing the L aws for Natural ization of Foreig ners; refusing  to pass others to\\nencourage their migrations hither, and raising the conditions of new\\nAppropriations of  Lands.\\nHe has obstructed the Administration of Justice, by refusing his Assent to Laws\\nfor establishing  Judiciary pow ers.\\nHe has made Judge s dependent on his Wil l alone, for the te nure of their off ices,\\nand the amount and  payment of t heir salaries.\\nHe has erected  a multitude of New  Offices, and se nt hither swarms of  Officers to\\nharrass our people, and eat out their substance.\\nHe has kept among us, in times of peace, Standing Armies without the Consent of\\nour legislature s.\\nHe has affected to render the Military independent of a nd superior to the Civil power.\\nHe has combined with others to subject us to a jurisdiction foreign to our\\nconstitution, and unacknowledged by our laws; giving his Assent to their Acts of\\npretended Legislation:\\nFor Quartering  large bodies of  armed troops amon g us:\\nFor protecting them, by a mock Trial, from punishment for any  Murders which\\nthey should c ommit on the Inha bitants of these Sta tes:\\nFor cutting off our Trade with all parts of the world:\\nFor imposing Taxe s on us without our Con sent: For deprivi ng us in many  cases,\\nof the benefits of T rial by J ury:\\nFor transporting us beyond Seas to be tried for pretended of fences\\nFor abolishing the free System of English L aws in a neighbouring Province,\\nestablishing therein an Arbitrary government, and e nlarging its Boundaries so as',\n",
              " 'to render it at onc e an example and fi t instrument for intr oducing the same\\nabsolute rule into  these Colonies:\\nFor taking away our Charters, abolishing our most valuable L aws, and altering\\nfundamentally  the Forms of our G overnments:\\nFor suspending  our own Leg islatures, and de claring themse lves invested with\\npower to legislate for us in all cases whatsoever.\\nHe has abdicated Government here, by declar ing us out of his Protection and\\nwaging War ag ainst us.\\nHe has plundered our seas, ravaged our Coasts, burnt our towns, and destroy ed the\\nlives of our people.\\nHe is at this time transporting large Armies of foreign Mercenaries to compleat\\nthe works of death, desolation and tyranny , already begun with circumstances of\\nCruelty & pe rfidy scar cely para lleled in the most ba rbarous ages,  and totally\\nunworthy of the Head of a civilized nation.\\nHe has constrained our fellow Citizens taken Captive on the high Seas to bear\\nArms against their Country, to become the executioners of their friends and\\nBrethren, or to  fall themselves by  their Hands.\\nHe has excited domestic insurrections amongst us, and has endeavoured to bring\\non the inhabitants of our frontiers, the merciless Indian Savages, whose known\\nrule of warfare, is an undistinguished destruction of all ages, sexes and conditions. \\nIn every  stage of these O ppressions We have  Petitioned for Redr ess in the most humble  terms:\\nOur repeated Pe titions have been a nswered only  by repeate d injury. A Pr ince whose char acter is\\nthus marked by every ac t which may define a Tyra nt, is unfit to be the ruler of a free people. \\nNor have We been wanting in attentions to our Brittish brethren. We have warned them from\\ntime to time  of attemp ts by th eir legi slature t o extend an  unwarra ntable jur isdiction  over us. We\\nhave reminded them of the circumstances of our emigration and settlement here. We have\\nappealed to their native justice and magnanimity, and we have c onjured them by the ties of our\\ncommon kindred to disavow these usurpations, which, would inevitably interrupt our\\nconnections and correspondence. They too have bee n deaf to the voice of justice and of\\nconsanguinity. We must, therefore, acquiesce in the necessity , which denounces our Separation,\\nand hold them, as we hold the rest of mankind, Enemies in War, in Peace Friends. \\nWe, therefore, t he Representativ es of the united Sta tes of America, i n General Congr ess,\\nAssembled, appealing to the Supreme Judge of the world for the rectitude of our intentions, do,\\nin the Name, and by Authority of the g ood People of these Colonies, solemnly publish and\\ndeclare, That th ese United Colonie s are, and of Rig ht ought to be Fre e and Indepe ndent States;\\nthat they are Absolved from all Allegiance to the British Crown, and that a ll political connection',\n",
              " 'between them and the State of Great Britain, is and ought to be totally dissolved; and that as Freeand Independent States, they have full Power to levy War, conclude Peace, contract Alliances,\\nestablish Commerce, and to do all other Acts and Things which Independent States may of rightdo. And for the support of this Declaration, with a firm reliance on the protection of divineProvidence, we mutually pledge to each other our Lives, our Fortunes and our sacred Honor.[The 56 signatures on the Declaration were arranged in six columns: ] \\n[Column 1] Georgia:\\n   Button Gwinnett\\n   Lyman Hall\\n   George Walton \\n[Column 2] North Carolina:\\n   William Hooper\\n   Joseph Hewes\\n   John Penn\\n South Carolina:\\n   Edward Ru tledge\\n   Thomas Heyward, Jr.\\n  Thomas Lynch, Jr.\\n  Arthur Middleton \\n[Column 3] Massachusetts:\\n   John Hancock Maryland:\\n   Samuel Chase   William Paca   Thomas Stone   Charles Carroll of Carrollton Virginia:\\n   George Wythe   Richard Henry Lee   Thomas Jefferson   Benjamin Harrison   Thomas Nelson, Jr.   Francis Lightfoot Lee   Carter Braxton [Column 4] Pennsylvania:\\n  Robert Morris   Benjamin Rush\\n   Benjamin Fran klin\\n   John Morton',\n",
              " '   George Clymer\\n   James Smith\\n   George Taylor\\n   James Wilson\\n   George Ross\\n Delaware:\\n   Caesar Rodney\\n   George Read\\n   Thomas McKean \\n[Column 5] New York:\\n   Wi lliam Floyd\\n   Philip Livingston\\n   Francis L ewis\\n   Lewis Morris\\n New Jersey:\\n   Richard Stockton\\n   John Witherspoon\\n   Francis Hopkinson\\n   John Hart\\n   Abraham Clark \\n[Column 6] New Hampshire:\\n   Josiah Bartlett\\n   William Whipple\\n Massachusetts:\\n   Samuel Adams\\n   John Adams\\n   Robert Treat Paine\\n   Elbridge Gerry\\n Rhode Island:\\n   Stephen Hopkins\\n   William Ellery\\n Connecticut:\\n   Roger Sherman\\n   Samuel Huntington\\n   William Williams\\n   Oliver Wolcott\\n New Hampshire:\\n Matthew Thornton\\n ']"
            ]
          },
          "metadata": {},
          "execution_count": 93
        }
      ]
    },
    {
      "cell_type": "code",
      "source": [
        "for page in pdf_text:\n",
        "  print(page)\n",
        "  print('\\n')\n",
        "  print('\\n')\n",
        "  print('\\n')\n",
        "  print('\\n')"
      ],
      "metadata": {
        "colab": {
          "base_uri": "https://localhost:8080/"
        },
        "id": "i-SLS1ix_rc8",
        "outputId": "d98238ea-8b64-4253-adf3-522d1db82a05"
      },
      "execution_count": 95,
      "outputs": [
        {
          "output_type": "stream",
          "name": "stdout",
          "text": [
            "0\n",
            "\n",
            "\n",
            "\n",
            "\n",
            "\n",
            "\n",
            "\n",
            "\n",
            "Declaration of Independence\n",
            "IN CONGRESS, July 4, 1776.  \n",
            "The unanimous Declaration of the thirteen united States of America,  \n",
            "When in the Course of human events, it becomes necessary for one people to dissolve thepolitical bands which have connected them with another, and to assume among the powers of theearth, the separate and equal station to which the Laws of Nature and of Nature's God entitlethem, a decent respect to the opinions of mankind requires that they should declare the causeswhich impel them to the separation. We hold these truths to be self-evident, that all men are created equal, that they are endowed bytheir Creator with certain unalienable Rights, that among these are Life, Liberty and the pursuit\n",
            "of Happiness.— \u0014That to secure these rights, Governments are instituted among Men, derivingtheir just powers from the consent of the governed,—  \u0014That whenever any Form of Government\n",
            "becomes destructive of these ends, it is the Right of the People to alter or to abolish it, and to\n",
            "institute new Government, laying its foundation on such principles and organizing its powers in\n",
            "such form, as to them shall seem most likely to effect their Safety and Happiness. Prudence,indeed, will dictate that Governments long established should not be changed for light andtransient causes; and accordingly all experience hath shewn, that mankind are more disposed to\n",
            "suffer, while evils are sufferable, than to right themselves by abolishing the forms to which theyare accustomed. But when a long train of abuses and usurpations, pursuing invariably the same\n",
            "Object evinces a design to reduce them under absolute Despotism, it is their right, it is their duty,\n",
            "to throw off such Government, and to provide new Guards for their future securit y.— \u0014Such has\n",
            "been the patient sufferance of these Colonies; and such is now the necessity which constrainsthem to alter their former Systems of Government. The history of the present King of GreatBritain is a history of repeated injuries and usurpations, all having in direct object the\n",
            "establishment of an absolute Tyranny over these States. To prove this, let Facts be submitted to a\n",
            "candid world. \n",
            "He has refused his Assent to Laws, the most wholesome and necessary for the\n",
            "public good.He has forbidden his Governors to pass Laws of immediate and pressingimportance, unless suspended in their operation till his Assent should be obtained;and when so suspended, he has utterly neglected to attend to them.He has refused to pass other Laws for the accommodation of large districts of\n",
            "people, unless those people would relinquish the right of Representation in theLegislature, a right inestimable to them and formidable to tyrants only. He has called together legislative bodies at places unusual, uncomfortable, and distantfrom the depository of their public Records, for the sole purpose of fatiguing them into\n",
            "compliance with his measures.\n",
            "\n",
            "\n",
            "\n",
            "\n",
            "\n",
            "\n",
            "\n",
            "\n",
            "He has dissolved Re presentative Ho uses repeatedly , for opposing wit h manly\n",
            "firmness his invasions on the rights of the people.\n",
            "He has refused for a long time, after such dissolutions, to cause others to be\n",
            "elected; whereby the Leg islative powers, incapable of Annihilation, have returned\n",
            "to the People at lar ge for their exe rcise; the State r emaining in the me an time\n",
            "exposed to all the dangers of invasion from without, and convulsions within.\n",
            "He has endeavou red to prevent the  population of these  States; for that pur pose\n",
            "obstructing the L aws for Natural ization of Foreig ners; refusing  to pass others to\n",
            "encourage their migrations hither, and raising the conditions of new\n",
            "Appropriations of  Lands.\n",
            "He has obstructed the Administration of Justice, by refusing his Assent to Laws\n",
            "for establishing  Judiciary pow ers.\n",
            "He has made Judge s dependent on his Wil l alone, for the te nure of their off ices,\n",
            "and the amount and  payment of t heir salaries.\n",
            "He has erected  a multitude of New  Offices, and se nt hither swarms of  Officers to\n",
            "harrass our people, and eat out their substance.\n",
            "He has kept among us, in times of peace, Standing Armies without the Consent of\n",
            "our legislature s.\n",
            "He has affected to render the Military independent of a nd superior to the Civil power.\n",
            "He has combined with others to subject us to a jurisdiction foreign to our\n",
            "constitution, and unacknowledged by our laws; giving his Assent to their Acts of\n",
            "pretended Legislation:\n",
            "For Quartering  large bodies of  armed troops amon g us:\n",
            "For protecting them, by a mock Trial, from punishment for any  Murders which\n",
            "they should c ommit on the Inha bitants of these Sta tes:\n",
            "For cutting off our Trade with all parts of the world:\n",
            "For imposing Taxe s on us without our Con sent: For deprivi ng us in many  cases,\n",
            "of the benefits of T rial by J ury:\n",
            "For transporting us beyond Seas to be tried for pretended of fences\n",
            "For abolishing the free System of English L aws in a neighbouring Province,\n",
            "establishing therein an Arbitrary government, and e nlarging its Boundaries so as\n",
            "\n",
            "\n",
            "\n",
            "\n",
            "\n",
            "\n",
            "\n",
            "\n",
            "to render it at onc e an example and fi t instrument for intr oducing the same\n",
            "absolute rule into  these Colonies:\n",
            "For taking away our Charters, abolishing our most valuable L aws, and altering\n",
            "fundamentally  the Forms of our G overnments:\n",
            "For suspending  our own Leg islatures, and de claring themse lves invested with\n",
            "power to legislate for us in all cases whatsoever.\n",
            "He has abdicated Government here, by declar ing us out of his Protection and\n",
            "waging War ag ainst us.\n",
            "He has plundered our seas, ravaged our Coasts, burnt our towns, and destroy ed the\n",
            "lives of our people.\n",
            "He is at this time transporting large Armies of foreign Mercenaries to compleat\n",
            "the works of death, desolation and tyranny , already begun with circumstances of\n",
            "Cruelty & pe rfidy scar cely para lleled in the most ba rbarous ages,  and totally\n",
            "unworthy of the Head of a civilized nation.\n",
            "He has constrained our fellow Citizens taken Captive on the high Seas to bear\n",
            "Arms against their Country, to become the executioners of their friends and\n",
            "Brethren, or to  fall themselves by  their Hands.\n",
            "He has excited domestic insurrections amongst us, and has endeavoured to bring\n",
            "on the inhabitants of our frontiers, the merciless Indian Savages, whose known\n",
            "rule of warfare, is an undistinguished destruction of all ages, sexes and conditions. \n",
            "In every  stage of these O ppressions We have  Petitioned for Redr ess in the most humble  terms:\n",
            "Our repeated Pe titions have been a nswered only  by repeate d injury. A Pr ince whose char acter is\n",
            "thus marked by every ac t which may define a Tyra nt, is unfit to be the ruler of a free people. \n",
            "Nor have We been wanting in attentions to our Brittish brethren. We have warned them from\n",
            "time to time  of attemp ts by th eir legi slature t o extend an  unwarra ntable jur isdiction  over us. We\n",
            "have reminded them of the circumstances of our emigration and settlement here. We have\n",
            "appealed to their native justice and magnanimity, and we have c onjured them by the ties of our\n",
            "common kindred to disavow these usurpations, which, would inevitably interrupt our\n",
            "connections and correspondence. They too have bee n deaf to the voice of justice and of\n",
            "consanguinity. We must, therefore, acquiesce in the necessity , which denounces our Separation,\n",
            "and hold them, as we hold the rest of mankind, Enemies in War, in Peace Friends. \n",
            "We, therefore, t he Representativ es of the united Sta tes of America, i n General Congr ess,\n",
            "Assembled, appealing to the Supreme Judge of the world for the rectitude of our intentions, do,\n",
            "in the Name, and by Authority of the g ood People of these Colonies, solemnly publish and\n",
            "declare, That th ese United Colonie s are, and of Rig ht ought to be Fre e and Indepe ndent States;\n",
            "that they are Absolved from all Allegiance to the British Crown, and that a ll political connection\n",
            "\n",
            "\n",
            "\n",
            "\n",
            "\n",
            "\n",
            "\n",
            "\n",
            "between them and the State of Great Britain, is and ought to be totally dissolved; and that as Freeand Independent States, they have full Power to levy War, conclude Peace, contract Alliances,\n",
            "establish Commerce, and to do all other Acts and Things which Independent States may of rightdo. And for the support of this Declaration, with a firm reliance on the protection of divineProvidence, we mutually pledge to each other our Lives, our Fortunes and our sacred Honor.[The 56 signatures on the Declaration were arranged in six columns: ] \n",
            "[Column 1] Georgia:\n",
            "   Button Gwinnett\n",
            "   Lyman Hall\n",
            "   George Walton \n",
            "[Column 2] North Carolina:\n",
            "   William Hooper\n",
            "   Joseph Hewes\n",
            "   John Penn\n",
            " South Carolina:\n",
            "   Edward Ru tledge\n",
            "   Thomas Heyward, Jr.\n",
            "  Thomas Lynch, Jr.\n",
            "  Arthur Middleton \n",
            "[Column 3] Massachusetts:\n",
            "   John Hancock Maryland:\n",
            "   Samuel Chase   William Paca   Thomas Stone   Charles Carroll of Carrollton Virginia:\n",
            "   George Wythe   Richard Henry Lee   Thomas Jefferson   Benjamin Harrison   Thomas Nelson, Jr.   Francis Lightfoot Lee   Carter Braxton [Column 4] Pennsylvania:\n",
            "  Robert Morris   Benjamin Rush\n",
            "   Benjamin Fran klin\n",
            "   John Morton\n",
            "\n",
            "\n",
            "\n",
            "\n",
            "\n",
            "\n",
            "\n",
            "\n",
            "   George Clymer\n",
            "   James Smith\n",
            "   George Taylor\n",
            "   James Wilson\n",
            "   George Ross\n",
            " Delaware:\n",
            "   Caesar Rodney\n",
            "   George Read\n",
            "   Thomas McKean \n",
            "[Column 5] New York:\n",
            "   Wi lliam Floyd\n",
            "   Philip Livingston\n",
            "   Francis L ewis\n",
            "   Lewis Morris\n",
            " New Jersey:\n",
            "   Richard Stockton\n",
            "   John Witherspoon\n",
            "   Francis Hopkinson\n",
            "   John Hart\n",
            "   Abraham Clark \n",
            "[Column 6] New Hampshire:\n",
            "   Josiah Bartlett\n",
            "   William Whipple\n",
            " Massachusetts:\n",
            "   Samuel Adams\n",
            "   John Adams\n",
            "   Robert Treat Paine\n",
            "   Elbridge Gerry\n",
            " Rhode Island:\n",
            "   Stephen Hopkins\n",
            "   William Ellery\n",
            " Connecticut:\n",
            "   Roger Sherman\n",
            "   Samuel Huntington\n",
            "   William Williams\n",
            "   Oliver Wolcott\n",
            " New Hampshire:\n",
            " Matthew Thornton\n",
            " \n",
            "\n",
            "\n",
            "\n",
            "\n",
            "\n",
            "\n",
            "\n",
            "\n"
          ]
        }
      ]
    },
    {
      "cell_type": "markdown",
      "source": [
        "## 1.2 Regular Expressions\n",
        "\n",
        "\n",
        "*   The key thing to keep in mind is that every character type has a corresponding pattern code\n",
        "*   For example, digits have the placeholder pattern code of \\d\n",
        "*   The use of backslash allows python to understand that it is a special code and not the letter \"d\"\n",
        "*   Regular expressions allow for pattern searrching in a text document\n",
        "  *  For example, **r'\\d{3}-\\d{3}-\\d{4}** refers to **3 digits dash another 3 digits dash another 4 digits**.  "
      ],
      "metadata": {
        "id": "L22nr4MLABuj"
      }
    },
    {
      "cell_type": "code",
      "source": [
        "text = \"the phone number of the agetn is 408-555-1234. Call soon!\""
      ],
      "metadata": {
        "id": "rh8puvw8_3Od"
      },
      "execution_count": 96,
      "outputs": []
    },
    {
      "cell_type": "code",
      "source": [
        "\"408-555-1234\" in text"
      ],
      "metadata": {
        "colab": {
          "base_uri": "https://localhost:8080/"
        },
        "id": "yYjJyEa7Bo10",
        "outputId": "1f7d35e4-dc3c-446a-85b1-60d0e11d1fb3"
      },
      "execution_count": 97,
      "outputs": [
        {
          "output_type": "execute_result",
          "data": {
            "text/plain": [
              "True"
            ]
          },
          "metadata": {},
          "execution_count": 97
        }
      ]
    },
    {
      "cell_type": "code",
      "source": [
        "import re # Regular expression library\n",
        "pattern = \"phone\"\n",
        "my_match = re.search(pattern, text)\n",
        "my_match.span()"
      ],
      "metadata": {
        "colab": {
          "base_uri": "https://localhost:8080/"
        },
        "id": "lgc5yxEYBtjI",
        "outputId": "93f48ce4-2887-4d5c-aab7-78287a068666"
      },
      "execution_count": 4,
      "outputs": [
        {
          "output_type": "execute_result",
          "data": {
            "text/plain": [
              "(7, 12)"
            ]
          },
          "metadata": {},
          "execution_count": 4
        }
      ]
    },
    {
      "cell_type": "code",
      "source": [
        "my_match.start()\n",
        "my_match.end()"
      ],
      "metadata": {
        "colab": {
          "base_uri": "https://localhost:8080/"
        },
        "id": "TWYsb42lCFtK",
        "outputId": "576c2cd4-47bf-412f-f8cf-0c8c1d11ba41"
      },
      "execution_count": 100,
      "outputs": [
        {
          "output_type": "execute_result",
          "data": {
            "text/plain": [
              "9"
            ]
          },
          "metadata": {},
          "execution_count": 100
        }
      ]
    },
    {
      "cell_type": "code",
      "source": [
        "# To find all matches we use re.findall()\n",
        "text = \"my phone is a new phone\"\n",
        "re.findall(\"phone\",text)"
      ],
      "metadata": {
        "colab": {
          "base_uri": "https://localhost:8080/"
        },
        "id": "1sX6WVvNCSbA",
        "outputId": "28698057-b7cc-466e-b674-304ed529041b"
      },
      "execution_count": 102,
      "outputs": [
        {
          "output_type": "execute_result",
          "data": {
            "text/plain": [
              "['phone', 'phone']"
            ]
          },
          "metadata": {},
          "execution_count": 102
        }
      ]
    },
    {
      "cell_type": "code",
      "source": [
        "for match in re.finditer(\"phone\", text):\n",
        "  print(match.span())"
      ],
      "metadata": {
        "colab": {
          "base_uri": "https://localhost:8080/"
        },
        "id": "A9N5TVDFCqf2",
        "outputId": "19894847-df15-4c85-ae75-bae7a716933f"
      },
      "execution_count": 103,
      "outputs": [
        {
          "output_type": "stream",
          "name": "stdout",
          "text": [
            "(3, 8)\n",
            "(18, 23)\n"
          ]
        }
      ]
    },
    {
      "cell_type": "markdown",
      "source": [
        "**Identifiers for Characters in Patterns**\n",
        "\n",
        "Characters such as a digit or a single string have different codes that represent them. You can use these to build up a pattern string. Notice how these make heavy use of the backwards slash \\ . Because of this when defining a pattern string for regular expression we use the format:\n",
        "\n",
        "    r'mypattern'\n",
        "    \n",
        "placing the r in front of the string allows python to understand that the \\ in the pattern string are not meant to be escape slashes.\n",
        "\n",
        "Below you can find a table of all the possible identifiers:\n",
        "\n",
        "<table ><tr><th>Character</th><th>Description</th><th>Example Pattern Code</th><th >Exammple Match</th></tr>\n",
        "\n",
        "<tr ><td><span >\\d</span></td><td>A digit</td><td>file_\\d\\d</td><td>file_25</td></tr>\n",
        "\n",
        "<tr ><td><span >\\w</span></td><td>Alphanumeric</td><td>\\w-\\w\\w\\w</td><td>A-b_1</td></tr>\n",
        "\n",
        "\n",
        "\n",
        "<tr ><td><span >\\s</span></td><td>White space</td><td>a\\sb\\sc</td><td>a b c</td></tr>\n",
        "\n",
        "\n",
        "\n",
        "<tr ><td><span >\\D</span></td><td>A non digit</td><td>\\D\\D\\D</td><td>ABC</td></tr>\n",
        "\n",
        "<tr ><td><span >\\W</span></td><td>Non-alphanumeric</td><td>\\W\\W\\W\\W\\W</td><td>*-+=)</td></tr>\n",
        "\n",
        "<tr ><td><span >\\S</span></td><td>Non-whitespace</td><td>\\S\\S\\S\\S</td><td>Yoyo</td></tr></table>"
      ],
      "metadata": {
        "id": "XgUvsF1EC-IG"
      }
    },
    {
      "cell_type": "code",
      "source": [
        "## Here we search for generalized patterns\n",
        "text = \"My telephone number is 777-555-1234\"\n",
        "pattern = r'\\d\\d\\d-\\d\\d\\d-\\d\\d\\d\\d'          # Pattern we are looking for"
      ],
      "metadata": {
        "id": "hcSMP1o-DOgd"
      },
      "execution_count": 1,
      "outputs": []
    },
    {
      "cell_type": "code",
      "source": [
        "phone_number = re.search(pattern, text)\n",
        "phone_number.span()"
      ],
      "metadata": {
        "colab": {
          "base_uri": "https://localhost:8080/"
        },
        "id": "570qDalyD_8l",
        "outputId": "0b265700-f83e-4fe5-d2ed-d074358c19e1"
      },
      "execution_count": 108,
      "outputs": [
        {
          "output_type": "execute_result",
          "data": {
            "text/plain": [
              "(23, 35)"
            ]
          },
          "metadata": {},
          "execution_count": 108
        }
      ]
    },
    {
      "cell_type": "code",
      "source": [
        "phone_number.group()"
      ],
      "metadata": {
        "colab": {
          "base_uri": "https://localhost:8080/",
          "height": 36
        },
        "id": "6v07tcVbELf7",
        "outputId": "3a470228-22b8-4016-caa5-06c621ecd95e"
      },
      "execution_count": 109,
      "outputs": [
        {
          "output_type": "execute_result",
          "data": {
            "text/plain": [
              "'777-555-1234'"
            ],
            "application/vnd.google.colaboratory.intrinsic+json": {
              "type": "string"
            }
          },
          "metadata": {},
          "execution_count": 109
        }
      ]
    },
    {
      "cell_type": "markdown",
      "source": [
        "Notice the repetition of \\d. That is a bit of an annoyance, especially if we are looking for very long strings of numbers. Let's explore the possible quantifiers.\n",
        "\n",
        "**Quantifiers**\n",
        "\n",
        "Now that we know the special character designations, we can use them along with quantifiers to define how many we expect.\n",
        "\n",
        "<table ><tr><th>Character</th><th>Description</th><th>Example Pattern Code</th><th >Exammple Match</th></tr>\n",
        "\n",
        "<tr ><td><span >+</span></td><td>Occurs one or more times</td><td>\tVersion \\w-\\w+</td><td>Version A-b1_1</td></tr>\n",
        "\n",
        "<tr ><td><span >{3}</span></td><td>Occurs exactly 3 times</td><td>\\D{3}</td><td>abc</td></tr>\n",
        "\n",
        "\n",
        "\n",
        "<tr ><td><span >{2,4}</span></td><td>Occurs 2 to 4 times</td><td>\\d{2,4}</td><td>123</td></tr>\n",
        "\n",
        "\n",
        "\n",
        "<tr ><td><span >{3,}</span></td><td>Occurs 3 or more</td><td>\\w{3,}</td><td>anycharacters</td></tr>\n",
        "\n",
        "<tr ><td><span >\\*</span></td><td>Occurs zero or more times</td><td>A\\*B\\*C*</td><td>AAACC</td></tr>\n",
        "\n",
        "<tr ><td><span >?</span></td><td>Once or none</td><td>plurals?</td><td>plural</td></tr></table>"
      ],
      "metadata": {
        "id": "bbTjwvo0EXFg"
      }
    },
    {
      "cell_type": "code",
      "source": [
        "pattern = r'\\d{3}-\\d{3}-\\d{4}'\n",
        "my_match = re.search(pattern,text)\n",
        "my_match.group()"
      ],
      "metadata": {
        "colab": {
          "base_uri": "https://localhost:8080/",
          "height": 36
        },
        "id": "ZJjSTYkXEdNF",
        "outputId": "dc822b8e-d5dc-4b90-abbe-66f9df9cd084"
      },
      "execution_count": 111,
      "outputs": [
        {
          "output_type": "execute_result",
          "data": {
            "text/plain": [
              "'777-555-1234'"
            ],
            "application/vnd.google.colaboratory.intrinsic+json": {
              "type": "string"
            }
          },
          "metadata": {},
          "execution_count": 111
        }
      ]
    },
    {
      "cell_type": "code",
      "source": [
        "## Grabbing separate expression groups\n",
        "pattern = r'(\\d{3})-(\\d{3})-(\\d{4})'\n",
        "my_match = re.search(pattern,text)\n",
        "my_match.group(1)  # This allows to access them individually"
      ],
      "metadata": {
        "colab": {
          "base_uri": "https://localhost:8080/",
          "height": 36
        },
        "id": "KUk-zdOZA6eG",
        "outputId": "faa532c0-7d99-4052-cafa-744ff057069b"
      },
      "execution_count": 7,
      "outputs": [
        {
          "output_type": "execute_result",
          "data": {
            "text/plain": [
              "'1234'"
            ],
            "application/vnd.google.colaboratory.intrinsic+json": {
              "type": "string"
            }
          },
          "metadata": {},
          "execution_count": 7
        }
      ]
    },
    {
      "cell_type": "code",
      "source": [
        "re.search(r\"man|woman\", \"This woman was here\")"
      ],
      "metadata": {
        "colab": {
          "base_uri": "https://localhost:8080/"
        },
        "id": "OQGGfg5kBt23",
        "outputId": "8ccb5554-80c2-46da-d3a9-987b82916ced"
      },
      "execution_count": 8,
      "outputs": [
        {
          "output_type": "execute_result",
          "data": {
            "text/plain": [
              "<re.Match object; span=(5, 10), match='woman'>"
            ]
          },
          "metadata": {},
          "execution_count": 8
        }
      ]
    },
    {
      "cell_type": "code",
      "source": [
        "re.findall(r\".at\", \"the cat in the hat sat\") # Turns one letter before at"
      ],
      "metadata": {
        "colab": {
          "base_uri": "https://localhost:8080/"
        },
        "id": "b_u8dvX7B9TS",
        "outputId": "7eb41508-9f66-4062-a3e5-d88affc26ba2"
      },
      "execution_count": 9,
      "outputs": [
        {
          "output_type": "execute_result",
          "data": {
            "text/plain": [
              "['cat', 'hat', 'sat']"
            ]
          },
          "metadata": {},
          "execution_count": 9
        }
      ]
    },
    {
      "cell_type": "code",
      "source": [
        "re.findall(r\"\\d$\", \"This ends with a number 2\")"
      ],
      "metadata": {
        "colab": {
          "base_uri": "https://localhost:8080/"
        },
        "id": "EKWKycDqCRuV",
        "outputId": "3c56cc66-8c27-4474-d55c-64eb19ce63e8"
      },
      "execution_count": 10,
      "outputs": [
        {
          "output_type": "execute_result",
          "data": {
            "text/plain": [
              "['2']"
            ]
          },
          "metadata": {},
          "execution_count": 10
        }
      ]
    },
    {
      "cell_type": "code",
      "source": [
        "phrase = \"there are 3 numbers 34 inside 5 this sentence\"\n",
        "re.findall(r\"[^\\d]\", phrase)"
      ],
      "metadata": {
        "colab": {
          "base_uri": "https://localhost:8080/"
        },
        "id": "dIGWuF-mExiL",
        "outputId": "34183277-199e-4cba-d89c-8baaba5c99da"
      },
      "execution_count": 11,
      "outputs": [
        {
          "output_type": "execute_result",
          "data": {
            "text/plain": [
              "['t',\n",
              " 'h',\n",
              " 'e',\n",
              " 'r',\n",
              " 'e',\n",
              " ' ',\n",
              " 'a',\n",
              " 'r',\n",
              " 'e',\n",
              " ' ',\n",
              " ' ',\n",
              " 'n',\n",
              " 'u',\n",
              " 'm',\n",
              " 'b',\n",
              " 'e',\n",
              " 'r',\n",
              " 's',\n",
              " ' ',\n",
              " ' ',\n",
              " 'i',\n",
              " 'n',\n",
              " 's',\n",
              " 'i',\n",
              " 'd',\n",
              " 'e',\n",
              " ' ',\n",
              " ' ',\n",
              " 't',\n",
              " 'h',\n",
              " 'i',\n",
              " 's',\n",
              " ' ',\n",
              " 's',\n",
              " 'e',\n",
              " 'n',\n",
              " 't',\n",
              " 'e',\n",
              " 'n',\n",
              " 'c',\n",
              " 'e']"
            ]
          },
          "metadata": {},
          "execution_count": 11
        }
      ]
    },
    {
      "cell_type": "code",
      "source": [
        "re.findall(r\"[^\\d]+\", phrase)"
      ],
      "metadata": {
        "colab": {
          "base_uri": "https://localhost:8080/"
        },
        "id": "OY10vWbCFBH3",
        "outputId": "53e4e66a-eec9-4c3f-826c-b71a5e549fc3"
      },
      "execution_count": 12,
      "outputs": [
        {
          "output_type": "execute_result",
          "data": {
            "text/plain": [
              "['there are ', ' numbers ', ' inside ', ' this sentence']"
            ]
          },
          "metadata": {},
          "execution_count": 12
        }
      ]
    },
    {
      "cell_type": "code",
      "source": [
        "# Here we remove punctuation from a sentece\n",
        "test_phrase = \"This is a string! but it has punctuation. How to remove it?\"\n",
        "re.findall(r\"[^!.? ]+\", test_phrase)"
      ],
      "metadata": {
        "colab": {
          "base_uri": "https://localhost:8080/"
        },
        "id": "4QlWxlaDFEu-",
        "outputId": "e42becc8-0b94-4ca3-d32d-cc5af9674ea1"
      },
      "execution_count": 14,
      "outputs": [
        {
          "output_type": "execute_result",
          "data": {
            "text/plain": [
              "['This',\n",
              " 'is',\n",
              " 'a',\n",
              " 'string',\n",
              " 'but',\n",
              " 'it',\n",
              " 'has',\n",
              " 'punctuation',\n",
              " 'How',\n",
              " 'to',\n",
              " 'remove',\n",
              " 'it']"
            ]
          },
          "metadata": {},
          "execution_count": 14
        }
      ]
    },
    {
      "cell_type": "code",
      "source": [
        "my_list = re.findall(r\"[^!.? ]+\", test_phrase)\n",
        "my_list"
      ],
      "metadata": {
        "colab": {
          "base_uri": "https://localhost:8080/"
        },
        "id": "BCtSnMbDFddN",
        "outputId": "3f66e324-7cf7-48a7-a6d4-78d5360bc801"
      },
      "execution_count": 15,
      "outputs": [
        {
          "output_type": "execute_result",
          "data": {
            "text/plain": [
              "['This',\n",
              " 'is',\n",
              " 'a',\n",
              " 'string',\n",
              " 'but',\n",
              " 'it',\n",
              " 'has',\n",
              " 'punctuation',\n",
              " 'How',\n",
              " 'to',\n",
              " 'remove',\n",
              " 'it']"
            ]
          },
          "metadata": {},
          "execution_count": 15
        }
      ]
    },
    {
      "cell_type": "code",
      "source": [
        "' '.join(my_list)"
      ],
      "metadata": {
        "colab": {
          "base_uri": "https://localhost:8080/",
          "height": 36
        },
        "id": "cKOGklDqFj8Y",
        "outputId": "26f2dfb3-b3be-471d-f55f-062746f3b303"
      },
      "execution_count": 17,
      "outputs": [
        {
          "output_type": "execute_result",
          "data": {
            "text/plain": [
              "'This is a string but it has punctuation How to remove it'"
            ],
            "application/vnd.google.colaboratory.intrinsic+json": {
              "type": "string"
            }
          },
          "metadata": {},
          "execution_count": 17
        }
      ]
    },
    {
      "cell_type": "code",
      "source": [
        "text = \"Only find the hypen-words. Were are the long-ish dash words?\"\n",
        "re.findall(r'[\\w]+-[\\w]+',text)"
      ],
      "metadata": {
        "colab": {
          "base_uri": "https://localhost:8080/"
        },
        "id": "czdiGJ2KF88x",
        "outputId": "ed40611d-4629-4767-b3ee-2edfe61036ab"
      },
      "execution_count": 18,
      "outputs": [
        {
          "output_type": "execute_result",
          "data": {
            "text/plain": [
              "['hypen-words', 'long-ish']"
            ]
          },
          "metadata": {},
          "execution_count": 18
        }
      ]
    },
    {
      "cell_type": "markdown",
      "source": [
        "## Python Text Basics Exercises"
      ],
      "metadata": {
        "id": "REEIlaFaHgo7"
      }
    },
    {
      "cell_type": "markdown",
      "source": [
        "f-Strings\n",
        "1. Print an f-string that displays `NLP stands for Natural Language Processing` using the variables provided."
      ],
      "metadata": {
        "id": "-AxAWDeVGzkH"
      }
    },
    {
      "cell_type": "code",
      "source": [
        "## Python Text Basics\n",
        "abbr = 'NLP'\n",
        "full_text = 'Natural Language Processing'\n",
        "\n",
        "# Enter your code here:\n",
        "print(f\"{abbr} stands for {full_text}\")         # New version"
      ],
      "metadata": {
        "colab": {
          "base_uri": "https://localhost:8080/"
        },
        "id": "sk6sC-KhGiu0",
        "outputId": "da69404d-e716-4fcf-8350-03d8c77e6c92"
      },
      "execution_count": 19,
      "outputs": [
        {
          "output_type": "stream",
          "name": "stdout",
          "text": [
            "NLP stands for Natural Language Processing\n"
          ]
        }
      ]
    },
    {
      "cell_type": "markdown",
      "source": [
        "**Files**\n",
        "2. Create a file in the current working directory called `contacts.txt` by running the cell below:\n",
        "\n"
      ],
      "metadata": {
        "id": "fZ2fLqFFHcbt"
      }
    },
    {
      "cell_type": "code",
      "source": [
        "%%writefile contacts.txt\n",
        "First_Name Last_Name, Title, Extension, Email"
      ],
      "metadata": {
        "colab": {
          "base_uri": "https://localhost:8080/"
        },
        "id": "cXy-Nl2VHraw",
        "outputId": "bde96f86-6d87-43e0-c07e-f71154b34098"
      },
      "execution_count": 49,
      "outputs": [
        {
          "output_type": "stream",
          "name": "stdout",
          "text": [
            "Overwriting contacts.txt\n"
          ]
        }
      ]
    },
    {
      "cell_type": "markdown",
      "source": [
        "3. Open the file and use .read() to save the contents of the file to a string called `fields`.  Make sure the file is closed at the end."
      ],
      "metadata": {
        "id": "QFUwTmzHH36c"
      }
    },
    {
      "cell_type": "code",
      "source": [
        "# Write your code here:\n",
        "myfile = open('contacts.txt')\n",
        "fields = myfile.read()\n",
        "myfile.close() # Close it so that you can edit the file externally\n",
        "\n",
        "# Run fields to see the contents of contacts.txt:\n",
        "fields"
      ],
      "metadata": {
        "colab": {
          "base_uri": "https://localhost:8080/",
          "height": 36
        },
        "id": "ZGlhLMmEIcMc",
        "outputId": "25f35e5c-2608-4824-97eb-c39e387e4060"
      },
      "execution_count": 50,
      "outputs": [
        {
          "output_type": "execute_result",
          "data": {
            "text/plain": [
              "'First_Name Last_Name, Title, Extension, Email\\n'"
            ],
            "application/vnd.google.colaboratory.intrinsic+json": {
              "type": "string"
            }
          },
          "metadata": {},
          "execution_count": 50
        }
      ]
    },
    {
      "cell_type": "markdown",
      "source": [
        "Working with PDF Files\n",
        "4. Use PyPDF2 to open the file `Business_Proposal.pdf`. Extract the text of page 2."
      ],
      "metadata": {
        "id": "8GPLUhsOI4eE"
      }
    },
    {
      "cell_type": "code",
      "source": [
        "# Perform import\n",
        "!pip3 install PyPDF2 --upgrade --no-cache-dir\n",
        "import PyPDF2;\n",
        "\n",
        "# Open the file as a binary object\n",
        "myfile = open('PDFs/Business_Proposal.pdf', mode = 'rb')\n",
        "\n",
        "# Use PyPDF2 to read the text of the file\n",
        "pdf_reader = PyPDF2.PdfReader(myfile) # Here we create a pdf reader\n",
        "\n",
        "# Get the text from page 2 (CHALLENGE: Do this in one step!)\n",
        "page_two = pdf_reader.pages[1]\n",
        "page_two_text = page_two.extract_text()\n",
        "\n",
        "\n",
        "# Close the file\n",
        "myfile.close()\n",
        "\n",
        "# Print the contents of page_two_text\n",
        "print(page_two_text)"
      ],
      "metadata": {
        "colab": {
          "base_uri": "https://localhost:8080/"
        },
        "id": "IpN09oywJBxH",
        "outputId": "da704b43-5800-42c2-8c91-19ecc0a80cbd"
      },
      "execution_count": 51,
      "outputs": [
        {
          "output_type": "stream",
          "name": "stdout",
          "text": [
            "Requirement already satisfied: PyPDF2 in /usr/local/lib/python3.10/dist-packages (3.0.1)\n",
            "AUTHORS:  \n",
            "Amy Baker, Finance Chair, x345, abaker@ourcompany.com  \n",
            "Chris Donaldson, Accounting Dir., x621, cdonaldson@ourcompany.com  \n",
            "Erin Freeman, Sr. VP, x879, efreeman@ourcompany.com  \n"
          ]
        }
      ]
    },
    {
      "cell_type": "markdown",
      "source": [
        "5. Open the file `contacts.txt` in append mode. Add the text of page 2 from above to `contacts.txt`.\n",
        "\n",
        "CHALLENGE: See if you can remove the word \"AUTHORS:\""
      ],
      "metadata": {
        "id": "HqQnm6k7KVvM"
      }
    },
    {
      "cell_type": "code",
      "source": [
        "myfile = open('contacts.txt', mode = 'a+')\n",
        "myfile.write(page_two_text)"
      ],
      "metadata": {
        "colab": {
          "base_uri": "https://localhost:8080/"
        },
        "id": "d5Pw-PpXKw8D",
        "outputId": "1b264b64-07de-4605-c61b-6b8ccc025d09"
      },
      "execution_count": 52,
      "outputs": [
        {
          "output_type": "execute_result",
          "data": {
            "text/plain": [
              "188"
            ]
          },
          "metadata": {},
          "execution_count": 52
        }
      ]
    },
    {
      "cell_type": "code",
      "source": [
        "myfile.seek(0)\n",
        "myfile.read()"
      ],
      "metadata": {
        "colab": {
          "base_uri": "https://localhost:8080/",
          "height": 53
        },
        "id": "8zZlnc07LLhl",
        "outputId": "83279612-6514-41a8-db65-b2ae3ba833cb"
      },
      "execution_count": 53,
      "outputs": [
        {
          "output_type": "execute_result",
          "data": {
            "text/plain": [
              "'First_Name Last_Name, Title, Extension, Email\\nAUTHORS:  \\nAmy Baker, Finance Chair, x345, abaker@ourcompany.com  \\nChris Donaldson, Accounting Dir., x621, cdonaldson@ourcompany.com  \\nErin Freeman, Sr. VP, x879, efreeman@ourcompany.com  '"
            ],
            "application/vnd.google.colaboratory.intrinsic+json": {
              "type": "string"
            }
          },
          "metadata": {},
          "execution_count": 53
        }
      ]
    },
    {
      "cell_type": "code",
      "source": [
        "# Simple Solution\n",
        "with open('contacts.txt', 'a+') as f:\n",
        "  f.write(page_two_text[8:])\n",
        "  f.seek(0)\n",
        "  print(f.read())"
      ],
      "metadata": {
        "colab": {
          "base_uri": "https://localhost:8080/"
        },
        "id": "R8a4-Xp2NB_s",
        "outputId": "bae85d01-5d10-4c23-81ba-86bf734c5695"
      },
      "execution_count": 55,
      "outputs": [
        {
          "output_type": "stream",
          "name": "stdout",
          "text": [
            "First_Name Last_Name, Title, Extension, Email\n",
            "AUTHORS:  \n",
            "Amy Baker, Finance Chair, x345, abaker@ourcompany.com  \n",
            "Chris Donaldson, Accounting Dir., x621, cdonaldson@ourcompany.com  \n",
            "Erin Freeman, Sr. VP, x879, efreeman@ourcompany.com  AUTHORS:  \n",
            "Amy Baker, Finance Chair, x345, abaker@ourcompany.com  \n",
            "Chris Donaldson, Accounting Dir., x621, cdonaldson@ourcompany.com  \n",
            "Erin Freeman, Sr. VP, x879, efreeman@ourcompany.com    \n",
            "Amy Baker, Finance Chair, x345, abaker@ourcompany.com  \n",
            "Chris Donaldson, Accounting Dir., x621, cdonaldson@ourcompany.com  \n",
            "Erin Freeman, Sr. VP, x879, efreeman@ourcompany.com  \n"
          ]
        }
      ]
    },
    {
      "cell_type": "markdown",
      "source": [
        "Regular Expressions\n",
        "6. Using the `page_two_text` variable created above, extract any email addresses that were contained in the file `Business_Proposal.pdf`."
      ],
      "metadata": {
        "id": "Okmkgz9bLQPH"
      }
    },
    {
      "cell_type": "code",
      "source": [
        "import re\n",
        "\n",
        "# Enter your regex pattern here. This may take several tries!\n",
        "pattern = r'[\\w]+@[\\w]+'\n",
        "\n",
        "re.findall(pattern, page_two_text)"
      ],
      "metadata": {
        "colab": {
          "base_uri": "https://localhost:8080/"
        },
        "id": "TtvUgqSnLeRp",
        "outputId": "cb609d1f-84cf-4d62-efb5-c08347e1f129"
      },
      "execution_count": 56,
      "outputs": [
        {
          "output_type": "execute_result",
          "data": {
            "text/plain": [
              "['abaker@ourcompany', 'cdonaldson@ourcompany', 'efreeman@ourcompany']"
            ]
          },
          "metadata": {},
          "execution_count": 56
        }
      ]
    },
    {
      "cell_type": "markdown",
      "source": [
        "#2 Natural Language Processing Basics\n",
        "\n",
        "**What is Natural Language Processing?**\n",
        "\n",
        "An area of computer science and artificial intelligence concerned with the interactions between computers and human languages, in particular how to program computers to process and analyze large amounts of natural language data.\n",
        "\n",
        "1.   Setup Spacy and Language Library\n",
        "2.   Understand Basic NLP topics:\n",
        "  *   Tokenization\n",
        "  *   Stemming\n",
        "  *   Lemmatization\n",
        "  *   Stop words\n",
        "3. Spacy for Vocabulary Matching\n",
        "\n",
        "\n",
        "\n"
      ],
      "metadata": {
        "id": "q7u8NaVOedEe"
      }
    },
    {
      "cell_type": "markdown",
      "source": [
        "## 2.1 Spacy Basics\n",
        "**What is Spacy?**\n",
        "*   Open Source Natural Language Processing Library\n",
        "*   Designed to effectively handle NLP tasks with the most efficient implementation of common algorithms\n",
        "\n",
        "**What is NLTK?**\n",
        "*   NLTK - Natural Language Toolkit is a very popular open source.\n",
        "*   Initially released in 2001, it is much older than Spacy\n",
        "*   It also provides many functionalities, but includes less efficient implementations\n",
        "\n",
        "The **nlp()** function from Spacy automatically takes raw text and performs a series of operations to tag, parse, and describe the text data.\n",
        "\n",
        "**Dependencies**\n",
        "\n",
        "We also looked at the syntactic dependencies assigned to each token. `Tesla` is identified as an `nsubj` or the ***nominal subject*** of the sentence.\n",
        "\n",
        "For a full list of Syntactic Dependencies visit https://spacy.io/api/annotation#dependency-parsing\n",
        "<br>A good explanation of typed dependencies can be found [here](https://nlp.stanford.edu/software/dependencies_manual.pdf)"
      ],
      "metadata": {
        "id": "Yqpy4HkwOz9C"
      }
    },
    {
      "cell_type": "code",
      "source": [
        "!pip3 install spacy --upgrade --no-cache-dir\n",
        "import spacy"
      ],
      "metadata": {
        "colab": {
          "base_uri": "https://localhost:8080/"
        },
        "id": "mQQWZDQo6yzi",
        "outputId": "9f6cb705-263b-4bb2-a343-5f7fcaf4eae2"
      },
      "execution_count": 57,
      "outputs": [
        {
          "output_type": "stream",
          "name": "stdout",
          "text": [
            "Requirement already satisfied: spacy in /usr/local/lib/python3.10/dist-packages (3.6.1)\n",
            "Requirement already satisfied: spacy-legacy<3.1.0,>=3.0.11 in /usr/local/lib/python3.10/dist-packages (from spacy) (3.0.12)\n",
            "Requirement already satisfied: spacy-loggers<2.0.0,>=1.0.0 in /usr/local/lib/python3.10/dist-packages (from spacy) (1.0.4)\n",
            "Requirement already satisfied: murmurhash<1.1.0,>=0.28.0 in /usr/local/lib/python3.10/dist-packages (from spacy) (1.0.9)\n",
            "Requirement already satisfied: cymem<2.1.0,>=2.0.2 in /usr/local/lib/python3.10/dist-packages (from spacy) (2.0.7)\n",
            "Requirement already satisfied: preshed<3.1.0,>=3.0.2 in /usr/local/lib/python3.10/dist-packages (from spacy) (3.0.8)\n",
            "Requirement already satisfied: thinc<8.2.0,>=8.1.8 in /usr/local/lib/python3.10/dist-packages (from spacy) (8.1.12)\n",
            "Requirement already satisfied: wasabi<1.2.0,>=0.9.1 in /usr/local/lib/python3.10/dist-packages (from spacy) (1.1.2)\n",
            "Requirement already satisfied: srsly<3.0.0,>=2.4.3 in /usr/local/lib/python3.10/dist-packages (from spacy) (2.4.7)\n",
            "Requirement already satisfied: catalogue<2.1.0,>=2.0.6 in /usr/local/lib/python3.10/dist-packages (from spacy) (2.0.9)\n",
            "Requirement already satisfied: typer<0.10.0,>=0.3.0 in /usr/local/lib/python3.10/dist-packages (from spacy) (0.9.0)\n",
            "Requirement already satisfied: pathy>=0.10.0 in /usr/local/lib/python3.10/dist-packages (from spacy) (0.10.2)\n",
            "Requirement already satisfied: smart-open<7.0.0,>=5.2.1 in /usr/local/lib/python3.10/dist-packages (from spacy) (6.4.0)\n",
            "Requirement already satisfied: tqdm<5.0.0,>=4.38.0 in /usr/local/lib/python3.10/dist-packages (from spacy) (4.66.1)\n",
            "Requirement already satisfied: numpy>=1.15.0 in /usr/local/lib/python3.10/dist-packages (from spacy) (1.23.5)\n",
            "Requirement already satisfied: requests<3.0.0,>=2.13.0 in /usr/local/lib/python3.10/dist-packages (from spacy) (2.31.0)\n",
            "Requirement already satisfied: pydantic!=1.8,!=1.8.1,<3.0.0,>=1.7.4 in /usr/local/lib/python3.10/dist-packages (from spacy) (1.10.12)\n",
            "Requirement already satisfied: jinja2 in /usr/local/lib/python3.10/dist-packages (from spacy) (3.1.2)\n",
            "Requirement already satisfied: setuptools in /usr/local/lib/python3.10/dist-packages (from spacy) (67.7.2)\n",
            "Requirement already satisfied: packaging>=20.0 in /usr/local/lib/python3.10/dist-packages (from spacy) (23.1)\n",
            "Requirement already satisfied: langcodes<4.0.0,>=3.2.0 in /usr/local/lib/python3.10/dist-packages (from spacy) (3.3.0)\n",
            "Requirement already satisfied: typing-extensions>=4.2.0 in /usr/local/lib/python3.10/dist-packages (from pydantic!=1.8,!=1.8.1,<3.0.0,>=1.7.4->spacy) (4.5.0)\n",
            "Requirement already satisfied: charset-normalizer<4,>=2 in /usr/local/lib/python3.10/dist-packages (from requests<3.0.0,>=2.13.0->spacy) (3.2.0)\n",
            "Requirement already satisfied: idna<4,>=2.5 in /usr/local/lib/python3.10/dist-packages (from requests<3.0.0,>=2.13.0->spacy) (3.4)\n",
            "Requirement already satisfied: urllib3<3,>=1.21.1 in /usr/local/lib/python3.10/dist-packages (from requests<3.0.0,>=2.13.0->spacy) (2.0.4)\n",
            "Requirement already satisfied: certifi>=2017.4.17 in /usr/local/lib/python3.10/dist-packages (from requests<3.0.0,>=2.13.0->spacy) (2023.7.22)\n",
            "Requirement already satisfied: blis<0.8.0,>=0.7.8 in /usr/local/lib/python3.10/dist-packages (from thinc<8.2.0,>=8.1.8->spacy) (0.7.10)\n",
            "Requirement already satisfied: confection<1.0.0,>=0.0.1 in /usr/local/lib/python3.10/dist-packages (from thinc<8.2.0,>=8.1.8->spacy) (0.1.2)\n",
            "Requirement already satisfied: click<9.0.0,>=7.1.1 in /usr/local/lib/python3.10/dist-packages (from typer<0.10.0,>=0.3.0->spacy) (8.1.7)\n",
            "Requirement already satisfied: MarkupSafe>=2.0 in /usr/local/lib/python3.10/dist-packages (from jinja2->spacy) (2.1.3)\n"
          ]
        }
      ]
    },
    {
      "cell_type": "code",
      "source": [
        "nlp = spacy.load('en_core_web_sm') # Here we import English NLP language"
      ],
      "metadata": {
        "id": "bWQy7OjDTNQQ"
      },
      "execution_count": 59,
      "outputs": []
    },
    {
      "cell_type": "code",
      "source": [
        "doc = nlp(u'Tesla is looking at buying U.S. startup for $6 million')"
      ],
      "metadata": {
        "id": "S1T9rGXUUVOY"
      },
      "execution_count": 60,
      "outputs": []
    },
    {
      "cell_type": "code",
      "source": [
        "for token in doc:\n",
        "  print(token.text, token.pos, token.pos_,  token.dep_) # pos recognizes Adjective, Number, Pronoun"
      ],
      "metadata": {
        "colab": {
          "base_uri": "https://localhost:8080/"
        },
        "id": "HGuukk8CUhDh",
        "outputId": "7fc80957-9a97-4765-a228-3d14e2f83179"
      },
      "execution_count": 64,
      "outputs": [
        {
          "output_type": "stream",
          "name": "stdout",
          "text": [
            "Tesla 96 PROPN nsubj\n",
            "is 87 AUX aux\n",
            "looking 100 VERB ROOT\n",
            "at 85 ADP prep\n",
            "buying 100 VERB pcomp\n",
            "U.S. 96 PROPN compound\n",
            "startup 92 NOUN dobj\n",
            "for 85 ADP prep\n",
            "$ 99 SYM quantmod\n",
            "6 93 NUM compound\n",
            "million 93 NUM pobj\n"
          ]
        }
      ]
    },
    {
      "cell_type": "code",
      "source": [
        "nlp.pipeline"
      ],
      "metadata": {
        "colab": {
          "base_uri": "https://localhost:8080/"
        },
        "id": "D7-EZh7kVYz3",
        "outputId": "18f594fb-2956-4fa5-eb60-77eb953449df"
      },
      "execution_count": 65,
      "outputs": [
        {
          "output_type": "execute_result",
          "data": {
            "text/plain": [
              "[('tok2vec', <spacy.pipeline.tok2vec.Tok2Vec at 0x7cff1c6f7fa0>),\n",
              " ('tagger', <spacy.pipeline.tagger.Tagger at 0x7cff1c6f7040>),\n",
              " ('parser', <spacy.pipeline.dep_parser.DependencyParser at 0x7cff1c524eb0>),\n",
              " ('attribute_ruler',\n",
              "  <spacy.pipeline.attributeruler.AttributeRuler at 0x7cff1c9b4740>),\n",
              " ('lemmatizer',\n",
              "  <spacy.lang.en.lemmatizer.EnglishLemmatizer at 0x7cff1c35d740>),\n",
              " ('ner', <spacy.pipeline.ner.EntityRecognizer at 0x7cff1c525070>)]"
            ]
          },
          "metadata": {},
          "execution_count": 65
        }
      ]
    },
    {
      "cell_type": "code",
      "source": [
        "nlp.pipe_names"
      ],
      "metadata": {
        "colab": {
          "base_uri": "https://localhost:8080/"
        },
        "id": "uV4RfQoyVgef",
        "outputId": "3acacb87-2978-40ec-d40b-a54353cffee7"
      },
      "execution_count": 66,
      "outputs": [
        {
          "output_type": "execute_result",
          "data": {
            "text/plain": [
              "['tok2vec', 'tagger', 'parser', 'attribute_ruler', 'lemmatizer', 'ner']"
            ]
          },
          "metadata": {},
          "execution_count": 66
        }
      ]
    },
    {
      "cell_type": "code",
      "source": [
        "# Tokenization\n",
        "doc2 = nlp(u\"Tesla isn't looking into startups anymore\")"
      ],
      "metadata": {
        "id": "StpGCSv4Vluk"
      },
      "execution_count": 67,
      "outputs": []
    },
    {
      "cell_type": "code",
      "source": [
        "for token in doc2:\n",
        "  print(token.text, token.pos, token.pos_,  token.dep_) # pos (Part of Speech Tagging) recognizes Adjective, Number, Pronoun"
      ],
      "metadata": {
        "colab": {
          "base_uri": "https://localhost:8080/"
        },
        "id": "BSCJGx1eVy6T",
        "outputId": "1518eef5-055b-4573-ac60-6cb987e76ded"
      },
      "execution_count": 68,
      "outputs": [
        {
          "output_type": "stream",
          "name": "stdout",
          "text": [
            "Tesla 96 PROPN nsubj\n",
            "is 87 AUX aux\n",
            "n't 94 PART neg\n",
            "looking 100 VERB ROOT\n",
            "into 85 ADP prep\n",
            "startups 92 NOUN pobj\n",
            "anymore 86 ADV advmod\n"
          ]
        }
      ]
    },
    {
      "cell_type": "code",
      "source": [
        "doc2[0].pos_"
      ],
      "metadata": {
        "colab": {
          "base_uri": "https://localhost:8080/",
          "height": 36
        },
        "id": "I2VOF4FKWB6I",
        "outputId": "6d10a34c-35c5-4077-92b6-963042701563"
      },
      "execution_count": 70,
      "outputs": [
        {
          "output_type": "execute_result",
          "data": {
            "text/plain": [
              "'PROPN'"
            ],
            "application/vnd.google.colaboratory.intrinsic+json": {
              "type": "string"
            }
          },
          "metadata": {},
          "execution_count": 70
        }
      ]
    },
    {
      "cell_type": "code",
      "source": [
        "doc3 = nlp(u'Although commmonly attributed to John Lennon from his song \"Beautiful Boy\", \\\n",
        "the phrase \"Life is what happens to us while we are making other plans\" was written by \\\n",
        "cartoonist Allen Saunders and published in Reader\\'s Digest in 1957, when Lennon was 17.')"
      ],
      "metadata": {
        "id": "62DBhMmBXrdV"
      },
      "execution_count": 71,
      "outputs": []
    },
    {
      "cell_type": "code",
      "source": [
        "life_quote = doc3[16:30]\n",
        "print(life_quote)"
      ],
      "metadata": {
        "colab": {
          "base_uri": "https://localhost:8080/"
        },
        "id": "N85eOZNqXtmw",
        "outputId": "942cbfde-1eed-4801-d9a7-098956789005"
      },
      "execution_count": 72,
      "outputs": [
        {
          "output_type": "stream",
          "name": "stdout",
          "text": [
            "\"Life is what happens to us while we are making other plans\"\n"
          ]
        }
      ]
    },
    {
      "cell_type": "code",
      "source": [
        "type(life_quote) # Spacy recognizes span, separate from entire doc3"
      ],
      "metadata": {
        "colab": {
          "base_uri": "https://localhost:8080/"
        },
        "id": "crY9NobkX5ej",
        "outputId": "7a3bf1c3-eeed-4965-9cb3-f8d6c6077e0a"
      },
      "execution_count": 73,
      "outputs": [
        {
          "output_type": "execute_result",
          "data": {
            "text/plain": [
              "spacy.tokens.span.Span"
            ]
          },
          "metadata": {},
          "execution_count": 73
        }
      ]
    },
    {
      "cell_type": "code",
      "source": [
        "doc4 = nlp(u\"This is the first sentence. This is another sentence.\")\n",
        "\n",
        "for sentence in doc4.sents: # Spacy automatically understands dot and space means the end of the sentence\n",
        "  print(sentence)"
      ],
      "metadata": {
        "colab": {
          "base_uri": "https://localhost:8080/"
        },
        "id": "zVv-dCWGYEk4",
        "outputId": "77f8eece-3143-4010-92fd-71c90dba3905"
      },
      "execution_count": 74,
      "outputs": [
        {
          "output_type": "stream",
          "name": "stdout",
          "text": [
            "This is the first sentence.\n",
            "This is another sentence.\n"
          ]
        }
      ]
    },
    {
      "cell_type": "markdown",
      "source": [
        "## 2.2 Tokenization\n",
        "\n",
        "*  Notice that tokens are pieces of the original text\n",
        "*  Tokens are the basic building blocks of a `Doc`object - everything that helps us understand the meaning of the text is derived from tokens and their relationship to one another\n",
        "\n",
        "**Types of tokens:**\n",
        "\n",
        "*   Prefix: Characters at the beginning: **$(\"?**\n",
        "*   Suffix: Characters at the end:       **km),.!\"**\n",
        "*   Infix: Characters in between:        **- --/... **\n",
        "*   Exception: Special-case rule to split a string into several tokens or prevent a token from being split when punctuation rules are applied: **let's U.S.**\n",
        "\n",
        "\n",
        "\n",
        "|Tag|Description|doc2[0].tag|\n",
        "|:------|:------:|:------|\n",
        "|`.text`|The original word text<!-- .element: style=\"text-align:left;\" -->|`Tesla`|\n",
        "|`.lemma_`|The base form of the word|`tesla`|\n",
        "|`.pos_`|The simple part-of-speech tag|`PROPN`/`proper noun`|\n",
        "|`.tag_`|The detailed part-of-speech tag|`NNP`/`noun, proper singular`|\n",
        "|`.shape_`|The word shape – capitalization, punctuation, digits|`Xxxxx`|\n",
        "|`.is_alpha`|Is the token an alpha character?|`True`|\n",
        "|`.is_stop`|Is the token part of a stop list, i.e. the most common words of the language?|`False`|\n",
        "\n",
        "![Tokenization.png](data:image/png;base64,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)"
      ],
      "metadata": {
        "id": "UjaS_6gbT6_Y"
      }
    },
    {
      "cell_type": "code",
      "source": [
        "import spacy\n",
        "nlp =spacy.load('en_core_web_sm')"
      ],
      "metadata": {
        "id": "S_aszr-UXYJV"
      },
      "execution_count": 1,
      "outputs": []
    },
    {
      "cell_type": "code",
      "source": [
        "mystring = '\"We\\'re moving to L.A.!\"'\n",
        "print(mystring)"
      ],
      "metadata": {
        "colab": {
          "base_uri": "https://localhost:8080/"
        },
        "id": "qguKnU87wKWF",
        "outputId": "3e843143-6bb4-49de-b9b3-59e09ae81708"
      },
      "execution_count": 3,
      "outputs": [
        {
          "output_type": "stream",
          "name": "stdout",
          "text": [
            "\"We're moving to L.A.!\"\n"
          ]
        }
      ]
    },
    {
      "cell_type": "code",
      "source": [
        "doc = nlp(mystring)"
      ],
      "metadata": {
        "id": "bcdIdHHuwZCW"
      },
      "execution_count": 4,
      "outputs": []
    },
    {
      "cell_type": "code",
      "source": [
        "for token in doc:\n",
        "  print(token.text)"
      ],
      "metadata": {
        "colab": {
          "base_uri": "https://localhost:8080/"
        },
        "id": "cEhzo_YJwcqk",
        "outputId": "582319d5-11cc-4d0b-d004-545ec4c32e1d"
      },
      "execution_count": 5,
      "outputs": [
        {
          "output_type": "stream",
          "name": "stdout",
          "text": [
            "\"\n",
            "We\n",
            "'re\n",
            "moving\n",
            "to\n",
            "L.A.\n",
            "!\n",
            "\"\n"
          ]
        }
      ]
    },
    {
      "cell_type": "code",
      "source": [
        "doc2 = nlp(u\"We're here to help! Send snail-mail, email support@oursite.com or visit us at http://www.oursite.com\")"
      ],
      "metadata": {
        "id": "JA_bQvDawrR6"
      },
      "execution_count": 6,
      "outputs": []
    },
    {
      "cell_type": "code",
      "source": [
        "for t in doc2:\n",
        "  print(t)"
      ],
      "metadata": {
        "colab": {
          "base_uri": "https://localhost:8080/"
        },
        "id": "P9SRXbDYw9Q7",
        "outputId": "1328725c-ac48-4b96-9370-6a632a54e81a"
      },
      "execution_count": 7,
      "outputs": [
        {
          "output_type": "stream",
          "name": "stdout",
          "text": [
            "We\n",
            "'re\n",
            "here\n",
            "to\n",
            "help\n",
            "!\n",
            "Send\n",
            "snail\n",
            "-\n",
            "mail\n",
            ",\n",
            "email\n",
            "support@oursite.com\n",
            "or\n",
            "visit\n",
            "us\n",
            "at\n",
            "http://www.oursite.com\n"
          ]
        }
      ]
    },
    {
      "cell_type": "code",
      "source": [
        "doc3 = nlp(u'A 5km NYC cab ride costs $10.30')\n",
        "\n",
        "for t in doc3:\n",
        "    print(t)"
      ],
      "metadata": {
        "colab": {
          "base_uri": "https://localhost:8080/"
        },
        "id": "ySN9m6CgxUut",
        "outputId": "d9f824b3-d4ed-44c9-8c56-c896bbcf2b12"
      },
      "execution_count": 8,
      "outputs": [
        {
          "output_type": "stream",
          "name": "stdout",
          "text": [
            "A\n",
            "5\n",
            "km\n",
            "NYC\n",
            "cab\n",
            "ride\n",
            "costs\n",
            "$\n",
            "10.30\n"
          ]
        }
      ]
    },
    {
      "cell_type": "code",
      "source": [
        "doc4 = nlp(u\"Let's visit St. Louis in the U.S. next year.\")\n",
        "\n",
        "for t in doc4:\n",
        "    print(t)"
      ],
      "metadata": {
        "colab": {
          "base_uri": "https://localhost:8080/"
        },
        "id": "5zfE_67MxhyC",
        "outputId": "ad34c12a-c2b4-470a-af03-b156943c3f8f"
      },
      "execution_count": 9,
      "outputs": [
        {
          "output_type": "stream",
          "name": "stdout",
          "text": [
            "Let\n",
            "'s\n",
            "visit\n",
            "St.\n",
            "Louis\n",
            "in\n",
            "the\n",
            "U.S.\n",
            "next\n",
            "year\n",
            ".\n"
          ]
        }
      ]
    },
    {
      "cell_type": "code",
      "source": [
        "len(doc4) # Tells the number of tokes"
      ],
      "metadata": {
        "colab": {
          "base_uri": "https://localhost:8080/"
        },
        "id": "0CigwgH9xrgE",
        "outputId": "bc130924-9944-458e-ccfc-f675165474fe"
      },
      "execution_count": 10,
      "outputs": [
        {
          "output_type": "execute_result",
          "data": {
            "text/plain": [
              "11"
            ]
          },
          "metadata": {},
          "execution_count": 10
        }
      ]
    },
    {
      "cell_type": "code",
      "source": [
        "len(doc4.vocab) # Tells the number of vocabulary in 'en_core_web_sm'"
      ],
      "metadata": {
        "colab": {
          "base_uri": "https://localhost:8080/"
        },
        "id": "V8Df_6urxv7l",
        "outputId": "a25d6b94-01b7-4008-c266-7a245a6dc6ed"
      },
      "execution_count": 12,
      "outputs": [
        {
          "output_type": "execute_result",
          "data": {
            "text/plain": [
              "794"
            ]
          },
          "metadata": {},
          "execution_count": 12
        }
      ]
    },
    {
      "cell_type": "code",
      "source": [
        "doc8 = nlp(u'Apple to build a Hong Kong factory for $6 million')\n",
        "\n",
        "for token in doc8:\n",
        "    print(token.text, end=' | ')\n",
        "\n",
        "print('\\n----')\n",
        "\n",
        "for ent in doc8.ents: # Spacy also derive entities automatically\n",
        "    print(ent.text+' - '+ent.label_+' - '+str(spacy.explain(ent.label_)))"
      ],
      "metadata": {
        "colab": {
          "base_uri": "https://localhost:8080/"
        },
        "id": "aKjyOh7Tygr1",
        "outputId": "0d4a4b4f-825f-4f67-cddc-6713b556d34d"
      },
      "execution_count": 13,
      "outputs": [
        {
          "output_type": "stream",
          "name": "stdout",
          "text": [
            "Apple | to | build | a | Hong | Kong | factory | for | $ | 6 | million | \n",
            "----\n",
            "Apple - ORG - Companies, agencies, institutions, etc.\n",
            "Hong Kong - GPE - Countries, cities, states\n",
            "$6 million - MONEY - Monetary values, including unit\n"
          ]
        }
      ]
    },
    {
      "cell_type": "markdown",
      "source": [
        "**Noun Chunks**\n",
        "\n",
        "Similar to `Doc.ents`, `Doc.noun_chunks` are another object property. *Noun chunks* are \"base noun phrases\" – flat phrases that have a noun as their head. You can think of noun chunks as a noun plus the words describing the noun – for example, in [Sheb Wooley's 1958 song](https://en.wikipedia.org/wiki/The_Purple_People_Eater), a *\"one-eyed, one-horned, flying, purple people-eater\"* would be one long noun chunk."
      ],
      "metadata": {
        "id": "H59HXuD-zWpN"
      }
    },
    {
      "cell_type": "code",
      "source": [
        "doc9 = nlp(u\"Autonomous cars shift insurance liability toward manufacturers.\")\n",
        "\n",
        "for chunk in doc9.noun_chunks:\n",
        "    print(chunk.text)"
      ],
      "metadata": {
        "colab": {
          "base_uri": "https://localhost:8080/"
        },
        "id": "4SwsbBpCzOm4",
        "outputId": "e2c5ba2e-b185-45b6-de2a-1d1bdbfd507c"
      },
      "execution_count": 14,
      "outputs": [
        {
          "output_type": "stream",
          "name": "stdout",
          "text": [
            "Autonomous cars\n",
            "insurance liability\n",
            "manufacturers\n"
          ]
        }
      ]
    },
    {
      "cell_type": "markdown",
      "source": [
        "**Built-in Visualizers**\n",
        "\n",
        "spaCy includes a built-in visualization tool called **displaCy**. displaCy is able to detect whether you're working in a Jupyter notebook, and will return markup that can be rendered in a cell right away. When you export your notebook, the visualizations will be included as HTML.\n",
        "\n",
        "For more info visit https://spacy.io/usage/visualizers"
      ],
      "metadata": {
        "id": "j2ReGfdL1hA0"
      }
    },
    {
      "cell_type": "code",
      "source": [
        "from spacy import displacy # You can both run inside and outside of the notebook\n",
        "doc = nlp(u\"Apple is going to build a U.K. factory for $6 million.\")\n",
        "displacy.render(doc, style = 'dep', jupyter=True, options = {'distance':110})"
      ],
      "metadata": {
        "colab": {
          "base_uri": "https://localhost:8080/",
          "height": 399
        },
        "id": "Yh0Ru4LNzsvb",
        "outputId": "d74385e8-26a0-4266-a4af-a3a35834c523"
      },
      "execution_count": 17,
      "outputs": [
        {
          "output_type": "display_data",
          "data": {
            "text/plain": [
              "<IPython.core.display.HTML object>"
            ],
            "text/html": [
              "<span class=\"tex2jax_ignore\"><svg xmlns=\"http://www.w3.org/2000/svg\" xmlns:xlink=\"http://www.w3.org/1999/xlink\" xml:lang=\"en\" id=\"be528bf590f74a5885b71cba9a83b630-0\" class=\"displacy\" width=\"1370\" height=\"357.0\" direction=\"ltr\" style=\"max-width: none; height: 357.0px; color: #000000; background: #ffffff; font-family: Arial; direction: ltr\">\n",
              "<text class=\"displacy-token\" fill=\"currentColor\" text-anchor=\"middle\" y=\"267.0\">\n",
              "    <tspan class=\"displacy-word\" fill=\"currentColor\" x=\"50\">Apple</tspan>\n",
              "    <tspan class=\"displacy-tag\" dy=\"2em\" fill=\"currentColor\" x=\"50\">PROPN</tspan>\n",
              "</text>\n",
              "\n",
              "<text class=\"displacy-token\" fill=\"currentColor\" text-anchor=\"middle\" y=\"267.0\">\n",
              "    <tspan class=\"displacy-word\" fill=\"currentColor\" x=\"160\">is</tspan>\n",
              "    <tspan class=\"displacy-tag\" dy=\"2em\" fill=\"currentColor\" x=\"160\">AUX</tspan>\n",
              "</text>\n",
              "\n",
              "<text class=\"displacy-token\" fill=\"currentColor\" text-anchor=\"middle\" y=\"267.0\">\n",
              "    <tspan class=\"displacy-word\" fill=\"currentColor\" x=\"270\">going</tspan>\n",
              "    <tspan class=\"displacy-tag\" dy=\"2em\" fill=\"currentColor\" x=\"270\">VERB</tspan>\n",
              "</text>\n",
              "\n",
              "<text class=\"displacy-token\" fill=\"currentColor\" text-anchor=\"middle\" y=\"267.0\">\n",
              "    <tspan class=\"displacy-word\" fill=\"currentColor\" x=\"380\">to</tspan>\n",
              "    <tspan class=\"displacy-tag\" dy=\"2em\" fill=\"currentColor\" x=\"380\">PART</tspan>\n",
              "</text>\n",
              "\n",
              "<text class=\"displacy-token\" fill=\"currentColor\" text-anchor=\"middle\" y=\"267.0\">\n",
              "    <tspan class=\"displacy-word\" fill=\"currentColor\" x=\"490\">build</tspan>\n",
              "    <tspan class=\"displacy-tag\" dy=\"2em\" fill=\"currentColor\" x=\"490\">VERB</tspan>\n",
              "</text>\n",
              "\n",
              "<text class=\"displacy-token\" fill=\"currentColor\" text-anchor=\"middle\" y=\"267.0\">\n",
              "    <tspan class=\"displacy-word\" fill=\"currentColor\" x=\"600\">a</tspan>\n",
              "    <tspan class=\"displacy-tag\" dy=\"2em\" fill=\"currentColor\" x=\"600\">DET</tspan>\n",
              "</text>\n",
              "\n",
              "<text class=\"displacy-token\" fill=\"currentColor\" text-anchor=\"middle\" y=\"267.0\">\n",
              "    <tspan class=\"displacy-word\" fill=\"currentColor\" x=\"710\">U.K.</tspan>\n",
              "    <tspan class=\"displacy-tag\" dy=\"2em\" fill=\"currentColor\" x=\"710\">PROPN</tspan>\n",
              "</text>\n",
              "\n",
              "<text class=\"displacy-token\" fill=\"currentColor\" text-anchor=\"middle\" y=\"267.0\">\n",
              "    <tspan class=\"displacy-word\" fill=\"currentColor\" x=\"820\">factory</tspan>\n",
              "    <tspan class=\"displacy-tag\" dy=\"2em\" fill=\"currentColor\" x=\"820\">NOUN</tspan>\n",
              "</text>\n",
              "\n",
              "<text class=\"displacy-token\" fill=\"currentColor\" text-anchor=\"middle\" y=\"267.0\">\n",
              "    <tspan class=\"displacy-word\" fill=\"currentColor\" x=\"930\">for</tspan>\n",
              "    <tspan class=\"displacy-tag\" dy=\"2em\" fill=\"currentColor\" x=\"930\">ADP</tspan>\n",
              "</text>\n",
              "\n",
              "<text class=\"displacy-token\" fill=\"currentColor\" text-anchor=\"middle\" y=\"267.0\">\n",
              "    <tspan class=\"displacy-word\" fill=\"currentColor\" x=\"1040\">$</tspan>\n",
              "    <tspan class=\"displacy-tag\" dy=\"2em\" fill=\"currentColor\" x=\"1040\">SYM</tspan>\n",
              "</text>\n",
              "\n",
              "<text class=\"displacy-token\" fill=\"currentColor\" text-anchor=\"middle\" y=\"267.0\">\n",
              "    <tspan class=\"displacy-word\" fill=\"currentColor\" x=\"1150\">6</tspan>\n",
              "    <tspan class=\"displacy-tag\" dy=\"2em\" fill=\"currentColor\" x=\"1150\">NUM</tspan>\n",
              "</text>\n",
              "\n",
              "<text class=\"displacy-token\" fill=\"currentColor\" text-anchor=\"middle\" y=\"267.0\">\n",
              "    <tspan class=\"displacy-word\" fill=\"currentColor\" x=\"1260\">million.</tspan>\n",
              "    <tspan class=\"displacy-tag\" dy=\"2em\" fill=\"currentColor\" x=\"1260\">NUM</tspan>\n",
              "</text>\n",
              "\n",
              "<g class=\"displacy-arrow\">\n",
              "    <path class=\"displacy-arc\" id=\"arrow-be528bf590f74a5885b71cba9a83b630-0-0\" stroke-width=\"2px\" d=\"M70,222.0 C70,112.0 260.0,112.0 260.0,222.0\" fill=\"none\" stroke=\"currentColor\"/>\n",
              "    <text dy=\"1.25em\" style=\"font-size: 0.8em; letter-spacing: 1px\">\n",
              "        <textPath xlink:href=\"#arrow-be528bf590f74a5885b71cba9a83b630-0-0\" class=\"displacy-label\" startOffset=\"50%\" side=\"left\" fill=\"currentColor\" text-anchor=\"middle\">nsubj</textPath>\n",
              "    </text>\n",
              "    <path class=\"displacy-arrowhead\" d=\"M70,224.0 L62,212.0 78,212.0\" fill=\"currentColor\"/>\n",
              "</g>\n",
              "\n",
              "<g class=\"displacy-arrow\">\n",
              "    <path class=\"displacy-arc\" id=\"arrow-be528bf590f74a5885b71cba9a83b630-0-1\" stroke-width=\"2px\" d=\"M180,222.0 C180,167.0 255.0,167.0 255.0,222.0\" fill=\"none\" stroke=\"currentColor\"/>\n",
              "    <text dy=\"1.25em\" style=\"font-size: 0.8em; letter-spacing: 1px\">\n",
              "        <textPath xlink:href=\"#arrow-be528bf590f74a5885b71cba9a83b630-0-1\" class=\"displacy-label\" startOffset=\"50%\" side=\"left\" fill=\"currentColor\" text-anchor=\"middle\">aux</textPath>\n",
              "    </text>\n",
              "    <path class=\"displacy-arrowhead\" d=\"M180,224.0 L172,212.0 188,212.0\" fill=\"currentColor\"/>\n",
              "</g>\n",
              "\n",
              "<g class=\"displacy-arrow\">\n",
              "    <path class=\"displacy-arc\" id=\"arrow-be528bf590f74a5885b71cba9a83b630-0-2\" stroke-width=\"2px\" d=\"M400,222.0 C400,167.0 475.0,167.0 475.0,222.0\" fill=\"none\" stroke=\"currentColor\"/>\n",
              "    <text dy=\"1.25em\" style=\"font-size: 0.8em; letter-spacing: 1px\">\n",
              "        <textPath xlink:href=\"#arrow-be528bf590f74a5885b71cba9a83b630-0-2\" class=\"displacy-label\" startOffset=\"50%\" side=\"left\" fill=\"currentColor\" text-anchor=\"middle\">aux</textPath>\n",
              "    </text>\n",
              "    <path class=\"displacy-arrowhead\" d=\"M400,224.0 L392,212.0 408,212.0\" fill=\"currentColor\"/>\n",
              "</g>\n",
              "\n",
              "<g class=\"displacy-arrow\">\n",
              "    <path class=\"displacy-arc\" id=\"arrow-be528bf590f74a5885b71cba9a83b630-0-3\" stroke-width=\"2px\" d=\"M290,222.0 C290,112.0 480.0,112.0 480.0,222.0\" fill=\"none\" stroke=\"currentColor\"/>\n",
              "    <text dy=\"1.25em\" style=\"font-size: 0.8em; letter-spacing: 1px\">\n",
              "        <textPath xlink:href=\"#arrow-be528bf590f74a5885b71cba9a83b630-0-3\" class=\"displacy-label\" startOffset=\"50%\" side=\"left\" fill=\"currentColor\" text-anchor=\"middle\">xcomp</textPath>\n",
              "    </text>\n",
              "    <path class=\"displacy-arrowhead\" d=\"M480.0,224.0 L488.0,212.0 472.0,212.0\" fill=\"currentColor\"/>\n",
              "</g>\n",
              "\n",
              "<g class=\"displacy-arrow\">\n",
              "    <path class=\"displacy-arc\" id=\"arrow-be528bf590f74a5885b71cba9a83b630-0-4\" stroke-width=\"2px\" d=\"M620,222.0 C620,112.0 810.0,112.0 810.0,222.0\" fill=\"none\" stroke=\"currentColor\"/>\n",
              "    <text dy=\"1.25em\" style=\"font-size: 0.8em; letter-spacing: 1px\">\n",
              "        <textPath xlink:href=\"#arrow-be528bf590f74a5885b71cba9a83b630-0-4\" class=\"displacy-label\" startOffset=\"50%\" side=\"left\" fill=\"currentColor\" text-anchor=\"middle\">det</textPath>\n",
              "    </text>\n",
              "    <path class=\"displacy-arrowhead\" d=\"M620,224.0 L612,212.0 628,212.0\" fill=\"currentColor\"/>\n",
              "</g>\n",
              "\n",
              "<g class=\"displacy-arrow\">\n",
              "    <path class=\"displacy-arc\" id=\"arrow-be528bf590f74a5885b71cba9a83b630-0-5\" stroke-width=\"2px\" d=\"M730,222.0 C730,167.0 805.0,167.0 805.0,222.0\" fill=\"none\" stroke=\"currentColor\"/>\n",
              "    <text dy=\"1.25em\" style=\"font-size: 0.8em; letter-spacing: 1px\">\n",
              "        <textPath xlink:href=\"#arrow-be528bf590f74a5885b71cba9a83b630-0-5\" class=\"displacy-label\" startOffset=\"50%\" side=\"left\" fill=\"currentColor\" text-anchor=\"middle\">compound</textPath>\n",
              "    </text>\n",
              "    <path class=\"displacy-arrowhead\" d=\"M730,224.0 L722,212.0 738,212.0\" fill=\"currentColor\"/>\n",
              "</g>\n",
              "\n",
              "<g class=\"displacy-arrow\">\n",
              "    <path class=\"displacy-arc\" id=\"arrow-be528bf590f74a5885b71cba9a83b630-0-6\" stroke-width=\"2px\" d=\"M510,222.0 C510,57.0 815.0,57.0 815.0,222.0\" fill=\"none\" stroke=\"currentColor\"/>\n",
              "    <text dy=\"1.25em\" style=\"font-size: 0.8em; letter-spacing: 1px\">\n",
              "        <textPath xlink:href=\"#arrow-be528bf590f74a5885b71cba9a83b630-0-6\" class=\"displacy-label\" startOffset=\"50%\" side=\"left\" fill=\"currentColor\" text-anchor=\"middle\">dobj</textPath>\n",
              "    </text>\n",
              "    <path class=\"displacy-arrowhead\" d=\"M815.0,224.0 L823.0,212.0 807.0,212.0\" fill=\"currentColor\"/>\n",
              "</g>\n",
              "\n",
              "<g class=\"displacy-arrow\">\n",
              "    <path class=\"displacy-arc\" id=\"arrow-be528bf590f74a5885b71cba9a83b630-0-7\" stroke-width=\"2px\" d=\"M510,222.0 C510,2.0 930.0,2.0 930.0,222.0\" fill=\"none\" stroke=\"currentColor\"/>\n",
              "    <text dy=\"1.25em\" style=\"font-size: 0.8em; letter-spacing: 1px\">\n",
              "        <textPath xlink:href=\"#arrow-be528bf590f74a5885b71cba9a83b630-0-7\" class=\"displacy-label\" startOffset=\"50%\" side=\"left\" fill=\"currentColor\" text-anchor=\"middle\">prep</textPath>\n",
              "    </text>\n",
              "    <path class=\"displacy-arrowhead\" d=\"M930.0,224.0 L938.0,212.0 922.0,212.0\" fill=\"currentColor\"/>\n",
              "</g>\n",
              "\n",
              "<g class=\"displacy-arrow\">\n",
              "    <path class=\"displacy-arc\" id=\"arrow-be528bf590f74a5885b71cba9a83b630-0-8\" stroke-width=\"2px\" d=\"M1060,222.0 C1060,112.0 1250.0,112.0 1250.0,222.0\" fill=\"none\" stroke=\"currentColor\"/>\n",
              "    <text dy=\"1.25em\" style=\"font-size: 0.8em; letter-spacing: 1px\">\n",
              "        <textPath xlink:href=\"#arrow-be528bf590f74a5885b71cba9a83b630-0-8\" class=\"displacy-label\" startOffset=\"50%\" side=\"left\" fill=\"currentColor\" text-anchor=\"middle\">quantmod</textPath>\n",
              "    </text>\n",
              "    <path class=\"displacy-arrowhead\" d=\"M1060,224.0 L1052,212.0 1068,212.0\" fill=\"currentColor\"/>\n",
              "</g>\n",
              "\n",
              "<g class=\"displacy-arrow\">\n",
              "    <path class=\"displacy-arc\" id=\"arrow-be528bf590f74a5885b71cba9a83b630-0-9\" stroke-width=\"2px\" d=\"M1170,222.0 C1170,167.0 1245.0,167.0 1245.0,222.0\" fill=\"none\" stroke=\"currentColor\"/>\n",
              "    <text dy=\"1.25em\" style=\"font-size: 0.8em; letter-spacing: 1px\">\n",
              "        <textPath xlink:href=\"#arrow-be528bf590f74a5885b71cba9a83b630-0-9\" class=\"displacy-label\" startOffset=\"50%\" side=\"left\" fill=\"currentColor\" text-anchor=\"middle\">compound</textPath>\n",
              "    </text>\n",
              "    <path class=\"displacy-arrowhead\" d=\"M1170,224.0 L1162,212.0 1178,212.0\" fill=\"currentColor\"/>\n",
              "</g>\n",
              "\n",
              "<g class=\"displacy-arrow\">\n",
              "    <path class=\"displacy-arc\" id=\"arrow-be528bf590f74a5885b71cba9a83b630-0-10\" stroke-width=\"2px\" d=\"M950,222.0 C950,57.0 1255.0,57.0 1255.0,222.0\" fill=\"none\" stroke=\"currentColor\"/>\n",
              "    <text dy=\"1.25em\" style=\"font-size: 0.8em; letter-spacing: 1px\">\n",
              "        <textPath xlink:href=\"#arrow-be528bf590f74a5885b71cba9a83b630-0-10\" class=\"displacy-label\" startOffset=\"50%\" side=\"left\" fill=\"currentColor\" text-anchor=\"middle\">pobj</textPath>\n",
              "    </text>\n",
              "    <path class=\"displacy-arrowhead\" d=\"M1255.0,224.0 L1263.0,212.0 1247.0,212.0\" fill=\"currentColor\"/>\n",
              "</g>\n",
              "</svg></span>"
            ]
          },
          "metadata": {}
        }
      ]
    },
    {
      "cell_type": "code",
      "source": [
        "doc = nlp(u\"Over the last quarter Apple sold nearly 20 thousand iPods for a profit\")\n",
        "displacy.render(doc, style = 'ent', jupyter=True, options = {'distance':110})"
      ],
      "metadata": {
        "colab": {
          "base_uri": "https://localhost:8080/",
          "height": 52
        },
        "id": "xFIj5MGJ0tC8",
        "outputId": "bc94ee06-4e34-4c1c-9ef1-fde7e975c24f"
      },
      "execution_count": 18,
      "outputs": [
        {
          "output_type": "display_data",
          "data": {
            "text/plain": [
              "<IPython.core.display.HTML object>"
            ],
            "text/html": [
              "<span class=\"tex2jax_ignore\"><div class=\"entities\" style=\"line-height: 2.5; direction: ltr\">Over \n",
              "<mark class=\"entity\" style=\"background: #bfe1d9; padding: 0.45em 0.6em; margin: 0 0.25em; line-height: 1; border-radius: 0.35em;\">\n",
              "    the last quarter\n",
              "    <span style=\"font-size: 0.8em; font-weight: bold; line-height: 1; border-radius: 0.35em; vertical-align: middle; margin-left: 0.5rem\">DATE</span>\n",
              "</mark>\n",
              " \n",
              "<mark class=\"entity\" style=\"background: #7aecec; padding: 0.45em 0.6em; margin: 0 0.25em; line-height: 1; border-radius: 0.35em;\">\n",
              "    Apple\n",
              "    <span style=\"font-size: 0.8em; font-weight: bold; line-height: 1; border-radius: 0.35em; vertical-align: middle; margin-left: 0.5rem\">ORG</span>\n",
              "</mark>\n",
              " sold \n",
              "<mark class=\"entity\" style=\"background: #e4e7d2; padding: 0.45em 0.6em; margin: 0 0.25em; line-height: 1; border-radius: 0.35em;\">\n",
              "    nearly 20 thousand\n",
              "    <span style=\"font-size: 0.8em; font-weight: bold; line-height: 1; border-radius: 0.35em; vertical-align: middle; margin-left: 0.5rem\">CARDINAL</span>\n",
              "</mark>\n",
              " \n",
              "<mark class=\"entity\" style=\"background: #bfeeb7; padding: 0.45em 0.6em; margin: 0 0.25em; line-height: 1; border-radius: 0.35em;\">\n",
              "    iPods\n",
              "    <span style=\"font-size: 0.8em; font-weight: bold; line-height: 1; border-radius: 0.35em; vertical-align: middle; margin-left: 0.5rem\">PRODUCT</span>\n",
              "</mark>\n",
              " for a profit</div></span>"
            ]
          },
          "metadata": {}
        }
      ]
    },
    {
      "cell_type": "markdown",
      "source": [
        "## 2.3 Stemming\n",
        "\n",
        "Often when searching text for a certain keyword, it helps if the search returns variations of the word. For instance, searching for \"boat\" might also return \"boats\" and \"boating\". Here, \"boat\" would be the **stem** for [boat, boater, boating, boats].\n",
        "\n",
        "Stemming is a somewhat crude method for cataloging related words; it essentially chops off letters from the end until the stem is reached. This works fairly well in most cases, but unfortunately English has many exceptions where a more sophisticated process is required. In fact, spaCy doesn't include a stemmer, opting instead to rely entirely on lemmatization. For those interested, there's some background on this decision [here](https://github.com/explosion/spaCy/issues/327). We discuss the virtues of *lemmatization* in the next section.\n",
        "\n",
        "Instead, we'll use another popular NLP tool called **nltk**, which stands for *Natural Language Toolkit*. For more information on nltk visit https://www.nltk.org/"
      ],
      "metadata": {
        "id": "u-LBJhKZtzr2"
      }
    },
    {
      "cell_type": "code",
      "source": [
        "import nltk\n",
        "from nltk.stem.porter import PorterStemmer\n",
        "p_stemmer = PorterStemmer()       # Porter Stemmer"
      ],
      "metadata": {
        "id": "S1209zRlt5kQ"
      },
      "execution_count": 19,
      "outputs": []
    },
    {
      "cell_type": "code",
      "source": [
        "words = ['run', 'runner', 'ran', 'runs', 'easily', 'fairly']\n",
        "\n",
        "for word in words:\n",
        "  print(word + '---->' + p_stemmer.stem(word))"
      ],
      "metadata": {
        "colab": {
          "base_uri": "https://localhost:8080/"
        },
        "id": "E7bE-T4C4E88",
        "outputId": "3b0e3051-14a5-4943-8e4b-ec96e3097c40"
      },
      "execution_count": 20,
      "outputs": [
        {
          "output_type": "stream",
          "name": "stdout",
          "text": [
            "run---->run\n",
            "runner---->runner\n",
            "ran---->ran\n",
            "runs---->run\n",
            "easily---->easili\n",
            "fairly---->fairli\n"
          ]
        }
      ]
    },
    {
      "cell_type": "code",
      "source": [
        "from nltk.stem.snowball import SnowballStemmer\n",
        "s_stemmer = SnowballStemmer(language = 'english') # Snowball Stemmer\n",
        "\n",
        "for word in words:\n",
        "  print(word + '---->' + s_stemmer.stem(word))"
      ],
      "metadata": {
        "colab": {
          "base_uri": "https://localhost:8080/"
        },
        "id": "CaxP4ENN4foh",
        "outputId": "a6ea1da6-421c-46fe-9b59-7bc9af3bdea3"
      },
      "execution_count": 22,
      "outputs": [
        {
          "output_type": "stream",
          "name": "stdout",
          "text": [
            "run---->run\n",
            "runner---->runner\n",
            "ran---->ran\n",
            "runs---->run\n",
            "easily---->easili\n",
            "fairly---->fair\n"
          ]
        }
      ]
    },
    {
      "cell_type": "code",
      "source": [
        "words = ['generous', 'generation', 'generously', 'generate']\n",
        "\n",
        "for word in words:\n",
        "  print(word + '---->' + s_stemmer.stem(word))"
      ],
      "metadata": {
        "colab": {
          "base_uri": "https://localhost:8080/"
        },
        "id": "xhHunXkS5C8d",
        "outputId": "b36d5015-c5c6-4538-ad0f-e0be5248c1b8"
      },
      "execution_count": 23,
      "outputs": [
        {
          "output_type": "stream",
          "name": "stdout",
          "text": [
            "generous---->generous\n",
            "generation---->generat\n",
            "generously---->generous\n",
            "generate---->generat\n"
          ]
        }
      ]
    },
    {
      "cell_type": "markdown",
      "source": [
        "## 2.4 Lematization\n",
        "\n",
        "In contrast to stemming, lemmatization looks beyond word reduction, and considers a language's full vocabulary to apply a *morphological analysis* to words. The lemma of 'was' is 'be' and the lemma of 'mice' is 'mouse'. Further, the lemma of 'meeting' might be 'meet' or 'meeting' depending on its use in a sentence."
      ],
      "metadata": {
        "id": "K3nxFUPo5Qxn"
      }
    },
    {
      "cell_type": "code",
      "source": [
        "# Perform standard imports:\n",
        "import spacy\n",
        "nlp = spacy.load('en_core_web_sm')"
      ],
      "metadata": {
        "id": "ooqnkFVG5o9I"
      },
      "execution_count": 24,
      "outputs": []
    },
    {
      "cell_type": "code",
      "source": [
        "doc1 = nlp(u\"I am a runner running in a race because I love to run since I ran today\")\n",
        "\n",
        "for token in doc1:\n",
        "    print(token.text, '\\t', token.pos_, '\\t', token.lemma, '\\t', token.lemma_)"
      ],
      "metadata": {
        "colab": {
          "base_uri": "https://localhost:8080/"
        },
        "id": "DHMvvxv75rQu",
        "outputId": "6597b8e1-b289-46f6-dcbe-0872d9c11bb0"
      },
      "execution_count": 25,
      "outputs": [
        {
          "output_type": "stream",
          "name": "stdout",
          "text": [
            "I \t PRON \t 4690420944186131903 \t I\n",
            "am \t AUX \t 10382539506755952630 \t be\n",
            "a \t DET \t 11901859001352538922 \t a\n",
            "runner \t NOUN \t 12640964157389618806 \t runner\n",
            "running \t VERB \t 12767647472892411841 \t run\n",
            "in \t ADP \t 3002984154512732771 \t in\n",
            "a \t DET \t 11901859001352538922 \t a\n",
            "race \t NOUN \t 8048469955494714898 \t race\n",
            "because \t SCONJ \t 16950148841647037698 \t because\n",
            "I \t PRON \t 4690420944186131903 \t I\n",
            "love \t VERB \t 3702023516439754181 \t love\n",
            "to \t PART \t 3791531372978436496 \t to\n",
            "run \t VERB \t 12767647472892411841 \t run\n",
            "since \t SCONJ \t 10066841407251338481 \t since\n",
            "I \t PRON \t 4690420944186131903 \t I\n",
            "ran \t VERB \t 12767647472892411841 \t run\n",
            "today \t NOUN \t 11042482332948150395 \t today\n"
          ]
        }
      ]
    },
    {
      "cell_type": "code",
      "source": [
        "### Function to display lemmas\n",
        "# Since the display above is staggared and hard to read, let's write a function that displays the information we want more neatly.\n",
        "\n",
        "def show_lemmas(text):\n",
        "    for token in text:\n",
        "        print(f'{token.text:{12}} {token.pos_:{6}} {token.lemma:<{22}} {token.lemma_}')"
      ],
      "metadata": {
        "id": "x13xMJaq6Kx4"
      },
      "execution_count": 26,
      "outputs": []
    },
    {
      "cell_type": "code",
      "source": [
        "doc2 = nlp(u\"I saw ten mice today!\")\n",
        "show_lemmas(doc2)"
      ],
      "metadata": {
        "colab": {
          "base_uri": "https://localhost:8080/"
        },
        "id": "3tTlBX1y6puI",
        "outputId": "40ee8023-e06e-42e9-88fa-ad5410f6073b"
      },
      "execution_count": 27,
      "outputs": [
        {
          "output_type": "stream",
          "name": "stdout",
          "text": [
            "I            PRON   4690420944186131903    I\n",
            "saw          VERB   11925638236994514241   see\n",
            "ten          NUM    7970704286052693043    ten\n",
            "mice         NOUN   1384165645700560590    mouse\n",
            "today        NOUN   11042482332948150395   today\n",
            "!            PUNCT  17494803046312582752   !\n"
          ]
        }
      ]
    },
    {
      "cell_type": "markdown",
      "source": [
        "## 2.5 Stop Words"
      ],
      "metadata": {
        "id": "3DiV9NJC6FMl"
      }
    },
    {
      "cell_type": "code",
      "source": [
        "import spacy\n",
        "nlp = spacy.load('en_core_web_sm')"
      ],
      "metadata": {
        "id": "vnYxa1r16J1D"
      },
      "execution_count": 28,
      "outputs": []
    },
    {
      "cell_type": "code",
      "source": [
        "print(nlp.Defaults.stop_words)"
      ],
      "metadata": {
        "colab": {
          "base_uri": "https://localhost:8080/"
        },
        "id": "ZFAyf2gjH1Sz",
        "outputId": "81fed652-8cc5-46f7-e2e3-60880c03589e"
      },
      "execution_count": 29,
      "outputs": [
        {
          "output_type": "stream",
          "name": "stdout",
          "text": [
            "{'he', 'together', 'could', 'put', 'down', 'next', 'nor', 'are', 'neither', 'whole', 'indeed', 'nowhere', 'was', 'ca', 'across', 'sixty', 'because', 'too', 'still', 'along', 'anyhow', '‘d', 'for', 'amongst', 'without', 'which', 'whoever', 'beforehand', 'us', 'will', 'such', 'take', 'hereby', 'although', 'must', 'show', 'sometime', 'below', 'go', 'everyone', 'hers', 'back', 'into', 'regarding', 'becoming', 'do', 'really', \"'re\", 'these', 'whereby', 'otherwise', 'when', 'anything', 'ever', 'most', 're', 'others', '’s', 'get', 'cannot', 'is', 'name', '’re', 'where', 'again', 'noone', 'itself', 'through', 'make', 'though', 'per', \"'m\", 'however', 'yours', 'while', 'more', 'bottom', 'on', 'nothing', 'except', 'thereby', 'between', 'does', 'behind', 'hereupon', 'up', 'seeming', 'whether', 'among', 'even', 'those', 'him', 'hence', '’m', 'nine', '‘re', 'onto', 'few', 'whereupon', 'keep', 'side', 'would', 'herself', '’ve', 'n‘t', 'well', 'our', 'has', 'its', 'besides', 'forty', 'then', 'full', 'twelve', 'moreover', 'hundred', 'almost', 'whatever', 'last', 'another', 'beyond', 'it', 'everywhere', 'please', 'if', 'doing', 'less', 'very', 'top', 'whom', 'somehow', 'alone', 'one', 'fifteen', 'since', 'how', 'six', 'serious', 'and', 'sometimes', 'might', 'mostly', 'before', 'yet', 'five', 'using', 'above', 'latter', 'whereafter', 'often', 'every', 'three', 'an', 'whither', 'in', 'we', 'them', 'twenty', 'by', 'just', \"'ll\", 'about', 'therefore', 'but', 'anywhere', '‘s', 'fifty', 'former', '‘m', 'within', \"'ve\", 'whereas', 'each', 'nevertheless', 'himself', 'made', 'any', 'am', 'during', 'over', 'via', 'hereafter', 'became', 'with', 'after', 'seem', 'enough', 'whose', '’ll', 'eight', 'this', 'much', '‘ve', 'amount', 'she', 'around', 'who', 'eleven', 'perhaps', 'latterly', 'wherein', 'can', 'that', 'as', 'ours', 'none', \"n't\", 'namely', 'already', 'under', 'until', 'quite', 'beside', 'elsewhere', '’d', 'front', 'also', 'her', 'nobody', 'were', 'not', 'other', 'four', 'afterwards', 'wherever', 'two', 'themselves', 'seems', 'off', 'towards', 'thus', 'their', 'anyway', 'had', 'so', 'due', '‘ll', 'herein', 'mine', 'of', 'many', 'several', 'some', 'what', 'become', 'toward', 'ten', 'yourself', 'from', 'being', 'than', 'call', 'your', 'thereafter', 'done', 'anyone', 'used', 'various', 'a', 'n’t', 'whence', 'never', 'his', 'yourselves', 'rather', 'thence', 'everything', 'first', 'throughout', 'else', 'move', 'my', 'becomes', 'me', 'once', 'ourselves', 'upon', 'the', 'thru', \"'d\", 'now', 'own', 'all', 'been', 'they', 'against', 'empty', 'have', 'least', 'same', 'part', 'should', 'seemed', 'why', \"'s\", 'either', 'third', 'give', 'unless', 'no', 'here', 'to', 'both', 'further', 'out', 'whenever', 'or', 'you', 'i', 'therein', 'only', 'thereupon', 'always', 'meanwhile', 'say', 'something', 'at', 'be', 'formerly', 'myself', 'someone', 'see', 'may', 'there', 'did', 'somewhere'}\n"
          ]
        }
      ]
    },
    {
      "cell_type": "code",
      "source": [
        "# You can check if the word is a stop word\n",
        "nlp.vocab['is'].is_stop"
      ],
      "metadata": {
        "colab": {
          "base_uri": "https://localhost:8080/"
        },
        "id": "9Ebjn137IBx_",
        "outputId": "6c6d19be-17c0-4437-cec9-655905f166e5"
      },
      "execution_count": 31,
      "outputs": [
        {
          "output_type": "execute_result",
          "data": {
            "text/plain": [
              "True"
            ]
          },
          "metadata": {},
          "execution_count": 31
        }
      ]
    },
    {
      "cell_type": "code",
      "source": [
        "# Adding a stop word manually\n",
        "nlp.Defaults.stop_words.add('btw')\n",
        "# Alternatively\n",
        "nlp.vocab['btw'].is_stop = True\n",
        "nlp.vocab['btw'].is_stop"
      ],
      "metadata": {
        "colab": {
          "base_uri": "https://localhost:8080/"
        },
        "id": "dgDJ0dJdIT11",
        "outputId": "aa9e90b5-37ee-4cfb-efa1-304e672ddd02"
      },
      "execution_count": 36,
      "outputs": [
        {
          "output_type": "execute_result",
          "data": {
            "text/plain": [
              "True"
            ]
          },
          "metadata": {},
          "execution_count": 36
        }
      ]
    },
    {
      "cell_type": "code",
      "source": [
        "# Remove a stop word\n",
        "nlp.Defaults.stop_words.remove('beyond')\n",
        "nlp.vocab['beyond'].is_stop = False\n",
        "nlp.vocab['beyond'].is_stop"
      ],
      "metadata": {
        "colab": {
          "base_uri": "https://localhost:8080/"
        },
        "id": "4zJUTN_eIm0N",
        "outputId": "83c3566b-ccbf-4d3e-9d2f-49d296572414"
      },
      "execution_count": 35,
      "outputs": [
        {
          "output_type": "execute_result",
          "data": {
            "text/plain": [
              "False"
            ]
          },
          "metadata": {},
          "execution_count": 35
        }
      ]
    },
    {
      "cell_type": "markdown",
      "source": [
        "## 2.6 Phrase Matching and Vocabulary\n",
        "\n",
        "**Rule-based Matching**\n",
        "\n",
        "spaCy offers a rule-matching tool called `Matcher` that allows you to build a library of token patterns, then match those patterns against a Doc object to return a list of found matches. You can match on any part of the token including text and annotations, and you can add multiple patterns to the same matcher."
      ],
      "metadata": {
        "id": "L86_S69mHgtn"
      }
    },
    {
      "cell_type": "code",
      "source": [
        "# Perform standard imports\n",
        "import spacy\n",
        "nlp = spacy.load('en_core_web_sm')"
      ],
      "metadata": {
        "id": "-llXkdauJN43"
      },
      "execution_count": 37,
      "outputs": []
    },
    {
      "cell_type": "code",
      "source": [
        "# Import the Matcher library\n",
        "from spacy.matcher import Matcher\n",
        "matcher = Matcher(nlp.vocab)"
      ],
      "metadata": {
        "id": "uD49_2-LJRSN"
      },
      "execution_count": 38,
      "outputs": []
    },
    {
      "cell_type": "code",
      "source": [
        "pattern1 = [{'LOWER': 'solarpower'}] #SolarPower\n",
        "pattern2 = [{'LOWER': 'solar'}, {'IS_PUNCT':True},{'LOWER': 'power'}] #Solar-power\n",
        "pattern3 = [{'LOWER': 'solar'}, {'LOWER': 'power'}] # Solar power"
      ],
      "metadata": {
        "id": "qxXYNoQCJWH_"
      },
      "execution_count": 41,
      "outputs": []
    },
    {
      "cell_type": "markdown",
      "source": [
        "This found both two-word patterns, with and without the hyphen!\n",
        "\n",
        "The following quantifiers can be passed to the `'OP'` key:\n",
        "<table><tr><th>OP</th><th>Description</th></tr>\n",
        "\n",
        "<tr ><td><span >\\!</span></td><td>Negate the pattern, by requiring it to match exactly 0 times</td></tr>\n",
        "<tr ><td><span >?</span></td><td>Make the pattern optional, by allowing it to match 0 or 1 times</td></tr>\n",
        "<tr ><td><span >\\+</span></td><td>Require the pattern to match 1 or more times</td></tr>\n",
        "<tr ><td><span >\\*</span></td><td>Allow the pattern to match zero or more times</td></tr>\n",
        "</table>\n"
      ],
      "metadata": {
        "id": "LTO8Rv8PKP1N"
      }
    },
    {
      "cell_type": "code",
      "source": [
        "matcher.add('SolarPower',  [pattern1, pattern2, pattern3])"
      ],
      "metadata": {
        "id": "lQ5LoZjNKMhG"
      },
      "execution_count": 45,
      "outputs": []
    },
    {
      "cell_type": "code",
      "source": [
        "doc = nlp(u'The Solar Power industry continues to grow as demand \\\n",
        "for solarpower increases. Solar-power cars are gaining popularity.')"
      ],
      "metadata": {
        "id": "4ESrQm5bLTJ3"
      },
      "execution_count": 46,
      "outputs": []
    },
    {
      "cell_type": "code",
      "source": [
        "found_matches = matcher(doc)\n",
        "print(found_matches)"
      ],
      "metadata": {
        "colab": {
          "base_uri": "https://localhost:8080/"
        },
        "id": "LTJbijoPLhgy",
        "outputId": "aab0119d-64aa-4c72-f6e6-1187db9a27aa"
      },
      "execution_count": 47,
      "outputs": [
        {
          "output_type": "stream",
          "name": "stdout",
          "text": [
            "[(8656102463236116519, 1, 3), (8656102463236116519, 10, 11), (8656102463236116519, 13, 16)]\n"
          ]
        }
      ]
    },
    {
      "cell_type": "code",
      "source": [
        "for match_id, start, end in found_matches:\n",
        "    string_id = nlp.vocab.strings[match_id]  # get string representation\n",
        "    span = doc[start:end]                    # get the matched span\n",
        "    print(match_id, string_id, start, end, span.text)"
      ],
      "metadata": {
        "colab": {
          "base_uri": "https://localhost:8080/"
        },
        "id": "fQCptC68L2G-",
        "outputId": "6862fb5e-5e3d-4386-c05f-567aa4d92051"
      },
      "execution_count": 48,
      "outputs": [
        {
          "output_type": "stream",
          "name": "stdout",
          "text": [
            "8656102463236116519 SolarPower 1 3 Solar Power\n",
            "8656102463236116519 SolarPower 10 11 solarpower\n",
            "8656102463236116519 SolarPower 13 16 Solar-power\n"
          ]
        }
      ]
    },
    {
      "cell_type": "code",
      "source": [
        "# Remove the old patterns to avoid duplication:\n",
        "matcher.remove('SolarPower')\n",
        "\n",
        "# Redefine the patterns:\n",
        "pattern1 = [{'LOWER': 'solarpower'}] # solarpower\n",
        "pattern2 = [{'LOWER': 'solar'}, {'IS_PUNCT': True, 'OP':'*'}, {'LOWER': 'power'}] # solar + OP + power\n",
        "\n",
        "matcher.add('SolarPower', [pattern1, pattern2])"
      ],
      "metadata": {
        "id": "fqElz7Y3MAnU"
      },
      "execution_count": 51,
      "outputs": []
    },
    {
      "cell_type": "code",
      "source": [
        "doc2 = nlp(u\"Solar--Power is solarpower yay!\")"
      ],
      "metadata": {
        "id": "PVRtOkVUM3-5"
      },
      "execution_count": 50,
      "outputs": []
    },
    {
      "cell_type": "code",
      "source": [
        "found_matches = matcher(doc2)\n",
        "print(found_matches)"
      ],
      "metadata": {
        "colab": {
          "base_uri": "https://localhost:8080/"
        },
        "id": "I30RemokM9X2",
        "outputId": "86ec944d-b314-4a00-f26f-27f41d312c0c"
      },
      "execution_count": 53,
      "outputs": [
        {
          "output_type": "stream",
          "name": "stdout",
          "text": [
            "[(8656102463236116519, 0, 3), (8656102463236116519, 4, 5)]\n"
          ]
        }
      ]
    },
    {
      "cell_type": "markdown",
      "source": [
        "**Other token attributes**\n",
        "\n",
        "Besides lemmas, there are a variety of token attributes we can use to determine matching rules:\n",
        "<table><tr><th>Attribute</th><th>Description</th></tr>\n",
        "\n",
        "<tr ><td><span >`ORTH`</span></td><td>The exact verbatim text of a token</td></tr>\n",
        "<tr ><td><span >`LOWER`</span></td><td>The lowercase form of the token text</td></tr>\n",
        "<tr ><td><span >`LENGTH`</span></td><td>The length of the token text</td></tr>\n",
        "<tr ><td><span >`IS_ALPHA`, `IS_ASCII`, `IS_DIGIT`</span></td><td>Token text consists of alphanumeric characters, ASCII characters, digits</td></tr>\n",
        "<tr ><td><span >`IS_LOWER`, `IS_UPPER`, `IS_TITLE`</span></td><td>Token text is in lowercase, uppercase, titlecase</td></tr>\n",
        "<tr ><td><span >`IS_PUNCT`, `IS_SPACE`, `IS_STOP`</span></td><td>Token is punctuation, whitespace, stop word</td></tr>\n",
        "<tr ><td><span >`LIKE_NUM`, `LIKE_URL`, `LIKE_EMAIL`</span></td><td>Token text resembles a number, URL, email</td></tr>\n",
        "<tr ><td><span >`POS`, `TAG`, `DEP`, `LEMMA`, `SHAPE`</span></td><td>The token's simple and extended part-of-speech tag, dependency label, lemma, shape</td></tr>\n",
        "<tr ><td><span >`ENT_TYPE`</span></td><td>The token's entity label</td></tr>\n",
        "\n",
        "</table>"
      ],
      "metadata": {
        "id": "emDTJF9sKdTS"
      }
    },
    {
      "cell_type": "code",
      "source": [
        "# Here we set our working directory in our google drive to access datasets externally\n",
        "from google.colab import drive\n",
        "drive.mount('/content/drive')\n",
        "%cd /content/drive/MyDrive/ColabNotebooks/NLP"
      ],
      "metadata": {
        "colab": {
          "base_uri": "https://localhost:8080/"
        },
        "id": "vVBL5iOeOYzc",
        "outputId": "8e0ee69a-6d88-444a-9f6f-7e7c2cba46ca"
      },
      "execution_count": 56,
      "outputs": [
        {
          "output_type": "stream",
          "name": "stdout",
          "text": [
            "Mounted at /content/drive\n",
            "/content/drive/MyDrive/ColabNotebooks/NLP\n"
          ]
        }
      ]
    },
    {
      "cell_type": "code",
      "source": [
        "# Match on terminology list\n",
        "from spacy.matcher import PhraseMatcher\n",
        "matcher = PhraseMatcher(nlp.vocab)\n",
        "nlp = spacy.load('en_core_web_sm')"
      ],
      "metadata": {
        "id": "uqQyUfe6KhtL"
      },
      "execution_count": 58,
      "outputs": []
    },
    {
      "cell_type": "code",
      "source": [
        "with open('TEXTs/reaganomics.txt', encoding=\"utf8\", errors='ignore') as f:\n",
        "  doc3 = nlp(f.read())"
      ],
      "metadata": {
        "id": "z5r1e5HfOGTj"
      },
      "execution_count": 82,
      "outputs": []
    },
    {
      "cell_type": "code",
      "source": [
        "# First, create a list of match phrases:\n",
        "phrase_list = ['voodoo economics', 'supply-side economics', 'trickle-down economics', 'free-market economics']\n",
        "\n",
        "# Next, convert each phrase to a Doc object:\n",
        "phrase_patterns = [nlp(text) for text in phrase_list]"
      ],
      "metadata": {
        "id": "gMigK4R3PEKf"
      },
      "execution_count": 63,
      "outputs": []
    },
    {
      "cell_type": "code",
      "source": [
        "# Pass each Doc object into matcher (note the use of the asterisk!):\n",
        "matcher.add('EconMatcher', phrase_patterns)\n",
        "\n",
        "# Build a list of matches:\n",
        "matches = matcher(doc3)"
      ],
      "metadata": {
        "id": "HfGvFOWYPVP5"
      },
      "execution_count": 76,
      "outputs": []
    },
    {
      "cell_type": "code",
      "source": [
        "matches"
      ],
      "metadata": {
        "colab": {
          "base_uri": "https://localhost:8080/"
        },
        "id": "9ViCopNsPmUT",
        "outputId": "d9fa4086-189d-413b-8728-d07bd5c6febe"
      },
      "execution_count": 72,
      "outputs": [
        {
          "output_type": "execute_result",
          "data": {
            "text/plain": [
              "[(3680293220734633682, 41, 45),\n",
              " (3473369816841043438, 41, 45),\n",
              " (3680293220734633682, 49, 53),\n",
              " (3473369816841043438, 49, 53),\n",
              " (3680293220734633682, 54, 56),\n",
              " (3473369816841043438, 54, 56),\n",
              " (3680293220734633682, 61, 65),\n",
              " (3473369816841043438, 61, 65),\n",
              " (3680293220734633682, 673, 677),\n",
              " (3473369816841043438, 673, 677),\n",
              " (3680293220734633682, 2986, 2990),\n",
              " (3473369816841043438, 2986, 2990)]"
            ]
          },
          "metadata": {},
          "execution_count": 72
        }
      ]
    },
    {
      "cell_type": "code",
      "source": [
        "for match_id, start, end in matches:\n",
        "  try:\n",
        "    #string_id = nlp.vocab.strings[match_id] # get string represenation\n",
        "    span = doc3[start-5:end+5]                  # get the matched span\n",
        "    print(match_id,  start, end, span.text)\n",
        "  except:\n",
        "    pass"
      ],
      "metadata": {
        "colab": {
          "base_uri": "https://localhost:8080/"
        },
        "id": "ixFxpIjAP_ah",
        "outputId": "ed6b6cbe-b65c-4722-9b4d-305e4071f684"
      },
      "execution_count": 79,
      "outputs": [
        {
          "output_type": "stream",
          "name": "stdout",
          "text": [
            "3680293220734633682 41 45 policies are commonly associated with supply-side economics, referred to as trickle\n",
            "3473369816841043438 41 45 policies are commonly associated with supply-side economics, referred to as trickle\n",
            "3680293220734633682 49 53 economics, referred to as trickle-down economics or voodoo economics by political\n",
            "3473369816841043438 49 53 economics, referred to as trickle-down economics or voodoo economics by political\n",
            "3680293220734633682 54 56 trickle-down economics or voodoo economics by political opponents, and\n",
            "3473369816841043438 54 56 trickle-down economics or voodoo economics by political opponents, and\n",
            "3680293220734633682 61 65 by political opponents, and free-market economics by political advocates.\n",
            "\n",
            "\n",
            "3473369816841043438 61 65 by political opponents, and free-market economics by political advocates.\n",
            "\n",
            "\n",
            "3680293220734633682 673 677 attracted a following from the supply-side economics movement, which formed in\n",
            "3473369816841043438 673 677 attracted a following from the supply-side economics movement, which formed in\n",
            "3680293220734633682 2986 2990 became widely known as \"trickle-down economics\", due to the\n",
            "3473369816841043438 2986 2990 became widely known as \"trickle-down economics\", due to the\n"
          ]
        }
      ]
    },
    {
      "cell_type": "markdown",
      "source": [
        "**Viewing Matches**\n",
        "\n",
        "There are a few ways to fetch the text surrounding a match. The simplest is to grab a slice of tokens from the doc that is wider than the match:"
      ],
      "metadata": {
        "id": "3D2NeWqBPx6t"
      }
    },
    {
      "cell_type": "code",
      "source": [
        "doc3[41:45]  # Note that the fifth match starts at doc3[673]"
      ],
      "metadata": {
        "colab": {
          "base_uri": "https://localhost:8080/"
        },
        "id": "M_YJ-oifPya1",
        "outputId": "5b8faa7b-33b7-4d61-ed3d-a505f3665bcf"
      },
      "execution_count": 67,
      "outputs": [
        {
          "output_type": "execute_result",
          "data": {
            "text/plain": [
              "supply-side economics"
            ]
          },
          "metadata": {},
          "execution_count": 67
        }
      ]
    },
    {
      "cell_type": "markdown",
      "source": [
        "## Natural Language Processing Basics Exercises"
      ],
      "metadata": {
        "id": "q7R05LEPNLqg"
      }
    },
    {
      "cell_type": "markdown",
      "source": [
        "For this assessment we'll be using the short story [_An Occurrence at Owl Creek Bridge_](https://en.wikipedia.org/wiki/An_Occurrence_at_Owl_Creek_Bridge) by Ambrose Bierce (1890). <br>The story is in the public domain; the text file was obtained from [Project Gutenberg](https://www.gutenberg.org/ebooks/375.txt.utf-8)."
      ],
      "metadata": {
        "id": "NrCb5hLrSi3r"
      }
    },
    {
      "cell_type": "code",
      "source": [
        "# RUN THIS CELL to perform standard imports:\n",
        "import spacy\n",
        "nlp = spacy.load('en_core_web_sm')"
      ],
      "metadata": {
        "id": "tW-j1OzxNZfz"
      },
      "execution_count": null,
      "outputs": []
    },
    {
      "cell_type": "code",
      "source": [
        "with open('TEXTs/owlcreek.txt', encoding=\"utf8\", errors='ignore') as f:\n",
        "  doc = nlp(f.read())"
      ],
      "metadata": {
        "id": "E9dS3UNfS2lb"
      },
      "execution_count": 84,
      "outputs": []
    },
    {
      "cell_type": "code",
      "source": [
        "doc"
      ],
      "metadata": {
        "colab": {
          "base_uri": "https://localhost:8080/"
        },
        "id": "FwZSyqOmToWf",
        "outputId": "3e826f7d-9bad-41c8-fe61-f4acdf87d5b6"
      },
      "execution_count": 85,
      "outputs": [
        {
          "output_type": "execute_result",
          "data": {
            "text/plain": [
              "AN OCCURRENCE AT OWL CREEK BRIDGE\n",
              "\n",
              "by Ambrose Bierce\n",
              "\n",
              "I\n",
              "\n",
              "A man stood upon a railroad bridge in northern Alabama, looking down\n",
              "into the swift water twenty feet below.  The man's hands were behind\n",
              "his back, the wrists bound with a cord.  A rope closely encircled his\n",
              "neck.  It was attached to a stout cross-timber above his head and the\n",
              "slack fell to the level of his knees.  Some loose boards laid upon the\n",
              "ties supporting the rails of the railway supplied a footing for him\n",
              "and his executioners--two private soldiers of the Federal army,\n",
              "directed by a sergeant who in civil life may have been a deputy\n",
              "sheriff.  At a short remove upon the same temporary platform was an\n",
              "officer in the uniform of his rank, armed.  He was a captain.  A\n",
              "sentinel at each end of the bridge stood with his rifle in the\n",
              "position known as \"support,\" that is to say, vertical in front of the\n",
              "left shoulder, the hammer resting on the forearm thrown straight\n",
              "across the chest--a formal and unnatural position, enforcing an erect\n",
              "carriage of the body.  It did not appear to be the duty of these two\n",
              "men to know what was occurring at the center of the bridge; they\n",
              "merely blockaded the two ends of the foot planking that traversed it.\n",
              "\n",
              "Beyond one of the sentinels nobody was in sight; the railroad ran\n",
              "straight away into a forest for a hundred yards, then, curving, was\n",
              "lost to view.  Doubtless there was an outpost farther along.  The\n",
              "other bank of the stream was open ground--a gentle slope topped with\n",
              "a stockade of vertical tree trunks, loopholed for rifles, with a\n",
              "single embrasure through which protruded the muzzle of a brass cannon\n",
              "commanding the bridge.  Midway up the slope between the bridge and\n",
              "fort were the spectators--a single company of infantry in line, at\n",
              "\"parade rest,\" the butts of their rifles on the ground, the barrels\n",
              "inclining slightly backward against the right shoulder, the hands\n",
              "crossed upon the stock. A lieutenant stood at the right of the line,\n",
              "the point of his sword upon the ground, his left hand resting upon his\n",
              "right.  Excepting the group of four at the center of the bridge, not a\n",
              "man moved.  The company faced the bridge, staring stonily, motionless.\n",
              "The sentinels, facing the banks of the stream, might have been statues\n",
              "to adorn the bridge.  The captain stood with folded arms, silent,\n",
              "observing the work of his subordinates, but making no sign. Death is a\n",
              "dignitary who when he comes announced is to be received with formal\n",
              "manifestations of respect, even by those most familiar with him.  In\n",
              "the code of military etiquette silence and fixity are forms of\n",
              "deference.\n",
              "\n",
              "The man who was engaged in being hanged was apparently about\n",
              "thirty-five years of age.  He was a civilian, if one might judge from\n",
              "his habit, which was that of a planter.  His features were good--a\n",
              "straight nose, firm mouth, broad forehead, from which his long, dark\n",
              "hair was combed straight back, falling behind his ears to the collar\n",
              "of his well fitting frock coat.  He wore a moustache and pointed\n",
              "beard, but no whiskers; his eyes were large and dark gray, and had a\n",
              "kindly expression which one would hardly have expected in one whose\n",
              "neck was in the hemp.  Evidently this was no vulgar assassin.  The\n",
              "liberal military code makes provision for hanging many kinds of\n",
              "persons, and gentlemen are not excluded.\n",
              "\n",
              "The preparations being complete, the two private soldiers stepped\n",
              "aside and each drew away the plank upon which he had been standing.\n",
              "The sergeant turned to the captain, saluted and placed himself\n",
              "immediately behind that officer, who in turn moved apart one pace.\n",
              "These movements left the condemned man and the sergeant standing on\n",
              "the two ends of the same plank, which spanned three of the cross-ties\n",
              "of the bridge.  The end upon which the civilian stood almost, but not\n",
              "quite, reached a fourth.  This plank had been held in place by the\n",
              "weight of the captain; it was now held by that of the sergeant.  At a\n",
              "signal from the former the latter would step aside, the plank would\n",
              "tilt and the condemned man go down between two ties.  The arrangement\n",
              "commended itself to his judgement as simple and effective.  His face\n",
              "had not been covered nor his eyes bandaged.  He looked a moment at his\n",
              "\"unsteadfast footing,\" then let his gaze wander to the swirling water\n",
              "of the stream racing madly beneath his feet. A piece of dancing\n",
              "driftwood caught his attention and his eyes followed it down the\n",
              "current.  How slowly it appeared to move!  What a sluggish stream!\n",
              "\n",
              "He closed his eyes in order to fix his last thoughts upon his wife and\n",
              "children.  The water, touched to gold by the early sun, the brooding\n",
              "mists under the banks at some distance down the stream, the fort, the\n",
              "soldiers, the piece of drift--all had distracted him.  And now he\n",
              "became conscious of a new disturbance.  Striking through the thought\n",
              "of his dear ones was sound which he could neither ignore nor\n",
              "understand, a sharp, distinct, metallic percussion like the stroke of\n",
              "a blacksmith's hammer upon the anvil; it had the same ringing quality.\n",
              "He wondered what it was, and whether immeasurably distant or near by--\n",
              "it seemed both.  Its recurrence was regular, but as slow as the\n",
              "tolling of a death knell.  He awaited each new stroke with impatience\n",
              "and--he knew not why--apprehension.  The intervals of silence grew\n",
              "progressively longer; the delays became maddening.  With their greater\n",
              "infrequency the sounds increased in strength and sharpness.  They hurt\n",
              "his ear like the thrust of a knife; he feared he would shriek.  What he\n",
              "heard was the ticking of his watch.\n",
              "\n",
              "He unclosed his eyes and saw again the water below him.  \"If I could\n",
              "free my hands,\" he thought, \"I might throw off the noose and spring\n",
              "into the stream.  By diving I could evade the bullets and, swimming\n",
              "vigorously, reach the bank, take to the woods and get away home.  My\n",
              "home, thank God, is as yet outside their lines; my wife and little\n",
              "ones are still beyond the invader's farthest advance.\"\n",
              "\n",
              "As these thoughts, which have here to be set down in words, were\n",
              "flashed into the doomed man's brain rather than evolved from it the\n",
              "captain nodded to the sergeant.  The sergeant stepped aside.\n",
              "\n",
              "II\n",
              "\n",
              "Peyton Farquhar was a well to do planter, of an old and highly\n",
              "respected Alabama family.  Being a slave owner and like other slave\n",
              "owners a politician, he was naturally an original secessionist and\n",
              "ardently devoted to the Southern cause.  Circumstances of an imperious\n",
              "nature, which it is unnecessary to relate here, had prevented him from\n",
              "taking service with that gallant army which had fought the disastrous\n",
              "campaigns ending with the fall of Corinth, and he chafed under the\n",
              "inglorious restraint, longing for the release of his energies, the\n",
              "larger life of the soldier, the opportunity for distinction.  That\n",
              "opportunity, he felt, would come, as it comes to all in wartime.\n",
              "Meanwhile he did what he could.  No service was too humble for him to\n",
              "perform in the aid of the South, no adventure too perilous for him to\n",
              "undertake if consistent with the character of a civilian who was at\n",
              "heart a soldier, and who in good faith and without too much\n",
              "qualification assented to at least a part of the frankly villainous\n",
              "dictum that all is fair in love and war.\n",
              "\n",
              "One evening while Farquhar and his wife were sitting on a rustic bench\n",
              "near the entrance to his grounds, a gray-clad soldier rode up to the\n",
              "gate and asked for a drink of water. Mrs. Farquhar was only too happy\n",
              "to serve him with her own white hands.  While she was fetching the\n",
              "water her husband approached the dusty horseman and inquired eagerly\n",
              "for news from the front.\n",
              "\n",
              "\"The Yanks are repairing the railroads,\" said the man, \"and are\n",
              "getting ready for another advance.  They have reached the Owl Creek\n",
              "bridge, put it in order and built a stockade on the north bank.  The\n",
              "commandant has issued an order, which is posted everywhere, declaring\n",
              "that any civilian caught interfering with the railroad, its bridges,\n",
              "tunnels, or trains will be summarily hanged.  I saw the order.\"\n",
              "\n",
              "\"How far is it to the Owl Creek bridge?\" Farquhar asked.\n",
              "\n",
              "\"About thirty miles.\"\n",
              "\n",
              "\"Is there no force on this side of the creek?\"\n",
              "\n",
              "\"Only a picket post half a mile out, on the railroad, and a single\n",
              "sentinel at this end of the bridge.\"\n",
              "\n",
              "\"Suppose a man--a civilian and student of hanging--should elude the\n",
              "picket post and perhaps get the better of the sentinel,\" said\n",
              "Farquhar, smiling, \"what could he accomplish?\"\n",
              "\n",
              "The soldier reflected.  \"I was there a month ago,\" he replied.  \"I\n",
              "observed that the flood of last winter had lodged a great quantity of\n",
              "driftwood against the wooden pier at this end of the bridge.  It is\n",
              "now dry and would burn like tinder.\"\n",
              "\n",
              "The lady had now brought the water, which the soldier drank. He\n",
              "thanked her ceremoniously, bowed to her husband and rode away.  An\n",
              "hour later, after nightfall, he repassed the plantation, going\n",
              "northward in the direction from which he had come.  He was a Federal\n",
              "scout.\n",
              "\n",
              "III\n",
              "\n",
              "As Peyton Farquhar fell straight downward through the bridge he lost\n",
              "consciousness and was as one already dead. From this state he was\n",
              "awakened--ages later, it seemed to him--by the pain of a sharp\n",
              "pressure upon his throat, followed by a sense of suffocation.  Keen,\n",
              "poignant agonies seemed to shoot from his neck downward through every\n",
              "fiber of his body and limbs.  These pains appeared to flash along well\n",
              "defined lines of ramification and to beat with an inconceivably rapid\n",
              "periodicity.  They seemed like streams of pulsating fire heating him\n",
              "to an intolerable temperature.  As to his head, he was conscious of\n",
              "nothing but a feeling of fullness--of congestion.  These sensations\n",
              "were unaccompanied by thought.  The intellectual part of his nature\n",
              "was already effaced; he had power only to feel, and feeling was\n",
              "torment.  He was conscious of motion. Encompassed in a luminous cloud,\n",
              "of which he was now merely the fiery heart, without material\n",
              "substance, he swung through unthinkable arcs of oscillation, like a\n",
              "vast pendulum.  Then all at once, with terrible suddenness, the light\n",
              "about him shot upward with the noise of a loud splash; a frightful\n",
              "roaring was in his ears, and all was cold and dark.  The power of\n",
              "thought was restored; he knew that the rope had broken and he had\n",
              "fallen into the stream.  There was no additional strangulation; the\n",
              "noose about his neck was already suffocating him and kept the water\n",
              "from his lungs.  To die of hanging at the bottom of a river!--the idea\n",
              "seemed to him ludicrous.  He opened his eyes in the darkness and saw\n",
              "above him a gleam of light, but how distant, how inaccessible!  He was\n",
              "still sinking, for the light became fainter and fainter until it was a\n",
              "mere glimmer.  Then it began to grow and brighten, and he knew that he\n",
              "was rising toward the surface--knew it with reluctance, for he was now\n",
              "very comfortable.  \"To be hanged and drowned,\" he thought, \"that is\n",
              "not so bad; but I do not wish to be shot.  No; I will not be shot;\n",
              "that is not fair.\"\n",
              "\n",
              "He was not conscious of an effort, but a sharp pain in his wrist\n",
              "apprised him that he was trying to free his hands.  He gave the\n",
              "struggle his attention, as an idler might observe the feat of a\n",
              "juggler, without interest in the outcome.  What splendid effort!--what\n",
              "magnificent, what superhuman strength!  Ah, that was a fine endeavor!\n",
              "Bravo!  The cord fell away; his arms parted and floated upward, the\n",
              "hands dimly seen on each side in the growing light.  He watched them\n",
              "with a new interest as first one and then the other pounced upon the\n",
              "noose at his neck.  They tore it away and thrust it fiercely aside,\n",
              "its undulations resembling those of a water snake.  \"Put it back, put\n",
              "it back!\"  He thought he shouted these words to his hands, for the\n",
              "undoing of the noose had been succeeded by the direst pang that he had\n",
              "yet experienced.  His neck ached horribly; his brain was on fire, his\n",
              "heart, which had been fluttering faintly, gave a great leap, trying to\n",
              "force itself out at his mouth.  His whole body was racked and wrenched\n",
              "with an insupportable anguish! But his disobedient hands gave no heed\n",
              "to the command.  They beat the water vigorously with quick, downward\n",
              "strokes, forcing him to the surface.  He felt his head emerge; his\n",
              "eyes were blinded by the sunlight; his chest expanded convulsively,\n",
              "and with a supreme and crowning agony his lungs engulfed a great\n",
              "draught of air, which instantly he expelled in a shriek!\n",
              "\n",
              "He was now in full possession of his physical senses.  They were,\n",
              "indeed, preternaturally keen and alert.  Something in the awful\n",
              "disturbance of his organic system had so exalted and refined them that\n",
              "they made record of things never before perceived.  He felt the\n",
              "ripples upon his face and heard their separate sounds as they struck.\n",
              "He looked at the forest on the bank of the stream, saw the individual\n",
              "trees, the leaves and the veining of each leaf--he saw the very\n",
              "insects upon them:  the locusts, the brilliant bodied flies, the gray\n",
              "spiders stretching their webs from twig to twig.  He noted the\n",
              "prismatic colors in all the dewdrops upon a million blades of grass.\n",
              "The humming of the gnats that danced above the eddies of the stream,\n",
              "the beating of the dragon flies' wings, the strokes of the water\n",
              "spiders' legs, like oars which had lifted their boat--all these made\n",
              "audible music.  A fish slid along beneath his eyes and he heard the\n",
              "rush of its body parting the water.\n",
              "\n",
              "He had come to the surface facing down the stream; in a moment the\n",
              "visible world seemed to wheel slowly round, himself the pivotal point,\n",
              "and he saw the bridge, the fort, the soldiers upon the bridge, the\n",
              "captain, the sergeant, the two privates, his executioners.  They were\n",
              "in silhouette against the blue sky.  They shouted and gesticulated,\n",
              "pointing at him.  The captain had drawn his pistol, but did not fire;\n",
              "the others were unarmed.  Their movements were grotesque and horrible,\n",
              "their forms gigantic.\n",
              "\n",
              "Suddenly he heard a sharp report and something struck the water\n",
              "smartly within a few inches of his head, spattering his face with\n",
              "spray.  He heard a second report, and saw one of the sentinels with\n",
              "his rifle at his shoulder, a light cloud of blue smoke rising from the\n",
              "muzzle.  The man in the water saw the eye of the man on the bridge\n",
              "gazing into his own through the sights of the rifle.  He observed that\n",
              "it was a gray eye and remembered having read that gray eyes were\n",
              "keenest, and that all famous marksmen had them. Nevertheless, this one\n",
              "had missed.\n",
              "\n",
              "A counter-swirl had caught Farquhar and turned him half round; he was\n",
              "again looking at the forest on the bank opposite the fort.  The sound\n",
              "of a clear, high voice in a monotonous singsong now rang out behind\n",
              "him and came across the water with a distinctness that pierced and\n",
              "subdued all other sounds, even the beating of the ripples in his ears.\n",
              "Although no soldier, he had frequented camps enough to know the dread\n",
              "significance of that deliberate, drawling, aspirated chant; the\n",
              "lieutenant on shore was taking a part in the morning's work.  How\n",
              "coldly and pitilessly--with what an even, calm intonation, presaging,\n",
              "and enforcing tranquility in the men--with what accurately measured\n",
              "interval fell those cruel words:\n",
              "\n",
              "\"Company! . . . Attention! . . . Shoulder arms! . . . Ready!. . .\n",
              "Aim! . . . Fire!\"\n",
              "\n",
              "Farquhar dived--dived as deeply as he could.  The water roared in his\n",
              "ears like the voice of Niagara, yet he heard the dull thunder of the\n",
              "volley and, rising again toward the surface, met shining bits of\n",
              "metal, singularly flattened, oscillating slowly downward.  Some of\n",
              "them touched him on the face and hands, then fell away, continuing\n",
              "their descent. One lodged between his collar and neck; it was\n",
              "uncomfortably warm and he snatched it out.\n",
              "\n",
              "As he rose to the surface, gasping for breath, he saw that he had been\n",
              "a long time under water; he was perceptibly farther downstream--nearer\n",
              "to safety.  The soldiers had almost finished reloading; the metal\n",
              "ramrods flashed all at once in the sunshine as they were drawn from\n",
              "the barrels, turned in the air, and thrust into their sockets.  The\n",
              "two sentinels fired again, independently and ineffectually.\n",
              "\n",
              "The hunted man saw all this over his shoulder; he was now swimming\n",
              "vigorously with the current.  His brain was as energetic as his arms\n",
              "and legs; he thought with the rapidity of lightning:\n",
              "\n",
              "\"The officer,\" he reasoned, \"will not make that martinet's error a\n",
              "second time.  It is as easy to dodge a volley as a single shot.  He\n",
              "has probably already given the command to fire at will.  God help me,\n",
              "I cannot dodge them all!\"\n",
              "\n",
              "An appalling splash within two yards of him was followed by a loud,\n",
              "rushing sound, DIMINUENDO, which seemed to travel back through the air\n",
              "to the fort and died in an explosion which stirred the very river to\n",
              "its deeps!  A rising sheet of water curved over him, fell down upon\n",
              "him, blinded him, strangled him!  The cannon had taken an hand in the\n",
              "game.  As he shook his head free from the commotion of the smitten\n",
              "water he heard the deflected shot humming through the air ahead, and\n",
              "in an instant it was cracking and smashing the branches in the forest\n",
              "beyond.\n",
              "\n",
              "\"They will not do that again,\" he thought; \"the next time they will\n",
              "use a charge of grape.  I must keep my eye upon the gun; the smoke\n",
              "will apprise me--the report arrives too late; it lags behind the\n",
              "missile.  That is a good gun.\"\n",
              "\n",
              "Suddenly he felt himself whirled round and round--spinning like a top.\n",
              "The water, the banks, the forests, the now distant bridge, fort and\n",
              "men, all were commingled and blurred.  Objects were represented by\n",
              "their colors only; circular horizontal streaks of color--that was all\n",
              "he saw. He had been caught in a vortex and was being whirled on with a\n",
              "velocity of advance and gyration that made him giddy and sick.  In few\n",
              "moments he was flung upon the gravel at the foot of the left bank of\n",
              "the stream--the southern bank--and behind a projecting point which\n",
              "concealed him from his enemies.  The sudden arrest of his motion, the\n",
              "abrasion of one of his hands on the gravel, restored him, and he wept\n",
              "with delight.  He dug his fingers into the sand, threw it over himself\n",
              "in handfuls and audibly blessed it.  It looked like diamonds, rubies,\n",
              "emeralds; he could think of nothing beautiful which it did not\n",
              "resemble.  The trees upon the bank were giant garden plants; he noted\n",
              "a definite order in their arrangement, inhaled the fragrance of their\n",
              "blooms.  A strange roseate light shone through the spaces among their\n",
              "trunks and the wind made in their branches the music of AEolian harps.\n",
              "He had not wish to perfect his escape--he was content to remain in\n",
              "that enchanting spot until retaken.\n",
              "\n",
              "A whiz and a rattle of grapeshot among the branches high above his\n",
              "head roused him from his dream.  The baffled cannoneer had fired him a\n",
              "random farewell.  He sprang to his feet, rushed up the sloping bank,\n",
              "and plunged into the forest.\n",
              "\n",
              "All that day he traveled, laying his course by the rounding sun.  The\n",
              "forest seemed interminable; nowhere did he discover a break in it, not\n",
              "even a woodman's road.  He had not known that he lived in so wild a\n",
              "region.  There was something uncanny in the revelation.\n",
              "\n",
              "By nightfall he was fatigued, footsore, famished.  The thought of his\n",
              "wife and children urged him on.  At last he found a road which led him\n",
              "in what he knew to be the right direction.  It was as wide and\n",
              "straight as a city street, yet it seemed untraveled.  No fields\n",
              "bordered it, no dwelling anywhere.  Not so much as the barking of a\n",
              "dog suggested human habitation.  The black bodies of the trees formed\n",
              "a straight wall on both sides, terminating on the horizon in a point,\n",
              "like a diagram in a lesson in perspective.  Overhead, as he looked up\n",
              "through this rift in the wood, shone great golden stars looking\n",
              "unfamiliar and grouped in strange constellations.  He was sure they\n",
              "were arranged in some order which had a secret and malign\n",
              "significance.  The wood on either side was full of singular noises,\n",
              "among which--once, twice, and again--he distinctly heard whispers in\n",
              "an unknown tongue.\n",
              "\n",
              "His neck was in pain and lifting his hand to it found it horribly\n",
              "swollen.  He knew that it had a circle of black where the rope had\n",
              "bruised it.  His eyes felt congested; he could no longer close them.\n",
              "His tongue was swollen with thirst; he relieved its fever by thrusting\n",
              "it forward from between his teeth into the cold air.  How softly the\n",
              "turf had carpeted the untraveled avenue--he could no longer feel the\n",
              "roadway beneath his feet!\n",
              "\n",
              "Doubtless, despite his suffering, he had fallen asleep while walking,\n",
              "for now he sees another scene--perhaps he has merely recovered from a\n",
              "delirium.  He stands at the gate of his own home.  All is as he left\n",
              "it, and all bright and beautiful in the morning sunshine.  He must\n",
              "have traveled the entire night.  As he pushes open the gate and passes\n",
              "up the wide white walk, he sees a flutter of female garments; his\n",
              "wife, looking fresh and cool and sweet, steps down from the veranda to\n",
              "meet him.  At the bottom of the steps she stands waiting, with a smile\n",
              "of ineffable joy, an attitude of matchless grace and dignity.  Ah, how\n",
              "beautiful she is!  He springs forwards with extended arms.  As he is\n",
              "about to clasp her he feels a stunning blow upon the back of the neck;\n",
              "a blinding white light blazes all about him with a sound like the\n",
              "shock of a cannon--then all is darkness and silence!\n",
              "\n",
              "Peyton Farquhar was dead; his body, with a broken neck, swung gently\n",
              "from side to side beneath the timbers of the Owl Creek bridge.\n"
            ]
          },
          "metadata": {},
          "execution_count": 85
        }
      ]
    },
    {
      "cell_type": "code",
      "source": [
        "len(doc) # Tells the number of tokens"
      ],
      "metadata": {
        "colab": {
          "base_uri": "https://localhost:8080/"
        },
        "id": "qqZ-0x2TTr-X",
        "outputId": "40021bed-e8e7-471d-f053-3cdc00d7ab7a"
      },
      "execution_count": 86,
      "outputs": [
        {
          "output_type": "execute_result",
          "data": {
            "text/plain": [
              "4835"
            ]
          },
          "metadata": {},
          "execution_count": 86
        }
      ]
    },
    {
      "cell_type": "code",
      "source": [
        "# Tells the number of sentences\n",
        "print(f\"Actual number of sentences: {len(list(doc.sents))}\")"
      ],
      "metadata": {
        "colab": {
          "base_uri": "https://localhost:8080/"
        },
        "id": "ieTdBmKMT8dr",
        "outputId": "414894b7-7766-49c6-ae49-4839cb677871"
      },
      "execution_count": 93,
      "outputs": [
        {
          "output_type": "stream",
          "name": "stdout",
          "text": [
            "Actual number of sentences: 204\n"
          ]
        }
      ]
    },
    {
      "cell_type": "code",
      "source": [
        "# Second Sentence\n",
        "list(doc.sents)[1]"
      ],
      "metadata": {
        "colab": {
          "base_uri": "https://localhost:8080/"
        },
        "id": "Ss4vB9ZHVVeb",
        "outputId": "db0c5dd8-3008-4904-b7be-db0d3f5ba51e"
      },
      "execution_count": 96,
      "outputs": [
        {
          "output_type": "execute_result",
          "data": {
            "text/plain": [
              "The man's hands were behind\n",
              "his back, the wrists bound with a cord.  "
            ]
          },
          "metadata": {},
          "execution_count": 96
        }
      ]
    },
    {
      "cell_type": "code",
      "source": [
        "## 5. For each token in the sentence above, print its `text`, `POS` tag, `dep` tag and `lemma`<br>\n",
        "for token in list(doc.sents)[1]:\n",
        "  print(f'{token.text:{12}} {token.pos_:{6}} {token.dep_:{6}} {token.lemma_:{6}}')"
      ],
      "metadata": {
        "colab": {
          "base_uri": "https://localhost:8080/"
        },
        "id": "igC409BJV8WH",
        "outputId": "cb59a0aa-83aa-4552-f29a-9b8802f1e338"
      },
      "execution_count": 99,
      "outputs": [
        {
          "output_type": "stream",
          "name": "stdout",
          "text": [
            "The          DET    det    the   \n",
            "man          NOUN   poss   man   \n",
            "'s           PART   case   's    \n",
            "hands        NOUN   nsubj  hand  \n",
            "were         AUX    ROOT   be    \n",
            "behind       ADP    prep   behind\n",
            "\n",
            "            SPACE  dep    \n",
            "     \n",
            "his          PRON   poss   his   \n",
            "back         NOUN   pobj   back  \n",
            ",            PUNCT  punct  ,     \n",
            "the          DET    det    the   \n",
            "wrists       NOUN   appos  wrist \n",
            "bound        VERB   acl    bind  \n",
            "with         ADP    prep   with  \n",
            "a            DET    det    a     \n",
            "cord         NOUN   pobj   cord  \n",
            ".            PUNCT  punct  .     \n",
            "             SPACE  dep          \n"
          ]
        }
      ]
    },
    {
      "cell_type": "markdown",
      "source": [
        " **Write a matcher called 'Swimming' that finds both occurrences of the phrase \"swimming vigorously\" in the text**\n",
        "\n",
        "HINT: You should include an `'IS_SPACE': True` pattern between the two words!"
      ],
      "metadata": {
        "id": "oT5zSoPoXF9p"
      }
    },
    {
      "cell_type": "code",
      "source": [
        "# Import the Matcher library:\n",
        "\n",
        "from spacy.matcher import Matcher\n",
        "matcher = Matcher(nlp.vocab)"
      ],
      "metadata": {
        "id": "7w7JjlmfXNMy"
      },
      "execution_count": 107,
      "outputs": []
    },
    {
      "cell_type": "code",
      "source": [
        "# Create a pattern and add it to matcher:\n",
        "pattern = [{'LOWER': 'swimming'}, {'IS_SPACE': True, 'OP':'*'}, {'LOWER': 'vigorously'}] # swimming +space + vigorously\n",
        "\n",
        "matcher.add('swimmingvigorously', [pattern])"
      ],
      "metadata": {
        "id": "6wEyDFPUXcSV"
      },
      "execution_count": 122,
      "outputs": []
    },
    {
      "cell_type": "code",
      "source": [
        "# Create a list of matches called \"found_matches\" and print the list:\n",
        "found_matches = matcher(doc)\n",
        "print(found_matches)"
      ],
      "metadata": {
        "colab": {
          "base_uri": "https://localhost:8080/"
        },
        "id": "5m5zbI4gZb_2",
        "outputId": "554a96d2-dac5-459d-edba-06af80b98d1b"
      },
      "execution_count": 123,
      "outputs": [
        {
          "output_type": "stream",
          "name": "stdout",
          "text": [
            "[(267723323558233093, 1274, 1277), (267723323558233093, 3609, 3612)]\n"
          ]
        }
      ]
    },
    {
      "cell_type": "markdown",
      "source": [
        "**Print the text surrounding each found match**"
      ],
      "metadata": {
        "id": "xxQLTQLpZvQp"
      }
    },
    {
      "cell_type": "code",
      "source": [
        "for match_id, start, end in found_matches:\n",
        "    span = doc[start-5:end+5]                  # get the matched span\n",
        "    print(span.text)"
      ],
      "metadata": {
        "colab": {
          "base_uri": "https://localhost:8080/"
        },
        "id": "O1HDzX83ZysS",
        "outputId": "d3fc37ae-0546-43f9-b50d-a14c7d3c5755"
      },
      "execution_count": 124,
      "outputs": [
        {
          "output_type": "stream",
          "name": "stdout",
          "text": [
            "evade the bullets and, swimming\n",
            "vigorously, reach the bank,\n",
            "shoulder; he was now swimming\n",
            "vigorously with the current.  \n"
          ]
        }
      ]
    },
    {
      "cell_type": "markdown",
      "source": [
        "**Print sentence surrounding each found match**"
      ],
      "metadata": {
        "id": "9YSreiqlcBrT"
      }
    },
    {
      "cell_type": "code",
      "source": [
        "for sentence in doc.sents:\n",
        "    if found_matches[0][1] < sentence.end:\n",
        "      print(sentence)\n",
        "      break"
      ],
      "metadata": {
        "colab": {
          "base_uri": "https://localhost:8080/"
        },
        "id": "JIuU5BiCcBHq",
        "outputId": "e789f91a-4283-45c7-8630-e70f6e069a8d"
      },
      "execution_count": 125,
      "outputs": [
        {
          "output_type": "stream",
          "name": "stdout",
          "text": [
            "By diving I could evade the bullets and, swimming\n",
            "vigorously, reach the bank, take to the woods and get away home.  \n"
          ]
        }
      ]
    },
    {
      "cell_type": "code",
      "source": [
        "for sentence in doc.sents:\n",
        "    if found_matches[1][1] < sentence.end:\n",
        "      print(sentence)\n",
        "      break"
      ],
      "metadata": {
        "colab": {
          "base_uri": "https://localhost:8080/"
        },
        "id": "h57mfe0jcniC",
        "outputId": "3868d742-0db0-49b7-e5fd-5efceb060ae2"
      },
      "execution_count": 126,
      "outputs": [
        {
          "output_type": "stream",
          "name": "stdout",
          "text": [
            "The hunted man saw all this over his shoulder; he was now swimming\n",
            "vigorously with the current.  \n"
          ]
        }
      ]
    },
    {
      "cell_type": "markdown",
      "source": [
        "#3 Part of Speech Tagging (POS) and Named Entity Recognition (NER)"
      ],
      "metadata": {
        "id": "3EeuvFPUMcNd"
      }
    },
    {
      "cell_type": "markdown",
      "source": [
        "## 3.1 Part of Speech Tagging"
      ],
      "metadata": {
        "id": "KXaEnMMTk5R7"
      }
    },
    {
      "cell_type": "markdown",
      "source": [
        "**Coarse-grained Part-of-speech Tags**\n",
        "\n",
        "Every token is assigned a POS Tag from the following list:\n",
        "\n",
        "\n",
        "<table><tr><th>POS</th><th>DESCRIPTION</th><th>EXAMPLES</th></tr>\n",
        "    \n",
        "<tr><td>ADJ</td><td>adjective</td><td>*big, old, green, incomprehensible, first*</td></tr>\n",
        "<tr><td>ADP</td><td>adposition</td><td>*in, to, during*</td></tr>\n",
        "<tr><td>ADV</td><td>adverb</td><td>*very, tomorrow, down, where, there*</td></tr>\n",
        "<tr><td>AUX</td><td>auxiliary</td><td>*is, has (done), will (do), should (do)*</td></tr>\n",
        "<tr><td>CONJ</td><td>conjunction</td><td>*and, or, but*</td></tr>\n",
        "<tr><td>CCONJ</td><td>coordinating conjunction</td><td>*and, or, but*</td></tr>\n",
        "<tr><td>DET</td><td>determiner</td><td>*a, an, the*</td></tr>\n",
        "<tr><td>INTJ</td><td>interjection</td><td>*psst, ouch, bravo, hello*</td></tr>\n",
        "<tr><td>NOUN</td><td>noun</td><td>*girl, cat, tree, air, beauty*</td></tr>\n",
        "<tr><td>NUM</td><td>numeral</td><td>*1, 2017, one, seventy-seven, IV, MMXIV*</td></tr>\n",
        "<tr><td>PART</td><td>particle</td><td>*'s, not,*</td></tr>\n",
        "<tr><td>PRON</td><td>pronoun</td><td>*I, you, he, she, myself, themselves, somebody*</td></tr>\n",
        "<tr><td>PROPN</td><td>proper noun</td><td>*Mary, John, London, NATO, HBO*</td></tr>\n",
        "<tr><td>PUNCT</td><td>punctuation</td><td>*., (, ), ?*</td></tr>\n",
        "<tr><td>SCONJ</td><td>subordinating conjunction</td><td>*if, while, that*</td></tr>\n",
        "<tr><td>SYM</td><td>symbol</td><td>*$, %, §, ©, +, −, ×, ÷, =, :), 😝*</td></tr>\n",
        "<tr><td>VERB</td><td>verb</td><td>*run, runs, running, eat, ate, eating*</td></tr>\n",
        "<tr><td>X</td><td>other</td><td>*sfpksdpsxmsa*</td></tr>\n",
        "<tr><td>SPACE</td><td>space</td></tr>"
      ],
      "metadata": {
        "id": "4vH4D4GUhIK1"
      }
    },
    {
      "cell_type": "markdown",
      "source": [
        "___\n",
        "**Fine-grained Part-of-speech Tags**\n",
        "\n",
        "Tokens are subsequently given a fine-grained tag as determined by morphology:\n",
        "<table>\n",
        "<tr><th>POS</th><th>Description</th><th>Fine-grained Tag</th><th>Description</th><th>Morphology</th></tr>\n",
        "<tr><td>ADJ</td><td>adjective</td><td>AFX</td><td>affix</td><td>Hyph=yes</td></tr>\n",
        "<tr><td>ADJ</td><td></td><td>JJ</td><td>adjective</td><td>Degree=pos</td></tr>\n",
        "<tr><td>ADJ</td><td></td><td>JJR</td><td>adjective, comparative</td><td>Degree=comp</td></tr>\n",
        "<tr><td>ADJ</td><td></td><td>JJS</td><td>adjective, superlative</td><td>Degree=sup</td></tr>\n",
        "<tr><td>ADJ</td><td></td><td>PDT</td><td>predeterminer</td><td>AdjType=pdt PronType=prn</td></tr>\n",
        "<tr><td>ADJ</td><td></td><td>PRP\\$</td><td>pronoun, possessive</td><td>PronType=prs Poss=yes</td></tr>\n",
        "<tr><td>ADJ</td><td></td><td>WDT</td><td>wh-determiner</td><td>PronType=int rel</td></tr>\n",
        "<tr><td>ADJ</td><td></td><td>WP\\$</td><td>wh-pronoun, possessive</td><td>Poss=yes PronType=int rel</td></tr>\n",
        "<tr><td>ADP</td><td>adposition</td><td>IN</td><td>conjunction, subordinating or preposition</td><td></td></tr>\n",
        "<tr><td>ADV</td><td>adverb</td><td>EX</td><td>existential there</td><td>AdvType=ex</td></tr>\n",
        "<tr><td>ADV</td><td></td><td>RB</td><td>adverb</td><td>Degree=pos</td></tr>\n",
        "<tr><td>ADV</td><td></td><td>RBR</td><td>adverb, comparative</td><td>Degree=comp</td></tr>\n",
        "<tr><td>ADV</td><td></td><td>RBS</td><td>adverb, superlative</td><td>Degree=sup</td></tr>\n",
        "<tr><td>ADV</td><td></td><td>WRB</td><td>wh-adverb</td><td>PronType=int rel</td></tr>\n",
        "<tr><td>CONJ</td><td>conjunction</td><td>CC</td><td>conjunction, coordinating</td><td>ConjType=coor</td></tr>\n",
        "<tr><td>DET</td><td>determiner</td><td>DT</td><td>determiner</td><td></td></tr>\n",
        "<tr><td>INTJ</td><td>interjection</td><td>UH</td><td>interjection</td><td></td></tr>\n",
        "<tr><td>NOUN</td><td>noun</td><td>NN</td><td>noun, singular or mass</td><td>Number=sing</td></tr>\n",
        "<tr><td>NOUN</td><td></td><td>NNS</td><td>noun, plural</td><td>Number=plur</td></tr>\n",
        "<tr><td>NOUN</td><td></td><td>WP</td><td>wh-pronoun, personal</td><td>PronType=int rel</td></tr>\n",
        "<tr><td>NUM</td><td>numeral</td><td>CD</td><td>cardinal number</td><td>NumType=card</td></tr>\n",
        "<tr><td>PART</td><td>particle</td><td>POS</td><td>possessive ending</td><td>Poss=yes</td></tr>\n",
        "<tr><td>PART</td><td></td><td>RP</td><td>adverb, particle</td><td></td></tr>\n",
        "<tr><td>PART</td><td></td><td>TO</td><td>infinitival to</td><td>PartType=inf VerbForm=inf</td></tr>\n",
        "<tr><td>PRON</td><td>pronoun</td><td>PRP</td><td>pronoun, personal</td><td>PronType=prs</td></tr>\n",
        "<tr><td>PROPN</td><td>proper noun</td><td>NNP</td><td>noun, proper singular</td><td>NounType=prop Number=sign</td></tr>\n",
        "<tr><td>PROPN</td><td></td><td>NNPS</td><td>noun, proper plural</td><td>NounType=prop Number=plur</td></tr>\n",
        "<tr><td>PUNCT</td><td>punctuation</td><td>-LRB-</td><td>left round bracket</td><td>PunctType=brck PunctSide=ini</td></tr>\n",
        "<tr><td>PUNCT</td><td></td><td>-RRB-</td><td>right round bracket</td><td>PunctType=brck PunctSide=fin</td></tr>\n",
        "<tr><td>PUNCT</td><td></td><td>,</td><td>punctuation mark, comma</td><td>PunctType=comm</td></tr>\n",
        "<tr><td>PUNCT</td><td></td><td>:</td><td>punctuation mark, colon or ellipsis</td><td></td></tr>\n",
        "<tr><td>PUNCT</td><td></td><td>.</td><td>punctuation mark, sentence closer</td><td>PunctType=peri</td></tr>\n",
        "<tr><td>PUNCT</td><td></td><td>''</td><td>closing quotation mark</td><td>PunctType=quot PunctSide=fin</td></tr>\n",
        "<tr><td>PUNCT</td><td></td><td>\"\"</td><td>closing quotation mark</td><td>PunctType=quot PunctSide=fin</td></tr>\n",
        "<tr><td>PUNCT</td><td></td><td>``</td><td>opening quotation mark</td><td>PunctType=quot PunctSide=ini</td></tr>\n",
        "<tr><td>PUNCT</td><td></td><td>HYPH</td><td>punctuation mark, hyphen</td><td>PunctType=dash</td></tr>\n",
        "<tr><td>PUNCT</td><td></td><td>LS</td><td>list item marker</td><td>NumType=ord</td></tr>\n",
        "<tr><td>PUNCT</td><td></td><td>NFP</td><td>superfluous punctuation</td><td></td></tr>\n",
        "<tr><td>SYM</td><td>symbol</td><td>#</td><td>symbol, number sign</td><td>SymType=numbersign</td></tr>\n",
        "<tr><td>SYM</td><td></td><td>\\$</td><td>symbol, currency</td><td>SymType=currency</td></tr>\n",
        "<tr><td>SYM</td><td></td><td>SYM</td><td>symbol</td><td></td></tr>\n",
        "<tr><td>VERB</td><td>verb</td><td>BES</td><td>auxiliary \"be\"</td><td></td></tr>\n",
        "<tr><td>VERB</td><td></td><td>HVS</td><td>forms of \"have\"</td><td></td></tr>\n",
        "<tr><td>VERB</td><td></td><td>MD</td><td>verb, modal auxiliary</td><td>VerbType=mod</td></tr>\n",
        "<tr><td>VERB</td><td></td><td>VB</td><td>verb, base form</td><td>VerbForm=inf</td></tr>\n",
        "<tr><td>VERB</td><td></td><td>VBD</td><td>verb, past tense</td><td>VerbForm=fin Tense=past</td></tr>\n",
        "<tr><td>VERB</td><td></td><td>VBG</td><td>verb, gerund or present participle</td><td>VerbForm=part Tense=pres Aspect=prog</td></tr>\n",
        "<tr><td>VERB</td><td></td><td>VBN</td><td>verb, past participle</td><td>VerbForm=part Tense=past Aspect=perf</td></tr>\n",
        "<tr><td>VERB</td><td></td><td>VBP</td><td>verb, non-3rd person singular present</td><td>VerbForm=fin Tense=pres</td></tr>\n",
        "<tr><td>VERB</td><td></td><td>VBZ</td><td>verb, 3rd person singular present</td><td>VerbForm=fin Tense=pres Number=sing Person=3</td></tr>\n",
        "<tr><td>X</td><td>other</td><td>ADD</td><td>email</td><td></td></tr>\n",
        "<tr><td>X</td><td></td><td>FW</td><td>foreign word</td><td>Foreign=yes</td></tr>\n",
        "<tr><td>X</td><td></td><td>GW</td><td>additional word in multi-word expression</td><td></td></tr>\n",
        "<tr><td>X</td><td></td><td>XX</td><td>unknown</td><td></td></tr>\n",
        "<tr><td>SPACE</td><td>space</td><td>_SP</td><td>space</td><td></td></tr>\n",
        "<tr><td></td><td></td><td>NIL</td><td>missing tag</td><td></td></tr>\n",
        "</table>"
      ],
      "metadata": {
        "id": "TsFLEOFChMIl"
      }
    },
    {
      "cell_type": "code",
      "source": [
        "import spacy\n",
        "nlp = spacy.load('en_core_web_sm')"
      ],
      "metadata": {
        "id": "Egg9atkTezqc"
      },
      "execution_count": 1,
      "outputs": []
    },
    {
      "cell_type": "code",
      "source": [
        "doc = nlp(u\"The quick brown fox jumped over the lazy dog's back\")\n",
        "print(doc.text)"
      ],
      "metadata": {
        "colab": {
          "base_uri": "https://localhost:8080/"
        },
        "id": "y18Kryn_grgE",
        "outputId": "60e795de-ee95-49fd-f7db-e94f2902c4c2"
      },
      "execution_count": 3,
      "outputs": [
        {
          "output_type": "stream",
          "name": "stdout",
          "text": [
            "The quick brown fox jumped over the lazy dog's back\n"
          ]
        }
      ]
    },
    {
      "cell_type": "code",
      "source": [
        "print(doc[4].pos_) # Coarse Grained Tag"
      ],
      "metadata": {
        "colab": {
          "base_uri": "https://localhost:8080/"
        },
        "id": "4sN5An6gg6ot",
        "outputId": "cb54e9e2-c366-4acc-9336-655b2fb898cf"
      },
      "execution_count": 5,
      "outputs": [
        {
          "output_type": "stream",
          "name": "stdout",
          "text": [
            "VERB\n"
          ]
        }
      ]
    },
    {
      "cell_type": "code",
      "source": [
        "print(doc[4].tag_) # Fine Grained Tag"
      ],
      "metadata": {
        "colab": {
          "base_uri": "https://localhost:8080/"
        },
        "id": "VgTMpI90hCiD",
        "outputId": "799898d0-5286-4f16-e0ea-a5e95eff192a"
      },
      "execution_count": 6,
      "outputs": [
        {
          "output_type": "stream",
          "name": "stdout",
          "text": [
            "VBD\n"
          ]
        }
      ]
    },
    {
      "cell_type": "code",
      "source": [
        "for token in doc:\n",
        "  print(f\"{token.text:{10}} {token.pos_:{10}} {token.tag_:{10}} {spacy.explain(token.tag_)}\")"
      ],
      "metadata": {
        "colab": {
          "base_uri": "https://localhost:8080/"
        },
        "id": "xw8lbjsChccT",
        "outputId": "44f9cdef-dbd6-499b-d529-aa6a61cabcbd"
      },
      "execution_count": 8,
      "outputs": [
        {
          "output_type": "stream",
          "name": "stdout",
          "text": [
            "The        DET        DT         determiner\n",
            "quick      ADJ        JJ         adjective (English), other noun-modifier (Chinese)\n",
            "brown      ADJ        JJ         adjective (English), other noun-modifier (Chinese)\n",
            "fox        NOUN       NN         noun, singular or mass\n",
            "jumped     VERB       VBD        verb, past tense\n",
            "over       ADP        IN         conjunction, subordinating or preposition\n",
            "the        DET        DT         determiner\n",
            "lazy       ADJ        JJ         adjective (English), other noun-modifier (Chinese)\n",
            "dog        NOUN       NN         noun, singular or mass\n",
            "'s         PART       POS        possessive ending\n",
            "back       NOUN       NN         noun, singular or mass\n"
          ]
        }
      ]
    },
    {
      "cell_type": "code",
      "source": [
        "doc = nlp(u\"I read books on NLP\")\n",
        "token = doc[1]\n",
        "token.text"
      ],
      "metadata": {
        "colab": {
          "base_uri": "https://localhost:8080/",
          "height": 36
        },
        "id": "E92WkQXQiKDI",
        "outputId": "4f6667e6-a2c0-4648-9865-6957079b0ead"
      },
      "execution_count": 13,
      "outputs": [
        {
          "output_type": "execute_result",
          "data": {
            "text/plain": [
              "'read'"
            ],
            "application/vnd.google.colaboratory.intrinsic+json": {
              "type": "string"
            }
          },
          "metadata": {},
          "execution_count": 13
        }
      ]
    },
    {
      "cell_type": "code",
      "source": [
        "print(f\"{token.text:{10}} {token.pos_:{10}} {token.tag_:{10}} {spacy.explain(token.tag_)}\")"
      ],
      "metadata": {
        "colab": {
          "base_uri": "https://localhost:8080/"
        },
        "id": "0g2iisgniTXg",
        "outputId": "26712666-a3a2-4b03-c6ec-c69a3cfa405a"
      },
      "execution_count": 14,
      "outputs": [
        {
          "output_type": "stream",
          "name": "stdout",
          "text": [
            "read       VERB       VBP        verb, non-3rd person singular present\n"
          ]
        }
      ]
    },
    {
      "cell_type": "code",
      "source": [
        "doc = nlp(u\"I read a book on NLP\")"
      ],
      "metadata": {
        "id": "0BYZu53cie_M"
      },
      "execution_count": 15,
      "outputs": []
    },
    {
      "cell_type": "code",
      "source": [
        "token = doc[1]\n",
        "print(f\"{token.text:{10}} {token.pos_:{10}} {token.tag_:{10}} {spacy.explain(token.tag_)}\")"
      ],
      "metadata": {
        "colab": {
          "base_uri": "https://localhost:8080/"
        },
        "id": "sJsPPgymioew",
        "outputId": "f80961cc-13b8-400d-e824-7dc6c37fe532"
      },
      "execution_count": 16,
      "outputs": [
        {
          "output_type": "stream",
          "name": "stdout",
          "text": [
            "read       VERB       VBD        verb, past tense\n"
          ]
        }
      ]
    },
    {
      "cell_type": "code",
      "source": [
        "doc = nlp(u\"The quick brown fox jumped over the lazy dog's back\")"
      ],
      "metadata": {
        "id": "KOt6iO5Hi0S0"
      },
      "execution_count": 17,
      "outputs": []
    },
    {
      "cell_type": "code",
      "source": [
        "POS_counts = doc.count_by(spacy.attrs.POS) # It returns number of different Part of Speech i.e. Adjective, Noun, Adverb and their count\n",
        "POS_counts"
      ],
      "metadata": {
        "colab": {
          "base_uri": "https://localhost:8080/"
        },
        "id": "9cJXLRSki9hH",
        "outputId": "d3adb195-2ee5-4d9a-90ca-94b9278dedef"
      },
      "execution_count": 18,
      "outputs": [
        {
          "output_type": "execute_result",
          "data": {
            "text/plain": [
              "{90: 2, 84: 3, 92: 3, 100: 1, 85: 1, 94: 1}"
            ]
          },
          "metadata": {},
          "execution_count": 18
        }
      ]
    },
    {
      "cell_type": "code",
      "source": [
        "doc.vocab[84].text # Here we check what 84 represents"
      ],
      "metadata": {
        "colab": {
          "base_uri": "https://localhost:8080/",
          "height": 36
        },
        "id": "zI1-ajkIjKIx",
        "outputId": "212fad94-f705-4338-e26a-6a91ce279190"
      },
      "execution_count": 21,
      "outputs": [
        {
          "output_type": "execute_result",
          "data": {
            "text/plain": [
              "'ADJ'"
            ],
            "application/vnd.google.colaboratory.intrinsic+json": {
              "type": "string"
            }
          },
          "metadata": {},
          "execution_count": 21
        }
      ]
    },
    {
      "cell_type": "code",
      "source": [
        "doc[2].pos_       # Here we check it by corresponding token"
      ],
      "metadata": {
        "colab": {
          "base_uri": "https://localhost:8080/",
          "height": 36
        },
        "id": "cPhtgZZwjS1z",
        "outputId": "16fe7b56-b80d-41dc-e6ed-61f2f37292b1"
      },
      "execution_count": 20,
      "outputs": [
        {
          "output_type": "execute_result",
          "data": {
            "text/plain": [
              "'ADJ'"
            ],
            "application/vnd.google.colaboratory.intrinsic+json": {
              "type": "string"
            }
          },
          "metadata": {},
          "execution_count": 20
        }
      ]
    },
    {
      "cell_type": "code",
      "source": [
        "for k, v in sorted(POS_counts.items()):\n",
        "  print(f\"{k}.{doc.vocab[k].text:{5}} {v}\")"
      ],
      "metadata": {
        "colab": {
          "base_uri": "https://localhost:8080/"
        },
        "id": "xwz_xFgVjvrR",
        "outputId": "ac266f95-1679-4c0b-aeeb-b0d9a13c6a00"
      },
      "execution_count": 23,
      "outputs": [
        {
          "output_type": "stream",
          "name": "stdout",
          "text": [
            "84.ADJ   3\n",
            "85.ADP   1\n",
            "90.DET   2\n",
            "92.NOUN  3\n",
            "94.PART  1\n",
            "100.VERB  1\n"
          ]
        }
      ]
    },
    {
      "cell_type": "code",
      "source": [
        "TAG_counts = doc.count_by(spacy.attrs.TAG)\n",
        "\n",
        "for k, v in sorted(TAG_counts.items()):\n",
        "  print(f\"{k}.{doc.vocab[k].text:{5}} {v}\")"
      ],
      "metadata": {
        "colab": {
          "base_uri": "https://localhost:8080/"
        },
        "id": "Bxayz3TkkRr9",
        "outputId": "94583739-5066-4878-dbac-96d0ed65bf7c"
      },
      "execution_count": 24,
      "outputs": [
        {
          "output_type": "stream",
          "name": "stdout",
          "text": [
            "74.POS   1\n",
            "1292078113972184607.IN    1\n",
            "10554686591937588953.JJ    3\n",
            "15267657372422890137.DT    2\n",
            "15308085513773655218.NN    3\n",
            "17109001835818727656.VBD   1\n"
          ]
        }
      ]
    },
    {
      "cell_type": "markdown",
      "source": [
        "**Visualizing Part of Speech**"
      ],
      "metadata": {
        "id": "86foiSAok0ey"
      }
    },
    {
      "cell_type": "code",
      "source": [
        "from spacy import displacy\n",
        "\n",
        "doc = nlp(u\"The quick brown fox jumped over the lazy dog\")\n",
        "\n",
        "displacy.render(doc, style = 'dep', jupyter = True)"
      ],
      "metadata": {
        "colab": {
          "base_uri": "https://localhost:8080/",
          "height": 441
        },
        "id": "Bh7pVinJlHdL",
        "outputId": "3e79ca60-ac72-4317-e209-5788d14f3cfc"
      },
      "execution_count": 25,
      "outputs": [
        {
          "output_type": "display_data",
          "data": {
            "text/plain": [
              "<IPython.core.display.HTML object>"
            ],
            "text/html": [
              "<span class=\"tex2jax_ignore\"><svg xmlns=\"http://www.w3.org/2000/svg\" xmlns:xlink=\"http://www.w3.org/1999/xlink\" xml:lang=\"en\" id=\"0ab0b8c9d19d4a4b98569f8bfded718a-0\" class=\"displacy\" width=\"1625\" height=\"399.5\" direction=\"ltr\" style=\"max-width: none; height: 399.5px; color: #000000; background: #ffffff; font-family: Arial; direction: ltr\">\n",
              "<text class=\"displacy-token\" fill=\"currentColor\" text-anchor=\"middle\" y=\"309.5\">\n",
              "    <tspan class=\"displacy-word\" fill=\"currentColor\" x=\"50\">The</tspan>\n",
              "    <tspan class=\"displacy-tag\" dy=\"2em\" fill=\"currentColor\" x=\"50\">DET</tspan>\n",
              "</text>\n",
              "\n",
              "<text class=\"displacy-token\" fill=\"currentColor\" text-anchor=\"middle\" y=\"309.5\">\n",
              "    <tspan class=\"displacy-word\" fill=\"currentColor\" x=\"225\">quick</tspan>\n",
              "    <tspan class=\"displacy-tag\" dy=\"2em\" fill=\"currentColor\" x=\"225\">ADJ</tspan>\n",
              "</text>\n",
              "\n",
              "<text class=\"displacy-token\" fill=\"currentColor\" text-anchor=\"middle\" y=\"309.5\">\n",
              "    <tspan class=\"displacy-word\" fill=\"currentColor\" x=\"400\">brown</tspan>\n",
              "    <tspan class=\"displacy-tag\" dy=\"2em\" fill=\"currentColor\" x=\"400\">ADJ</tspan>\n",
              "</text>\n",
              "\n",
              "<text class=\"displacy-token\" fill=\"currentColor\" text-anchor=\"middle\" y=\"309.5\">\n",
              "    <tspan class=\"displacy-word\" fill=\"currentColor\" x=\"575\">fox</tspan>\n",
              "    <tspan class=\"displacy-tag\" dy=\"2em\" fill=\"currentColor\" x=\"575\">NOUN</tspan>\n",
              "</text>\n",
              "\n",
              "<text class=\"displacy-token\" fill=\"currentColor\" text-anchor=\"middle\" y=\"309.5\">\n",
              "    <tspan class=\"displacy-word\" fill=\"currentColor\" x=\"750\">jumped</tspan>\n",
              "    <tspan class=\"displacy-tag\" dy=\"2em\" fill=\"currentColor\" x=\"750\">VERB</tspan>\n",
              "</text>\n",
              "\n",
              "<text class=\"displacy-token\" fill=\"currentColor\" text-anchor=\"middle\" y=\"309.5\">\n",
              "    <tspan class=\"displacy-word\" fill=\"currentColor\" x=\"925\">over</tspan>\n",
              "    <tspan class=\"displacy-tag\" dy=\"2em\" fill=\"currentColor\" x=\"925\">ADP</tspan>\n",
              "</text>\n",
              "\n",
              "<text class=\"displacy-token\" fill=\"currentColor\" text-anchor=\"middle\" y=\"309.5\">\n",
              "    <tspan class=\"displacy-word\" fill=\"currentColor\" x=\"1100\">the</tspan>\n",
              "    <tspan class=\"displacy-tag\" dy=\"2em\" fill=\"currentColor\" x=\"1100\">DET</tspan>\n",
              "</text>\n",
              "\n",
              "<text class=\"displacy-token\" fill=\"currentColor\" text-anchor=\"middle\" y=\"309.5\">\n",
              "    <tspan class=\"displacy-word\" fill=\"currentColor\" x=\"1275\">lazy</tspan>\n",
              "    <tspan class=\"displacy-tag\" dy=\"2em\" fill=\"currentColor\" x=\"1275\">ADJ</tspan>\n",
              "</text>\n",
              "\n",
              "<text class=\"displacy-token\" fill=\"currentColor\" text-anchor=\"middle\" y=\"309.5\">\n",
              "    <tspan class=\"displacy-word\" fill=\"currentColor\" x=\"1450\">dog</tspan>\n",
              "    <tspan class=\"displacy-tag\" dy=\"2em\" fill=\"currentColor\" x=\"1450\">NOUN</tspan>\n",
              "</text>\n",
              "\n",
              "<g class=\"displacy-arrow\">\n",
              "    <path class=\"displacy-arc\" id=\"arrow-0ab0b8c9d19d4a4b98569f8bfded718a-0-0\" stroke-width=\"2px\" d=\"M70,264.5 C70,2.0 575.0,2.0 575.0,264.5\" fill=\"none\" stroke=\"currentColor\"/>\n",
              "    <text dy=\"1.25em\" style=\"font-size: 0.8em; letter-spacing: 1px\">\n",
              "        <textPath xlink:href=\"#arrow-0ab0b8c9d19d4a4b98569f8bfded718a-0-0\" class=\"displacy-label\" startOffset=\"50%\" side=\"left\" fill=\"currentColor\" text-anchor=\"middle\">det</textPath>\n",
              "    </text>\n",
              "    <path class=\"displacy-arrowhead\" d=\"M70,266.5 L62,254.5 78,254.5\" fill=\"currentColor\"/>\n",
              "</g>\n",
              "\n",
              "<g class=\"displacy-arrow\">\n",
              "    <path class=\"displacy-arc\" id=\"arrow-0ab0b8c9d19d4a4b98569f8bfded718a-0-1\" stroke-width=\"2px\" d=\"M245,264.5 C245,89.5 570.0,89.5 570.0,264.5\" fill=\"none\" stroke=\"currentColor\"/>\n",
              "    <text dy=\"1.25em\" style=\"font-size: 0.8em; letter-spacing: 1px\">\n",
              "        <textPath xlink:href=\"#arrow-0ab0b8c9d19d4a4b98569f8bfded718a-0-1\" class=\"displacy-label\" startOffset=\"50%\" side=\"left\" fill=\"currentColor\" text-anchor=\"middle\">amod</textPath>\n",
              "    </text>\n",
              "    <path class=\"displacy-arrowhead\" d=\"M245,266.5 L237,254.5 253,254.5\" fill=\"currentColor\"/>\n",
              "</g>\n",
              "\n",
              "<g class=\"displacy-arrow\">\n",
              "    <path class=\"displacy-arc\" id=\"arrow-0ab0b8c9d19d4a4b98569f8bfded718a-0-2\" stroke-width=\"2px\" d=\"M420,264.5 C420,177.0 565.0,177.0 565.0,264.5\" fill=\"none\" stroke=\"currentColor\"/>\n",
              "    <text dy=\"1.25em\" style=\"font-size: 0.8em; letter-spacing: 1px\">\n",
              "        <textPath xlink:href=\"#arrow-0ab0b8c9d19d4a4b98569f8bfded718a-0-2\" class=\"displacy-label\" startOffset=\"50%\" side=\"left\" fill=\"currentColor\" text-anchor=\"middle\">amod</textPath>\n",
              "    </text>\n",
              "    <path class=\"displacy-arrowhead\" d=\"M420,266.5 L412,254.5 428,254.5\" fill=\"currentColor\"/>\n",
              "</g>\n",
              "\n",
              "<g class=\"displacy-arrow\">\n",
              "    <path class=\"displacy-arc\" id=\"arrow-0ab0b8c9d19d4a4b98569f8bfded718a-0-3\" stroke-width=\"2px\" d=\"M595,264.5 C595,177.0 740.0,177.0 740.0,264.5\" fill=\"none\" stroke=\"currentColor\"/>\n",
              "    <text dy=\"1.25em\" style=\"font-size: 0.8em; letter-spacing: 1px\">\n",
              "        <textPath xlink:href=\"#arrow-0ab0b8c9d19d4a4b98569f8bfded718a-0-3\" class=\"displacy-label\" startOffset=\"50%\" side=\"left\" fill=\"currentColor\" text-anchor=\"middle\">nsubj</textPath>\n",
              "    </text>\n",
              "    <path class=\"displacy-arrowhead\" d=\"M595,266.5 L587,254.5 603,254.5\" fill=\"currentColor\"/>\n",
              "</g>\n",
              "\n",
              "<g class=\"displacy-arrow\">\n",
              "    <path class=\"displacy-arc\" id=\"arrow-0ab0b8c9d19d4a4b98569f8bfded718a-0-4\" stroke-width=\"2px\" d=\"M770,264.5 C770,177.0 915.0,177.0 915.0,264.5\" fill=\"none\" stroke=\"currentColor\"/>\n",
              "    <text dy=\"1.25em\" style=\"font-size: 0.8em; letter-spacing: 1px\">\n",
              "        <textPath xlink:href=\"#arrow-0ab0b8c9d19d4a4b98569f8bfded718a-0-4\" class=\"displacy-label\" startOffset=\"50%\" side=\"left\" fill=\"currentColor\" text-anchor=\"middle\">prep</textPath>\n",
              "    </text>\n",
              "    <path class=\"displacy-arrowhead\" d=\"M915.0,266.5 L923.0,254.5 907.0,254.5\" fill=\"currentColor\"/>\n",
              "</g>\n",
              "\n",
              "<g class=\"displacy-arrow\">\n",
              "    <path class=\"displacy-arc\" id=\"arrow-0ab0b8c9d19d4a4b98569f8bfded718a-0-5\" stroke-width=\"2px\" d=\"M1120,264.5 C1120,89.5 1445.0,89.5 1445.0,264.5\" fill=\"none\" stroke=\"currentColor\"/>\n",
              "    <text dy=\"1.25em\" style=\"font-size: 0.8em; letter-spacing: 1px\">\n",
              "        <textPath xlink:href=\"#arrow-0ab0b8c9d19d4a4b98569f8bfded718a-0-5\" class=\"displacy-label\" startOffset=\"50%\" side=\"left\" fill=\"currentColor\" text-anchor=\"middle\">det</textPath>\n",
              "    </text>\n",
              "    <path class=\"displacy-arrowhead\" d=\"M1120,266.5 L1112,254.5 1128,254.5\" fill=\"currentColor\"/>\n",
              "</g>\n",
              "\n",
              "<g class=\"displacy-arrow\">\n",
              "    <path class=\"displacy-arc\" id=\"arrow-0ab0b8c9d19d4a4b98569f8bfded718a-0-6\" stroke-width=\"2px\" d=\"M1295,264.5 C1295,177.0 1440.0,177.0 1440.0,264.5\" fill=\"none\" stroke=\"currentColor\"/>\n",
              "    <text dy=\"1.25em\" style=\"font-size: 0.8em; letter-spacing: 1px\">\n",
              "        <textPath xlink:href=\"#arrow-0ab0b8c9d19d4a4b98569f8bfded718a-0-6\" class=\"displacy-label\" startOffset=\"50%\" side=\"left\" fill=\"currentColor\" text-anchor=\"middle\">amod</textPath>\n",
              "    </text>\n",
              "    <path class=\"displacy-arrowhead\" d=\"M1295,266.5 L1287,254.5 1303,254.5\" fill=\"currentColor\"/>\n",
              "</g>\n",
              "\n",
              "<g class=\"displacy-arrow\">\n",
              "    <path class=\"displacy-arc\" id=\"arrow-0ab0b8c9d19d4a4b98569f8bfded718a-0-7\" stroke-width=\"2px\" d=\"M945,264.5 C945,2.0 1450.0,2.0 1450.0,264.5\" fill=\"none\" stroke=\"currentColor\"/>\n",
              "    <text dy=\"1.25em\" style=\"font-size: 0.8em; letter-spacing: 1px\">\n",
              "        <textPath xlink:href=\"#arrow-0ab0b8c9d19d4a4b98569f8bfded718a-0-7\" class=\"displacy-label\" startOffset=\"50%\" side=\"left\" fill=\"currentColor\" text-anchor=\"middle\">pobj</textPath>\n",
              "    </text>\n",
              "    <path class=\"displacy-arrowhead\" d=\"M1450.0,266.5 L1458.0,254.5 1442.0,254.5\" fill=\"currentColor\"/>\n",
              "</g>\n",
              "</svg></span>"
            ]
          },
          "metadata": {}
        }
      ]
    },
    {
      "cell_type": "code",
      "source": [
        "# Options dictionary\n",
        "options = {'distance':110, 'commpact':'True', 'color':'yellow', 'bg':'#09a3d5', 'font':'Times'}"
      ],
      "metadata": {
        "id": "XihKVR24luOE"
      },
      "execution_count": 26,
      "outputs": []
    },
    {
      "cell_type": "code",
      "source": [
        "displacy.render(doc, style = 'dep', jupyter = True, options = options)"
      ],
      "metadata": {
        "colab": {
          "base_uri": "https://localhost:8080/",
          "height": 324
        },
        "id": "UqqEvvdWmBuF",
        "outputId": "478ece71-bfef-4964-e465-ec081d926980"
      },
      "execution_count": 27,
      "outputs": [
        {
          "output_type": "display_data",
          "data": {
            "text/plain": [
              "<IPython.core.display.HTML object>"
            ],
            "text/html": [
              "<span class=\"tex2jax_ignore\"><svg xmlns=\"http://www.w3.org/2000/svg\" xmlns:xlink=\"http://www.w3.org/1999/xlink\" xml:lang=\"en\" id=\"b14f1176af8746e29da0747a2a576bf1-0\" class=\"displacy\" width=\"1040\" height=\"302.0\" direction=\"ltr\" style=\"max-width: none; height: 302.0px; color: yellow; background: #09a3d5; font-family: Times; direction: ltr\">\n",
              "<text class=\"displacy-token\" fill=\"currentColor\" text-anchor=\"middle\" y=\"212.0\">\n",
              "    <tspan class=\"displacy-word\" fill=\"currentColor\" x=\"50\">The</tspan>\n",
              "    <tspan class=\"displacy-tag\" dy=\"2em\" fill=\"currentColor\" x=\"50\">DET</tspan>\n",
              "</text>\n",
              "\n",
              "<text class=\"displacy-token\" fill=\"currentColor\" text-anchor=\"middle\" y=\"212.0\">\n",
              "    <tspan class=\"displacy-word\" fill=\"currentColor\" x=\"160\">quick</tspan>\n",
              "    <tspan class=\"displacy-tag\" dy=\"2em\" fill=\"currentColor\" x=\"160\">ADJ</tspan>\n",
              "</text>\n",
              "\n",
              "<text class=\"displacy-token\" fill=\"currentColor\" text-anchor=\"middle\" y=\"212.0\">\n",
              "    <tspan class=\"displacy-word\" fill=\"currentColor\" x=\"270\">brown</tspan>\n",
              "    <tspan class=\"displacy-tag\" dy=\"2em\" fill=\"currentColor\" x=\"270\">ADJ</tspan>\n",
              "</text>\n",
              "\n",
              "<text class=\"displacy-token\" fill=\"currentColor\" text-anchor=\"middle\" y=\"212.0\">\n",
              "    <tspan class=\"displacy-word\" fill=\"currentColor\" x=\"380\">fox</tspan>\n",
              "    <tspan class=\"displacy-tag\" dy=\"2em\" fill=\"currentColor\" x=\"380\">NOUN</tspan>\n",
              "</text>\n",
              "\n",
              "<text class=\"displacy-token\" fill=\"currentColor\" text-anchor=\"middle\" y=\"212.0\">\n",
              "    <tspan class=\"displacy-word\" fill=\"currentColor\" x=\"490\">jumped</tspan>\n",
              "    <tspan class=\"displacy-tag\" dy=\"2em\" fill=\"currentColor\" x=\"490\">VERB</tspan>\n",
              "</text>\n",
              "\n",
              "<text class=\"displacy-token\" fill=\"currentColor\" text-anchor=\"middle\" y=\"212.0\">\n",
              "    <tspan class=\"displacy-word\" fill=\"currentColor\" x=\"600\">over</tspan>\n",
              "    <tspan class=\"displacy-tag\" dy=\"2em\" fill=\"currentColor\" x=\"600\">ADP</tspan>\n",
              "</text>\n",
              "\n",
              "<text class=\"displacy-token\" fill=\"currentColor\" text-anchor=\"middle\" y=\"212.0\">\n",
              "    <tspan class=\"displacy-word\" fill=\"currentColor\" x=\"710\">the</tspan>\n",
              "    <tspan class=\"displacy-tag\" dy=\"2em\" fill=\"currentColor\" x=\"710\">DET</tspan>\n",
              "</text>\n",
              "\n",
              "<text class=\"displacy-token\" fill=\"currentColor\" text-anchor=\"middle\" y=\"212.0\">\n",
              "    <tspan class=\"displacy-word\" fill=\"currentColor\" x=\"820\">lazy</tspan>\n",
              "    <tspan class=\"displacy-tag\" dy=\"2em\" fill=\"currentColor\" x=\"820\">ADJ</tspan>\n",
              "</text>\n",
              "\n",
              "<text class=\"displacy-token\" fill=\"currentColor\" text-anchor=\"middle\" y=\"212.0\">\n",
              "    <tspan class=\"displacy-word\" fill=\"currentColor\" x=\"930\">dog</tspan>\n",
              "    <tspan class=\"displacy-tag\" dy=\"2em\" fill=\"currentColor\" x=\"930\">NOUN</tspan>\n",
              "</text>\n",
              "\n",
              "<g class=\"displacy-arrow\">\n",
              "    <path class=\"displacy-arc\" id=\"arrow-b14f1176af8746e29da0747a2a576bf1-0-0\" stroke-width=\"2px\" d=\"M70,167.0 C70,2.0 380.0,2.0 380.0,167.0\" fill=\"none\" stroke=\"currentColor\"/>\n",
              "    <text dy=\"1.25em\" style=\"font-size: 0.8em; letter-spacing: 1px\">\n",
              "        <textPath xlink:href=\"#arrow-b14f1176af8746e29da0747a2a576bf1-0-0\" class=\"displacy-label\" startOffset=\"50%\" side=\"left\" fill=\"currentColor\" text-anchor=\"middle\">det</textPath>\n",
              "    </text>\n",
              "    <path class=\"displacy-arrowhead\" d=\"M70,169.0 L62,157.0 78,157.0\" fill=\"currentColor\"/>\n",
              "</g>\n",
              "\n",
              "<g class=\"displacy-arrow\">\n",
              "    <path class=\"displacy-arc\" id=\"arrow-b14f1176af8746e29da0747a2a576bf1-0-1\" stroke-width=\"2px\" d=\"M180,167.0 C180,57.0 375.0,57.0 375.0,167.0\" fill=\"none\" stroke=\"currentColor\"/>\n",
              "    <text dy=\"1.25em\" style=\"font-size: 0.8em; letter-spacing: 1px\">\n",
              "        <textPath xlink:href=\"#arrow-b14f1176af8746e29da0747a2a576bf1-0-1\" class=\"displacy-label\" startOffset=\"50%\" side=\"left\" fill=\"currentColor\" text-anchor=\"middle\">amod</textPath>\n",
              "    </text>\n",
              "    <path class=\"displacy-arrowhead\" d=\"M180,169.0 L172,157.0 188,157.0\" fill=\"currentColor\"/>\n",
              "</g>\n",
              "\n",
              "<g class=\"displacy-arrow\">\n",
              "    <path class=\"displacy-arc\" id=\"arrow-b14f1176af8746e29da0747a2a576bf1-0-2\" stroke-width=\"2px\" d=\"M290,167.0 C290,112.0 370.0,112.0 370.0,167.0\" fill=\"none\" stroke=\"currentColor\"/>\n",
              "    <text dy=\"1.25em\" style=\"font-size: 0.8em; letter-spacing: 1px\">\n",
              "        <textPath xlink:href=\"#arrow-b14f1176af8746e29da0747a2a576bf1-0-2\" class=\"displacy-label\" startOffset=\"50%\" side=\"left\" fill=\"currentColor\" text-anchor=\"middle\">amod</textPath>\n",
              "    </text>\n",
              "    <path class=\"displacy-arrowhead\" d=\"M290,169.0 L282,157.0 298,157.0\" fill=\"currentColor\"/>\n",
              "</g>\n",
              "\n",
              "<g class=\"displacy-arrow\">\n",
              "    <path class=\"displacy-arc\" id=\"arrow-b14f1176af8746e29da0747a2a576bf1-0-3\" stroke-width=\"2px\" d=\"M400,167.0 C400,112.0 480.0,112.0 480.0,167.0\" fill=\"none\" stroke=\"currentColor\"/>\n",
              "    <text dy=\"1.25em\" style=\"font-size: 0.8em; letter-spacing: 1px\">\n",
              "        <textPath xlink:href=\"#arrow-b14f1176af8746e29da0747a2a576bf1-0-3\" class=\"displacy-label\" startOffset=\"50%\" side=\"left\" fill=\"currentColor\" text-anchor=\"middle\">nsubj</textPath>\n",
              "    </text>\n",
              "    <path class=\"displacy-arrowhead\" d=\"M400,169.0 L392,157.0 408,157.0\" fill=\"currentColor\"/>\n",
              "</g>\n",
              "\n",
              "<g class=\"displacy-arrow\">\n",
              "    <path class=\"displacy-arc\" id=\"arrow-b14f1176af8746e29da0747a2a576bf1-0-4\" stroke-width=\"2px\" d=\"M510,167.0 C510,112.0 590.0,112.0 590.0,167.0\" fill=\"none\" stroke=\"currentColor\"/>\n",
              "    <text dy=\"1.25em\" style=\"font-size: 0.8em; letter-spacing: 1px\">\n",
              "        <textPath xlink:href=\"#arrow-b14f1176af8746e29da0747a2a576bf1-0-4\" class=\"displacy-label\" startOffset=\"50%\" side=\"left\" fill=\"currentColor\" text-anchor=\"middle\">prep</textPath>\n",
              "    </text>\n",
              "    <path class=\"displacy-arrowhead\" d=\"M590.0,169.0 L598.0,157.0 582.0,157.0\" fill=\"currentColor\"/>\n",
              "</g>\n",
              "\n",
              "<g class=\"displacy-arrow\">\n",
              "    <path class=\"displacy-arc\" id=\"arrow-b14f1176af8746e29da0747a2a576bf1-0-5\" stroke-width=\"2px\" d=\"M730,167.0 C730,57.0 925.0,57.0 925.0,167.0\" fill=\"none\" stroke=\"currentColor\"/>\n",
              "    <text dy=\"1.25em\" style=\"font-size: 0.8em; letter-spacing: 1px\">\n",
              "        <textPath xlink:href=\"#arrow-b14f1176af8746e29da0747a2a576bf1-0-5\" class=\"displacy-label\" startOffset=\"50%\" side=\"left\" fill=\"currentColor\" text-anchor=\"middle\">det</textPath>\n",
              "    </text>\n",
              "    <path class=\"displacy-arrowhead\" d=\"M730,169.0 L722,157.0 738,157.0\" fill=\"currentColor\"/>\n",
              "</g>\n",
              "\n",
              "<g class=\"displacy-arrow\">\n",
              "    <path class=\"displacy-arc\" id=\"arrow-b14f1176af8746e29da0747a2a576bf1-0-6\" stroke-width=\"2px\" d=\"M840,167.0 C840,112.0 920.0,112.0 920.0,167.0\" fill=\"none\" stroke=\"currentColor\"/>\n",
              "    <text dy=\"1.25em\" style=\"font-size: 0.8em; letter-spacing: 1px\">\n",
              "        <textPath xlink:href=\"#arrow-b14f1176af8746e29da0747a2a576bf1-0-6\" class=\"displacy-label\" startOffset=\"50%\" side=\"left\" fill=\"currentColor\" text-anchor=\"middle\">amod</textPath>\n",
              "    </text>\n",
              "    <path class=\"displacy-arrowhead\" d=\"M840,169.0 L832,157.0 848,157.0\" fill=\"currentColor\"/>\n",
              "</g>\n",
              "\n",
              "<g class=\"displacy-arrow\">\n",
              "    <path class=\"displacy-arc\" id=\"arrow-b14f1176af8746e29da0747a2a576bf1-0-7\" stroke-width=\"2px\" d=\"M620,167.0 C620,2.0 930.0,2.0 930.0,167.0\" fill=\"none\" stroke=\"currentColor\"/>\n",
              "    <text dy=\"1.25em\" style=\"font-size: 0.8em; letter-spacing: 1px\">\n",
              "        <textPath xlink:href=\"#arrow-b14f1176af8746e29da0747a2a576bf1-0-7\" class=\"displacy-label\" startOffset=\"50%\" side=\"left\" fill=\"currentColor\" text-anchor=\"middle\">pobj</textPath>\n",
              "    </text>\n",
              "    <path class=\"displacy-arrowhead\" d=\"M930.0,169.0 L938.0,157.0 922.0,157.0\" fill=\"currentColor\"/>\n",
              "</g>\n",
              "</svg></span>"
            ]
          },
          "metadata": {}
        }
      ]
    },
    {
      "cell_type": "code",
      "source": [
        "doc2 = nlp(u\"This is a sentence. This is another sentence, possible longer than the other.\")"
      ],
      "metadata": {
        "id": "bhridVFqmStL"
      },
      "execution_count": 29,
      "outputs": []
    },
    {
      "cell_type": "code",
      "source": [
        "spans = list(doc2.sents) # Grabs sentences automatically\n",
        "displacy.serve(spans, style = 'dep', options = {'distance':110})"
      ],
      "metadata": {
        "colab": {
          "base_uri": "https://localhost:8080/"
        },
        "id": "Gyffe0D0meuw",
        "outputId": "4011aa91-06ae-4d26-9c86-78540cd3f02e"
      },
      "execution_count": 31,
      "outputs": [
        {
          "output_type": "stream",
          "name": "stdout",
          "text": [
            "\n",
            "Using the 'dep' visualizer\n",
            "Serving on http://0.0.0.0:5000 ...\n",
            "\n",
            "Shutting down server on port 5000.\n"
          ]
        }
      ]
    },
    {
      "cell_type": "markdown",
      "source": [
        "## 3.2 Named Entity Recognition\n",
        "\n",
        "Named-entity recognition (NER) seeks to locate and classify named entity mentions in unstructured text into pre-defined categories such as the person names, organizations, locations, medical codes, time expressions, quantities, monetary values, percentages, etc.\n",
        "\n",
        "**Entity annotations**\n",
        "\n",
        "`Doc.ents` are token spans with their own set of annotations.\n",
        "<table>\n",
        "<tr><td>`ent.text`</td><td>The original entity text</td></tr>\n",
        "<tr><td>`ent.label`</td><td>The entity type's hash value</td></tr>\n",
        "<tr><td>`ent.label_`</td><td>The entity type's string description</td></tr>\n",
        "<tr><td>`ent.start`</td><td>The token span's *start* index position in the Doc</td></tr>\n",
        "<tr><td>`ent.end`</td><td>The token span's *stop* index position in the Doc</td></tr>\n",
        "<tr><td>`ent.start_char`</td><td>The entity text's *start* index position in the Doc</td></tr>\n",
        "<tr><td>`ent.end_char`</td><td>The entity text's *stop* index position in the Doc</td></tr>\n",
        "</table>\n"
      ],
      "metadata": {
        "id": "HJFTsevhm2-_"
      }
    },
    {
      "cell_type": "code",
      "source": [
        "import spacy\n",
        "nlp = spacy.load('en_core_web_sm')"
      ],
      "metadata": {
        "id": "GRwOHsPqnr6k"
      },
      "execution_count": 32,
      "outputs": []
    },
    {
      "cell_type": "code",
      "source": [
        "def show_ents(doc):\n",
        "  if doc.ents:\n",
        "    for ent in doc.ents:\n",
        "      print(ent.text + '-' +ent.label_ + '-' +str(spacy.explain(ent.label_)))\n",
        "  else:\n",
        "    print('No entities found')"
      ],
      "metadata": {
        "id": "4yCmUnV8uYcM"
      },
      "execution_count": 33,
      "outputs": []
    },
    {
      "cell_type": "code",
      "source": [
        "doc = nlp(u\"Hi how are you?\")\n",
        "show_ents(doc)"
      ],
      "metadata": {
        "colab": {
          "base_uri": "https://localhost:8080/"
        },
        "id": "RQ_U9ey3ud-9",
        "outputId": "f0edd522-7ef1-4993-8234-ecb85e5c2a7b"
      },
      "execution_count": 34,
      "outputs": [
        {
          "output_type": "stream",
          "name": "stdout",
          "text": [
            "No entities found\n"
          ]
        }
      ]
    },
    {
      "cell_type": "code",
      "source": [
        "doc = nlp(u\"May I go to Washington, DC next May to see the Washington Monument?\")\n",
        "show_ents(doc)"
      ],
      "metadata": {
        "colab": {
          "base_uri": "https://localhost:8080/"
        },
        "id": "-rAuPhieunTt",
        "outputId": "af7834ec-33b9-4f7b-ed39-4aaa99956543"
      },
      "execution_count": 36,
      "outputs": [
        {
          "output_type": "stream",
          "name": "stdout",
          "text": [
            "Washington, DC-GPE-Countries, cities, states\n",
            "next May-DATE-Absolute or relative dates or periods\n",
            "the Washington Monument-ORG-Companies, agencies, institutions, etc.\n"
          ]
        }
      ]
    },
    {
      "cell_type": "code",
      "source": [
        "doc = nlp(u\"Can I please have 500 dollars of Microsoft stock?\")\n",
        "show_ents(doc)"
      ],
      "metadata": {
        "colab": {
          "base_uri": "https://localhost:8080/"
        },
        "id": "W6KgLz5EvIsQ",
        "outputId": "b3b1938f-098d-4fb3-8189-0fd2f73d1e8c"
      },
      "execution_count": 37,
      "outputs": [
        {
          "output_type": "stream",
          "name": "stdout",
          "text": [
            "500 dollars-MONEY-Monetary values, including unit\n",
            "Microsoft-ORG-Companies, agencies, institutions, etc.\n"
          ]
        }
      ]
    },
    {
      "cell_type": "markdown",
      "source": [
        "**NER Tags**\n",
        "\n",
        "Tags are accessible through the `.label_` property of an entity.\n",
        "<table>\n",
        "<tr><th>TYPE</th><th>DESCRIPTION</th><th>EXAMPLE</th></tr>\n",
        "<tr><td>`PERSON`</td><td>People, including fictional.</td><td>*Fred Flintstone*</td></tr>\n",
        "<tr><td>`NORP`</td><td>Nationalities or religious or political groups.</td><td>*The Republican Party*</td></tr>\n",
        "<tr><td>`FAC`</td><td>Buildings, airports, highways, bridges, etc.</td><td>*Logan International Airport, The Golden Gate*</td></tr>\n",
        "<tr><td>`ORG`</td><td>Companies, agencies, institutions, etc.</td><td>*Microsoft, FBI, MIT*</td></tr>\n",
        "<tr><td>`GPE`</td><td>Countries, cities, states.</td><td>*France, UAR, Chicago, Idaho*</td></tr>\n",
        "<tr><td>`LOC`</td><td>Non-GPE locations, mountain ranges, bodies of water.</td><td>*Europe, Nile River, Midwest*</td></tr>\n",
        "<tr><td>`PRODUCT`</td><td>Objects, vehicles, foods, etc. (Not services.)</td><td>*Formula 1*</td></tr>\n",
        "<tr><td>`EVENT`</td><td>Named hurricanes, battles, wars, sports events, etc.</td><td>*Olympic Games*</td></tr>\n",
        "<tr><td>`WORK_OF_ART`</td><td>Titles of books, songs, etc.</td><td>*The Mona Lisa*</td></tr>\n",
        "<tr><td>`LAW`</td><td>Named documents made into laws.</td><td>*Roe v. Wade*</td></tr>\n",
        "<tr><td>`LANGUAGE`</td><td>Any named language.</td><td>*English*</td></tr>\n",
        "<tr><td>`DATE`</td><td>Absolute or relative dates or periods.</td><td>*20 July 1969*</td></tr>\n",
        "<tr><td>`TIME`</td><td>Times smaller than a day.</td><td>*Four hours*</td></tr>\n",
        "<tr><td>`PERCENT`</td><td>Percentage, including \"%\".</td><td>*Eighty percent*</td></tr>\n",
        "<tr><td>`MONEY`</td><td>Monetary values, including unit.</td><td>*Twenty Cents*</td></tr>\n",
        "<tr><td>`QUANTITY`</td><td>Measurements, as of weight or distance.</td><td>*Several kilometers, 55kg*</td></tr>\n",
        "<tr><td>`ORDINAL`</td><td>\"first\", \"second\", etc.</td><td>*9th, Ninth*</td></tr>\n",
        "<tr><td>`CARDINAL`</td><td>Numerals that do not fall under another type.</td><td>*2, Two, Fifty-two*</td></tr>\n",
        "</table>"
      ],
      "metadata": {
        "id": "3a_01iPzvZJg"
      }
    },
    {
      "cell_type": "code",
      "source": [
        "doc = nlp(u\"Tesla to build a U.K. factory for $6 million\")\n",
        "show_ents(doc)\n"
      ],
      "metadata": {
        "colab": {
          "base_uri": "https://localhost:8080/"
        },
        "id": "wfrire8avcXs",
        "outputId": "d7793728-b48a-40db-d996-4d19d39a9f87"
      },
      "execution_count": 42,
      "outputs": [
        {
          "output_type": "stream",
          "name": "stdout",
          "text": [
            "U.K.-GPE-Countries, cities, states\n",
            "$6 million-MONEY-Monetary values, including unit\n"
          ]
        },
        {
          "output_type": "execute_result",
          "data": {
            "text/plain": [
              "tuple"
            ]
          },
          "metadata": {},
          "execution_count": 42
        }
      ]
    },
    {
      "cell_type": "code",
      "source": [
        "from spacy.tokens import Span\n",
        "ORG = doc.vocab.strings[u\"ORG\"]     # Here we add new entity\n",
        "new_ent = Span(doc, 0, 1, label = ORG)\n",
        "doc.ents = tuple(list(doc.ents) + [new_ent]) # Here we need to convert it to tuple to insert it to entities\n",
        "\n",
        "show_ents(doc)"
      ],
      "metadata": {
        "colab": {
          "base_uri": "https://localhost:8080/"
        },
        "id": "zZvIPHxMvpuX",
        "outputId": "3191b8af-f68e-44e9-9e4f-fb853c2d9055"
      },
      "execution_count": 43,
      "outputs": [
        {
          "output_type": "stream",
          "name": "stdout",
          "text": [
            "Tesla-ORG-Companies, agencies, institutions, etc.\n",
            "U.K.-GPE-Countries, cities, states\n",
            "$6 million-MONEY-Monetary values, including unit\n"
          ]
        }
      ]
    },
    {
      "cell_type": "code",
      "source": [
        "# Here we add several Named Entities\n",
        "from spacy.matcher import PhraseMatcher\n",
        "from spacy.tokens import Span\n",
        "\n",
        "doc = nlp(u\"Our company created a brand new vacuum cleaner.\"\n",
        "          u\"This new vacuum-cleaner is the best in show.\")\n",
        "show_ents(doc)"
      ],
      "metadata": {
        "colab": {
          "base_uri": "https://localhost:8080/"
        },
        "id": "dHX45E9Yw8hg",
        "outputId": "b87a62d5-dfc0-4c4c-f914-185fa7f7285e"
      },
      "execution_count": 55,
      "outputs": [
        {
          "output_type": "stream",
          "name": "stdout",
          "text": [
            "No entities found\n"
          ]
        }
      ]
    },
    {
      "cell_type": "code",
      "source": [
        "matcher = PhraseMatcher(nlp.vocab)\n",
        "phrase_list = ['vacuum cleaner', 'vacuum-cleaner']\n",
        "phrase_patterns = [nlp(text) for text in phrase_list]\n",
        "matcher.add('newproduct', phrase_patterns)"
      ],
      "metadata": {
        "id": "aDQSzqTSx0gr"
      },
      "execution_count": 56,
      "outputs": []
    },
    {
      "cell_type": "code",
      "source": [
        "found_matches = matcher(doc)\n",
        "found_matches"
      ],
      "metadata": {
        "colab": {
          "base_uri": "https://localhost:8080/"
        },
        "id": "P06-RjpwyRtI",
        "outputId": "f5edfda7-3a54-4b92-eb07-8d73b106f2a3"
      },
      "execution_count": 50,
      "outputs": [
        {
          "output_type": "execute_result",
          "data": {
            "text/plain": [
              "[(2689272359382549672, 6, 8), (2689272359382549672, 11, 14)]"
            ]
          },
          "metadata": {},
          "execution_count": 50
        }
      ]
    },
    {
      "cell_type": "code",
      "source": [
        "PROD = doc.vocab.strings[u\"PRODUCT\"]"
      ],
      "metadata": {
        "id": "MXznRvTTyczH"
      },
      "execution_count": 52,
      "outputs": []
    },
    {
      "cell_type": "code",
      "source": [
        "new_ents = [Span(doc, match[1], match[2], label = PROD) for match in found_matches]\n",
        "\n",
        "doc.ents = tuple(list(doc.ents) + new_ents)\n",
        "\n",
        "show_ents(doc)"
      ],
      "metadata": {
        "colab": {
          "base_uri": "https://localhost:8080/"
        },
        "id": "Fm-5aus_y84y",
        "outputId": "e98e325a-b241-49d8-ef5d-794b4b79b1e4"
      },
      "execution_count": 57,
      "outputs": [
        {
          "output_type": "stream",
          "name": "stdout",
          "text": [
            "vacuum cleaner-PRODUCT-Objects, vehicles, foods, etc. (not services)\n",
            "vacuum-cleaner-PRODUCT-Objects, vehicles, foods, etc. (not services)\n"
          ]
        }
      ]
    },
    {
      "cell_type": "code",
      "source": [
        "doc = nlp(u\"Originally I paid $29.95 for this car toy, but now it is marked down by $10.\")\n",
        "\n",
        "show_ents(doc)\n",
        "\n",
        "[ent for ent in doc.ents if ent.label_ == \"MONEY\"]"
      ],
      "metadata": {
        "colab": {
          "base_uri": "https://localhost:8080/"
        },
        "id": "ozzhtzb_0DzE",
        "outputId": "25da3a3a-28af-454b-da58-6135b00d746d"
      },
      "execution_count": 59,
      "outputs": [
        {
          "output_type": "stream",
          "name": "stdout",
          "text": [
            "29.95-MONEY-Monetary values, including unit\n",
            "10-MONEY-Monetary values, including unit\n"
          ]
        },
        {
          "output_type": "execute_result",
          "data": {
            "text/plain": [
              "[29.95, 10]"
            ]
          },
          "metadata": {},
          "execution_count": 59
        }
      ]
    },
    {
      "cell_type": "markdown",
      "source": [
        "**Visualizing Named Entity Recognition**"
      ],
      "metadata": {
        "id": "ok9g_k_0ziJ4"
      }
    },
    {
      "cell_type": "code",
      "source": [
        "# Here we visualize several Named Entities\n",
        "import spacy\n",
        "from spacy import displacy\n",
        "\n",
        "doc = nlp(u\"Over the last quarter Apple sold nearly 20 thousand iPods for a profit of $6 million\"\n",
        "          u\"By contrast, Sony only sold 8 thousand Walkman music players\")\n",
        "\n",
        "displacy.render(doc, style = 'ent', jupyter = True)"
      ],
      "metadata": {
        "colab": {
          "base_uri": "https://localhost:8080/",
          "height": 87
        },
        "id": "1udkxu-wzniF",
        "outputId": "61ece936-f359-44b0-9bf4-38f6511badc8"
      },
      "execution_count": 61,
      "outputs": [
        {
          "output_type": "display_data",
          "data": {
            "text/plain": [
              "<IPython.core.display.HTML object>"
            ],
            "text/html": [
              "<span class=\"tex2jax_ignore\"><div class=\"entities\" style=\"line-height: 2.5; direction: ltr\">Over \n",
              "<mark class=\"entity\" style=\"background: #bfe1d9; padding: 0.45em 0.6em; margin: 0 0.25em; line-height: 1; border-radius: 0.35em;\">\n",
              "    the last quarter\n",
              "    <span style=\"font-size: 0.8em; font-weight: bold; line-height: 1; border-radius: 0.35em; vertical-align: middle; margin-left: 0.5rem\">DATE</span>\n",
              "</mark>\n",
              " \n",
              "<mark class=\"entity\" style=\"background: #7aecec; padding: 0.45em 0.6em; margin: 0 0.25em; line-height: 1; border-radius: 0.35em;\">\n",
              "    Apple\n",
              "    <span style=\"font-size: 0.8em; font-weight: bold; line-height: 1; border-radius: 0.35em; vertical-align: middle; margin-left: 0.5rem\">ORG</span>\n",
              "</mark>\n",
              " sold \n",
              "<mark class=\"entity\" style=\"background: #e4e7d2; padding: 0.45em 0.6em; margin: 0 0.25em; line-height: 1; border-radius: 0.35em;\">\n",
              "    nearly 20 thousand\n",
              "    <span style=\"font-size: 0.8em; font-weight: bold; line-height: 1; border-radius: 0.35em; vertical-align: middle; margin-left: 0.5rem\">CARDINAL</span>\n",
              "</mark>\n",
              " \n",
              "<mark class=\"entity\" style=\"background: #bfeeb7; padding: 0.45em 0.6em; margin: 0 0.25em; line-height: 1; border-radius: 0.35em;\">\n",
              "    iPods\n",
              "    <span style=\"font-size: 0.8em; font-weight: bold; line-height: 1; border-radius: 0.35em; vertical-align: middle; margin-left: 0.5rem\">PRODUCT</span>\n",
              "</mark>\n",
              " for a profit of $\n",
              "<mark class=\"entity\" style=\"background: #e4e7d2; padding: 0.45em 0.6em; margin: 0 0.25em; line-height: 1; border-radius: 0.35em;\">\n",
              "    6\n",
              "    <span style=\"font-size: 0.8em; font-weight: bold; line-height: 1; border-radius: 0.35em; vertical-align: middle; margin-left: 0.5rem\">MONEY</span>\n",
              "</mark>\n",
              " millionBy contrast, \n",
              "<mark class=\"entity\" style=\"background: #7aecec; padding: 0.45em 0.6em; margin: 0 0.25em; line-height: 1; border-radius: 0.35em;\">\n",
              "    Sony\n",
              "    <span style=\"font-size: 0.8em; font-weight: bold; line-height: 1; border-radius: 0.35em; vertical-align: middle; margin-left: 0.5rem\">ORG</span>\n",
              "</mark>\n",
              " only sold \n",
              "<mark class=\"entity\" style=\"background: #e4e7d2; padding: 0.45em 0.6em; margin: 0 0.25em; line-height: 1; border-radius: 0.35em;\">\n",
              "    8 thousand\n",
              "    <span style=\"font-size: 0.8em; font-weight: bold; line-height: 1; border-radius: 0.35em; vertical-align: middle; margin-left: 0.5rem\">CARDINAL</span>\n",
              "</mark>\n",
              " Walkman music players</div></span>"
            ]
          },
          "metadata": {}
        }
      ]
    },
    {
      "cell_type": "code",
      "source": [
        "for sent in doc.sents:\n",
        "  displacy.render(nlp(sent.text),style = 'ent', jupyter = True)"
      ],
      "metadata": {
        "colab": {
          "base_uri": "https://localhost:8080/",
          "height": 87
        },
        "id": "mnwVhrHt032c",
        "outputId": "1d638848-f219-4b0c-b0a1-e2798c21777a"
      },
      "execution_count": 62,
      "outputs": [
        {
          "output_type": "display_data",
          "data": {
            "text/plain": [
              "<IPython.core.display.HTML object>"
            ],
            "text/html": [
              "<span class=\"tex2jax_ignore\"><div class=\"entities\" style=\"line-height: 2.5; direction: ltr\">Over \n",
              "<mark class=\"entity\" style=\"background: #bfe1d9; padding: 0.45em 0.6em; margin: 0 0.25em; line-height: 1; border-radius: 0.35em;\">\n",
              "    the last quarter\n",
              "    <span style=\"font-size: 0.8em; font-weight: bold; line-height: 1; border-radius: 0.35em; vertical-align: middle; margin-left: 0.5rem\">DATE</span>\n",
              "</mark>\n",
              " \n",
              "<mark class=\"entity\" style=\"background: #7aecec; padding: 0.45em 0.6em; margin: 0 0.25em; line-height: 1; border-radius: 0.35em;\">\n",
              "    Apple\n",
              "    <span style=\"font-size: 0.8em; font-weight: bold; line-height: 1; border-radius: 0.35em; vertical-align: middle; margin-left: 0.5rem\">ORG</span>\n",
              "</mark>\n",
              " sold \n",
              "<mark class=\"entity\" style=\"background: #e4e7d2; padding: 0.45em 0.6em; margin: 0 0.25em; line-height: 1; border-radius: 0.35em;\">\n",
              "    nearly 20 thousand\n",
              "    <span style=\"font-size: 0.8em; font-weight: bold; line-height: 1; border-radius: 0.35em; vertical-align: middle; margin-left: 0.5rem\">CARDINAL</span>\n",
              "</mark>\n",
              " \n",
              "<mark class=\"entity\" style=\"background: #bfeeb7; padding: 0.45em 0.6em; margin: 0 0.25em; line-height: 1; border-radius: 0.35em;\">\n",
              "    iPods\n",
              "    <span style=\"font-size: 0.8em; font-weight: bold; line-height: 1; border-radius: 0.35em; vertical-align: middle; margin-left: 0.5rem\">PRODUCT</span>\n",
              "</mark>\n",
              " for a profit of $\n",
              "<mark class=\"entity\" style=\"background: #e4e7d2; padding: 0.45em 0.6em; margin: 0 0.25em; line-height: 1; border-radius: 0.35em;\">\n",
              "    6\n",
              "    <span style=\"font-size: 0.8em; font-weight: bold; line-height: 1; border-radius: 0.35em; vertical-align: middle; margin-left: 0.5rem\">MONEY</span>\n",
              "</mark>\n",
              " millionBy contrast, \n",
              "<mark class=\"entity\" style=\"background: #7aecec; padding: 0.45em 0.6em; margin: 0 0.25em; line-height: 1; border-radius: 0.35em;\">\n",
              "    Sony\n",
              "    <span style=\"font-size: 0.8em; font-weight: bold; line-height: 1; border-radius: 0.35em; vertical-align: middle; margin-left: 0.5rem\">ORG</span>\n",
              "</mark>\n",
              " only sold \n",
              "<mark class=\"entity\" style=\"background: #e4e7d2; padding: 0.45em 0.6em; margin: 0 0.25em; line-height: 1; border-radius: 0.35em;\">\n",
              "    8 thousand\n",
              "    <span style=\"font-size: 0.8em; font-weight: bold; line-height: 1; border-radius: 0.35em; vertical-align: middle; margin-left: 0.5rem\">CARDINAL</span>\n",
              "</mark>\n",
              " Walkman music players</div></span>"
            ]
          },
          "metadata": {}
        }
      ]
    },
    {
      "cell_type": "code",
      "source": [
        "# Here we highlight product entities\n",
        "#colors = {'ORG':'#aa9cfc'}\n",
        "#colors = {'ORG':'radial-gradient(yellow, green)'}\n",
        "colors = {'ORG':'linear-gradient(90deg, #aa9cfc, #fc9ce7)'}\n",
        "options = {'ents':['PRODUCT', 'ORG'], 'colors' : colors}\n",
        "displacy.render(doc, style = 'ent', jupyter = True, options = options)"
      ],
      "metadata": {
        "colab": {
          "base_uri": "https://localhost:8080/",
          "height": 52
        },
        "id": "SBm8MZKh1ILs",
        "outputId": "3f6ecc13-792b-4ad4-c550-7eb54b241522"
      },
      "execution_count": 67,
      "outputs": [
        {
          "output_type": "display_data",
          "data": {
            "text/plain": [
              "<IPython.core.display.HTML object>"
            ],
            "text/html": [
              "<span class=\"tex2jax_ignore\"><div class=\"entities\" style=\"line-height: 2.5; direction: ltr\">Over the last quarter \n",
              "<mark class=\"entity\" style=\"background: linear-gradient(90deg, #aa9cfc, #fc9ce7); padding: 0.45em 0.6em; margin: 0 0.25em; line-height: 1; border-radius: 0.35em;\">\n",
              "    Apple\n",
              "    <span style=\"font-size: 0.8em; font-weight: bold; line-height: 1; border-radius: 0.35em; vertical-align: middle; margin-left: 0.5rem\">ORG</span>\n",
              "</mark>\n",
              " sold nearly 20 thousand \n",
              "<mark class=\"entity\" style=\"background: #bfeeb7; padding: 0.45em 0.6em; margin: 0 0.25em; line-height: 1; border-radius: 0.35em;\">\n",
              "    iPods\n",
              "    <span style=\"font-size: 0.8em; font-weight: bold; line-height: 1; border-radius: 0.35em; vertical-align: middle; margin-left: 0.5rem\">PRODUCT</span>\n",
              "</mark>\n",
              " for a profit of $6 millionBy contrast, \n",
              "<mark class=\"entity\" style=\"background: linear-gradient(90deg, #aa9cfc, #fc9ce7); padding: 0.45em 0.6em; margin: 0 0.25em; line-height: 1; border-radius: 0.35em;\">\n",
              "    Sony\n",
              "    <span style=\"font-size: 0.8em; font-weight: bold; line-height: 1; border-radius: 0.35em; vertical-align: middle; margin-left: 0.5rem\">ORG</span>\n",
              "</mark>\n",
              " only sold 8 thousand Walkman music players</div></span>"
            ]
          },
          "metadata": {}
        }
      ]
    },
    {
      "cell_type": "code",
      "source": [
        "displacy.serve(doc, style = 'ent',  options = options)"
      ],
      "metadata": {
        "colab": {
          "base_uri": "https://localhost:8080/"
        },
        "id": "2sxhzFXc2XCP",
        "outputId": "2ff5e27a-52d3-4b35-cebc-198f48f9aa1b"
      },
      "execution_count": 69,
      "outputs": [
        {
          "output_type": "stream",
          "name": "stdout",
          "text": [
            "\n",
            "Using the 'ent' visualizer\n",
            "Serving on http://0.0.0.0:5000 ...\n",
            "\n",
            "Shutting down server on port 5000.\n"
          ]
        }
      ]
    },
    {
      "cell_type": "markdown",
      "source": [
        "## 3.3 Sentence Segmentation"
      ],
      "metadata": {
        "id": "jxUpquGu2iLI"
      }
    },
    {
      "cell_type": "code",
      "source": [
        "import spacy\n",
        "from spacy.language import Language\n",
        "\n",
        "nlp = spacy.load('en_core_web_sm')\n",
        "doc = nlp(u\"This is a sentence. This is another sentence, possible longer than the other. This is the last sentence.\")"
      ],
      "metadata": {
        "id": "8fSDavu42_Rd"
      },
      "execution_count": 87,
      "outputs": []
    },
    {
      "cell_type": "code",
      "source": [
        "for sent in doc.sents:\n",
        "  print(sent)"
      ],
      "metadata": {
        "colab": {
          "base_uri": "https://localhost:8080/"
        },
        "id": "GRjRmsfpD5FG",
        "outputId": "cfbbf418-841c-4acc-952f-b2146a91dea5"
      },
      "execution_count": 73,
      "outputs": [
        {
          "output_type": "stream",
          "name": "stdout",
          "text": [
            "This is a sentence.\n",
            "This is another sentence, possible longer than the other.\n",
            "This is the last sentence.\n"
          ]
        }
      ]
    },
    {
      "cell_type": "code",
      "source": [
        "list(doc.sents)[0]"
      ],
      "metadata": {
        "colab": {
          "base_uri": "https://localhost:8080/"
        },
        "id": "I8eJPp2gEC2B",
        "outputId": "4447c9fb-760d-4e83-8dc0-ce5c8a7e552d"
      },
      "execution_count": 75,
      "outputs": [
        {
          "output_type": "execute_result",
          "data": {
            "text/plain": [
              "This is a sentence."
            ]
          },
          "metadata": {},
          "execution_count": 75
        }
      ]
    },
    {
      "cell_type": "code",
      "source": [
        "doc = nlp(u'\"Management is doing the right things; leadership is doing the right things.\" - Peter Drucker')\n",
        "doc.text"
      ],
      "metadata": {
        "colab": {
          "base_uri": "https://localhost:8080/",
          "height": 36
        },
        "id": "czTnflyzEQKX",
        "outputId": "91d12ce8-38ca-4416-a1ee-2b2d9b0ea02d"
      },
      "execution_count": 76,
      "outputs": [
        {
          "output_type": "execute_result",
          "data": {
            "text/plain": [
              "'\"Management is doing the right things; leadership is doing the right things.\" - Peter Drucker'"
            ],
            "application/vnd.google.colaboratory.intrinsic+json": {
              "type": "string"
            }
          },
          "metadata": {},
          "execution_count": 76
        }
      ]
    },
    {
      "cell_type": "code",
      "source": [
        "for sent in doc.sents:\n",
        "  print(sent)\n",
        "  print('\\n')"
      ],
      "metadata": {
        "colab": {
          "base_uri": "https://localhost:8080/"
        },
        "id": "VM7KdsVWEf5c",
        "outputId": "8d2265a9-d1c8-405f-c17d-94d53a39153a"
      },
      "execution_count": 77,
      "outputs": [
        {
          "output_type": "stream",
          "name": "stdout",
          "text": [
            "\"Management is doing the right things; leadership is doing the right things.\"\n",
            "\n",
            "\n",
            "- Peter Drucker\n",
            "\n",
            "\n"
          ]
        }
      ]
    },
    {
      "cell_type": "code",
      "source": [
        "## Add a segmentation rule\n",
        "@Language.component(\"set_custom_boundaries\")\n",
        "def set_custom_boundaries(doc):\n",
        "  for token in doc[:-1]:\n",
        "    if token.text == ';':\n",
        "      doc[token.i + 1].is_sent_start = True\n",
        "  return doc"
      ],
      "metadata": {
        "id": "icOdoMHVEnm1"
      },
      "execution_count": 91,
      "outputs": []
    },
    {
      "cell_type": "code",
      "source": [
        "nlp.add_pipe(\"set_custom_boundaries\", before = 'parser')\n",
        "nlp.pipe_names"
      ],
      "metadata": {
        "colab": {
          "base_uri": "https://localhost:8080/"
        },
        "id": "egAj3JlzE8_w",
        "outputId": "35592a7a-8da5-413c-825e-fc6461a21241"
      },
      "execution_count": 92,
      "outputs": [
        {
          "output_type": "execute_result",
          "data": {
            "text/plain": [
              "['tok2vec',\n",
              " 'tagger',\n",
              " 'component',\n",
              " 'set_custom_boundaries',\n",
              " 'parser',\n",
              " 'attribute_ruler',\n",
              " 'lemmatizer',\n",
              " 'ner']"
            ]
          },
          "metadata": {},
          "execution_count": 92
        }
      ]
    },
    {
      "cell_type": "code",
      "source": [
        "doc4 = nlp(u'\"Management is doing the right things; leadership is doing the right things.\" - Peter Drucker')"
      ],
      "metadata": {
        "id": "ip5tnzX3HTLZ"
      },
      "execution_count": 93,
      "outputs": []
    },
    {
      "cell_type": "code",
      "source": [
        "for sent in doc4.sents:\n",
        "  print(sent)"
      ],
      "metadata": {
        "colab": {
          "base_uri": "https://localhost:8080/"
        },
        "id": "HxpdEBiBHYXw",
        "outputId": "5d3e1073-987a-4fb4-dba1-ddb00ecb7072"
      },
      "execution_count": 94,
      "outputs": [
        {
          "output_type": "stream",
          "name": "stdout",
          "text": [
            "\"Management is doing the right things;\n",
            "leadership is doing the right things.\"\n",
            "- Peter Drucker\n"
          ]
        }
      ]
    },
    {
      "cell_type": "markdown",
      "source": [
        "## Part of Speech Tagging Exercises"
      ],
      "metadata": {
        "id": "pBLI7sIfVJq3"
      }
    },
    {
      "cell_type": "code",
      "source": [
        "# Here we set our working directory in our google drive to access datasets externally\n",
        "from google.colab import drive\n",
        "drive.mount('/content/drive')\n",
        "%cd /content/drive/MyDrive/ColabNotebooks/NLP"
      ],
      "metadata": {
        "colab": {
          "base_uri": "https://localhost:8080/"
        },
        "id": "vtRTUymnVnG0",
        "outputId": "c10f1b7f-f0dd-43d8-8a8b-56a14a4934ef"
      },
      "execution_count": 1,
      "outputs": [
        {
          "output_type": "stream",
          "name": "stdout",
          "text": [
            "Mounted at /content/drive\n",
            "/content/drive/MyDrive/ColabNotebooks/NLP\n"
          ]
        }
      ]
    },
    {
      "cell_type": "markdown",
      "source": [
        "For this assessment we'll be using the short story [The Tale of Peter Rabbit](https://en.wikipedia.org/wiki/The_Tale_of_Peter_Rabbit) by Beatrix Potter (1902). <br>The story is in the public domain; the text file was obtained from [Project Gutenberg](https://www.gutenberg.org/ebooks/14838.txt.utf-8)."
      ],
      "metadata": {
        "id": "zRtzovmlVn9y"
      }
    },
    {
      "cell_type": "code",
      "source": [
        "# RUN THIS CELL to perform standard imports:\n",
        "import spacy\n",
        "nlp = spacy.load('en_core_web_sm')\n",
        "from spacy import displacy"
      ],
      "metadata": {
        "id": "IK6Fzun1VrrU"
      },
      "execution_count": 157,
      "outputs": []
    },
    {
      "cell_type": "code",
      "source": [
        "with open('TEXTs/peterrabbit.txt', encoding=\"utf8\", errors='ignore') as f:\n",
        "  doc = nlp(f.read())"
      ],
      "metadata": {
        "id": "JB_VsfSuV5iV"
      },
      "execution_count": 158,
      "outputs": []
    },
    {
      "cell_type": "markdown",
      "source": [
        "**For every token in the third sentence, print the token text, the POS tag, the fine-grained TAG tag, and the description of the fine-grained tag.**"
      ],
      "metadata": {
        "id": "CZHxK92tWDXN"
      }
    },
    {
      "cell_type": "code",
      "source": [
        "for token in list(doc.sents)[2]:\n",
        "  print(f\"{token.text:{10}} {token.pos_:{10}} {token.tag_:{10}} {spacy.explain(token.tag_)}\")"
      ],
      "metadata": {
        "colab": {
          "base_uri": "https://localhost:8080/"
        },
        "id": "O9PUC9PCWJoi",
        "outputId": "211b0c26-70ce-4a94-8905-624c00a430ad"
      },
      "execution_count": 159,
      "outputs": [
        {
          "output_type": "stream",
          "name": "stdout",
          "text": [
            "They       PRON       PRP        pronoun, personal\n",
            "lived      VERB       VBD        verb, past tense\n",
            "with       ADP        IN         conjunction, subordinating or preposition\n",
            "their      PRON       PRP$       pronoun, possessive\n",
            "Mother     NOUN       NN         noun, singular or mass\n",
            "in         ADP        IN         conjunction, subordinating or preposition\n",
            "a          DET        DT         determiner\n",
            "sand       NOUN       NN         noun, singular or mass\n",
            "-          PUNCT      HYPH       punctuation mark, hyphen\n",
            "bank       NOUN       NN         noun, singular or mass\n",
            ",          PUNCT      ,          punctuation mark, comma\n",
            "underneath ADP        IN         conjunction, subordinating or preposition\n",
            "the        DET        DT         determiner\n",
            "root       NOUN       NN         noun, singular or mass\n",
            "of         ADP        IN         conjunction, subordinating or preposition\n",
            "a          DET        DT         determiner\n",
            "\n",
            "          SPACE      _SP        whitespace\n",
            "very       ADV        RB         adverb\n",
            "big        ADJ        JJ         adjective (English), other noun-modifier (Chinese)\n",
            "fir        NOUN       NN         noun, singular or mass\n",
            "-          PUNCT      HYPH       punctuation mark, hyphen\n",
            "tree       NOUN       NN         noun, singular or mass\n",
            ".          PUNCT      .          punctuation mark, sentence closer\n",
            "\n",
            "\n",
            "         SPACE      _SP        whitespace\n"
          ]
        }
      ]
    },
    {
      "cell_type": "markdown",
      "source": [
        "**Provide a frequency list of POS tags from the entire document**"
      ],
      "metadata": {
        "id": "j34Q0uzHWeuL"
      }
    },
    {
      "cell_type": "code",
      "source": [
        "POS_counts = doc.count_by(spacy.attrs.POS) # It returns number of different Part of Speech i.e. Adjective, Noun, Adverb and their count\n",
        "for k, v in sorted(POS_counts.items()):\n",
        "  print(f\"{k}.{doc.vocab[k].text:{5}} {v}\")"
      ],
      "metadata": {
        "colab": {
          "base_uri": "https://localhost:8080/"
        },
        "id": "GhPDoaO_WiX0",
        "outputId": "b2e4b1bf-2896-4522-b95a-4c3c6c8c48f5"
      },
      "execution_count": 160,
      "outputs": [
        {
          "output_type": "stream",
          "name": "stdout",
          "text": [
            "84.ADJ   53\n",
            "85.ADP   125\n",
            "86.ADV   63\n",
            "87.AUX   49\n",
            "89.CCONJ 61\n",
            "90.DET   90\n",
            "92.NOUN  172\n",
            "93.NUM   9\n",
            "94.PART  28\n",
            "95.PRON  110\n",
            "96.PROPN 74\n",
            "97.PUNCT 171\n",
            "98.SCONJ 19\n",
            "100.VERB  135\n",
            "103.SPACE 99\n"
          ]
        }
      ]
    },
    {
      "cell_type": "markdown",
      "source": [
        "**CHALLENGE: What percentage of tokens are nouns?**"
      ],
      "metadata": {
        "id": "Bnt6wpTyXDMK"
      }
    },
    {
      "cell_type": "code",
      "source": [
        "print(f\"Percentage of Nouns is {POS_counts[92]/len(doc)*100:.2f}%\")"
      ],
      "metadata": {
        "colab": {
          "base_uri": "https://localhost:8080/"
        },
        "id": "xp7IHkbwXKv2",
        "outputId": "4aa56861-c517-41bb-cbbc-f67db5bc5d65"
      },
      "execution_count": 174,
      "outputs": [
        {
          "output_type": "stream",
          "name": "stdout",
          "text": [
            "Percentage of Nouns is 13.67%\n"
          ]
        }
      ]
    },
    {
      "cell_type": "markdown",
      "source": [
        "**Display the Dependency Parse for the third sentence**"
      ],
      "metadata": {
        "id": "AZ16uyJ1ZvKw"
      }
    },
    {
      "cell_type": "code",
      "source": [
        "from spacy import displacy\n",
        "\n",
        "displacy.render(list(doc.sents)[2], style = 'dep', jupyter = True)"
      ],
      "metadata": {
        "colab": {
          "base_uri": "https://localhost:8080/",
          "height": 616
        },
        "id": "2l-AZoXXZxyl",
        "outputId": "e998d3a5-8c17-4a38-80f6-8a09c84a4bf2"
      },
      "execution_count": 187,
      "outputs": [
        {
          "output_type": "display_data",
          "data": {
            "text/plain": [
              "<IPython.core.display.HTML object>"
            ],
            "text/html": [
              "<span class=\"tex2jax_ignore\"><svg xmlns=\"http://www.w3.org/2000/svg\" xmlns:xlink=\"http://www.w3.org/1999/xlink\" xml:lang=\"en\" id=\"aa7ed8e0ad094ea5a825232fc019a7c6-0\" class=\"displacy\" width=\"3550\" height=\"574.5\" direction=\"ltr\" style=\"max-width: none; height: 574.5px; color: #000000; background: #ffffff; font-family: Arial; direction: ltr\">\n",
              "<text class=\"displacy-token\" fill=\"currentColor\" text-anchor=\"middle\" y=\"484.5\">\n",
              "    <tspan class=\"displacy-word\" fill=\"currentColor\" x=\"50\">They</tspan>\n",
              "    <tspan class=\"displacy-tag\" dy=\"2em\" fill=\"currentColor\" x=\"50\">PRON</tspan>\n",
              "</text>\n",
              "\n",
              "<text class=\"displacy-token\" fill=\"currentColor\" text-anchor=\"middle\" y=\"484.5\">\n",
              "    <tspan class=\"displacy-word\" fill=\"currentColor\" x=\"225\">lived</tspan>\n",
              "    <tspan class=\"displacy-tag\" dy=\"2em\" fill=\"currentColor\" x=\"225\">VERB</tspan>\n",
              "</text>\n",
              "\n",
              "<text class=\"displacy-token\" fill=\"currentColor\" text-anchor=\"middle\" y=\"484.5\">\n",
              "    <tspan class=\"displacy-word\" fill=\"currentColor\" x=\"400\">with</tspan>\n",
              "    <tspan class=\"displacy-tag\" dy=\"2em\" fill=\"currentColor\" x=\"400\">ADP</tspan>\n",
              "</text>\n",
              "\n",
              "<text class=\"displacy-token\" fill=\"currentColor\" text-anchor=\"middle\" y=\"484.5\">\n",
              "    <tspan class=\"displacy-word\" fill=\"currentColor\" x=\"575\">their</tspan>\n",
              "    <tspan class=\"displacy-tag\" dy=\"2em\" fill=\"currentColor\" x=\"575\">PRON</tspan>\n",
              "</text>\n",
              "\n",
              "<text class=\"displacy-token\" fill=\"currentColor\" text-anchor=\"middle\" y=\"484.5\">\n",
              "    <tspan class=\"displacy-word\" fill=\"currentColor\" x=\"750\">Mother</tspan>\n",
              "    <tspan class=\"displacy-tag\" dy=\"2em\" fill=\"currentColor\" x=\"750\">NOUN</tspan>\n",
              "</text>\n",
              "\n",
              "<text class=\"displacy-token\" fill=\"currentColor\" text-anchor=\"middle\" y=\"484.5\">\n",
              "    <tspan class=\"displacy-word\" fill=\"currentColor\" x=\"925\">in</tspan>\n",
              "    <tspan class=\"displacy-tag\" dy=\"2em\" fill=\"currentColor\" x=\"925\">ADP</tspan>\n",
              "</text>\n",
              "\n",
              "<text class=\"displacy-token\" fill=\"currentColor\" text-anchor=\"middle\" y=\"484.5\">\n",
              "    <tspan class=\"displacy-word\" fill=\"currentColor\" x=\"1100\">a</tspan>\n",
              "    <tspan class=\"displacy-tag\" dy=\"2em\" fill=\"currentColor\" x=\"1100\">DET</tspan>\n",
              "</text>\n",
              "\n",
              "<text class=\"displacy-token\" fill=\"currentColor\" text-anchor=\"middle\" y=\"484.5\">\n",
              "    <tspan class=\"displacy-word\" fill=\"currentColor\" x=\"1275\">sand-</tspan>\n",
              "    <tspan class=\"displacy-tag\" dy=\"2em\" fill=\"currentColor\" x=\"1275\">NOUN</tspan>\n",
              "</text>\n",
              "\n",
              "<text class=\"displacy-token\" fill=\"currentColor\" text-anchor=\"middle\" y=\"484.5\">\n",
              "    <tspan class=\"displacy-word\" fill=\"currentColor\" x=\"1450\">bank,</tspan>\n",
              "    <tspan class=\"displacy-tag\" dy=\"2em\" fill=\"currentColor\" x=\"1450\">NOUN</tspan>\n",
              "</text>\n",
              "\n",
              "<text class=\"displacy-token\" fill=\"currentColor\" text-anchor=\"middle\" y=\"484.5\">\n",
              "    <tspan class=\"displacy-word\" fill=\"currentColor\" x=\"1625\">underneath</tspan>\n",
              "    <tspan class=\"displacy-tag\" dy=\"2em\" fill=\"currentColor\" x=\"1625\">ADP</tspan>\n",
              "</text>\n",
              "\n",
              "<text class=\"displacy-token\" fill=\"currentColor\" text-anchor=\"middle\" y=\"484.5\">\n",
              "    <tspan class=\"displacy-word\" fill=\"currentColor\" x=\"1800\">the</tspan>\n",
              "    <tspan class=\"displacy-tag\" dy=\"2em\" fill=\"currentColor\" x=\"1800\">DET</tspan>\n",
              "</text>\n",
              "\n",
              "<text class=\"displacy-token\" fill=\"currentColor\" text-anchor=\"middle\" y=\"484.5\">\n",
              "    <tspan class=\"displacy-word\" fill=\"currentColor\" x=\"1975\">root</tspan>\n",
              "    <tspan class=\"displacy-tag\" dy=\"2em\" fill=\"currentColor\" x=\"1975\">NOUN</tspan>\n",
              "</text>\n",
              "\n",
              "<text class=\"displacy-token\" fill=\"currentColor\" text-anchor=\"middle\" y=\"484.5\">\n",
              "    <tspan class=\"displacy-word\" fill=\"currentColor\" x=\"2150\">of</tspan>\n",
              "    <tspan class=\"displacy-tag\" dy=\"2em\" fill=\"currentColor\" x=\"2150\">ADP</tspan>\n",
              "</text>\n",
              "\n",
              "<text class=\"displacy-token\" fill=\"currentColor\" text-anchor=\"middle\" y=\"484.5\">\n",
              "    <tspan class=\"displacy-word\" fill=\"currentColor\" x=\"2325\">a</tspan>\n",
              "    <tspan class=\"displacy-tag\" dy=\"2em\" fill=\"currentColor\" x=\"2325\">DET</tspan>\n",
              "</text>\n",
              "\n",
              "<text class=\"displacy-token\" fill=\"currentColor\" text-anchor=\"middle\" y=\"484.5\">\n",
              "    <tspan class=\"displacy-word\" fill=\"currentColor\" x=\"2500\">\n",
              "</tspan>\n",
              "    <tspan class=\"displacy-tag\" dy=\"2em\" fill=\"currentColor\" x=\"2500\">SPACE</tspan>\n",
              "</text>\n",
              "\n",
              "<text class=\"displacy-token\" fill=\"currentColor\" text-anchor=\"middle\" y=\"484.5\">\n",
              "    <tspan class=\"displacy-word\" fill=\"currentColor\" x=\"2675\">very</tspan>\n",
              "    <tspan class=\"displacy-tag\" dy=\"2em\" fill=\"currentColor\" x=\"2675\">ADV</tspan>\n",
              "</text>\n",
              "\n",
              "<text class=\"displacy-token\" fill=\"currentColor\" text-anchor=\"middle\" y=\"484.5\">\n",
              "    <tspan class=\"displacy-word\" fill=\"currentColor\" x=\"2850\">big</tspan>\n",
              "    <tspan class=\"displacy-tag\" dy=\"2em\" fill=\"currentColor\" x=\"2850\">ADJ</tspan>\n",
              "</text>\n",
              "\n",
              "<text class=\"displacy-token\" fill=\"currentColor\" text-anchor=\"middle\" y=\"484.5\">\n",
              "    <tspan class=\"displacy-word\" fill=\"currentColor\" x=\"3025\">fir-</tspan>\n",
              "    <tspan class=\"displacy-tag\" dy=\"2em\" fill=\"currentColor\" x=\"3025\">NOUN</tspan>\n",
              "</text>\n",
              "\n",
              "<text class=\"displacy-token\" fill=\"currentColor\" text-anchor=\"middle\" y=\"484.5\">\n",
              "    <tspan class=\"displacy-word\" fill=\"currentColor\" x=\"3200\">tree.</tspan>\n",
              "    <tspan class=\"displacy-tag\" dy=\"2em\" fill=\"currentColor\" x=\"3200\">PUNCT</tspan>\n",
              "</text>\n",
              "\n",
              "<text class=\"displacy-token\" fill=\"currentColor\" text-anchor=\"middle\" y=\"484.5\">\n",
              "    <tspan class=\"displacy-word\" fill=\"currentColor\" x=\"3375\">\n",
              "\n",
              "</tspan>\n",
              "    <tspan class=\"displacy-tag\" dy=\"2em\" fill=\"currentColor\" x=\"3375\">SPACE</tspan>\n",
              "</text>\n",
              "\n",
              "<g class=\"displacy-arrow\">\n",
              "    <path class=\"displacy-arc\" id=\"arrow-aa7ed8e0ad094ea5a825232fc019a7c6-0-0\" stroke-width=\"2px\" d=\"M70,439.5 C70,352.0 205.0,352.0 205.0,439.5\" fill=\"none\" stroke=\"currentColor\"/>\n",
              "    <text dy=\"1.25em\" style=\"font-size: 0.8em; letter-spacing: 1px\">\n",
              "        <textPath xlink:href=\"#arrow-aa7ed8e0ad094ea5a825232fc019a7c6-0-0\" class=\"displacy-label\" startOffset=\"50%\" side=\"left\" fill=\"currentColor\" text-anchor=\"middle\">nsubj</textPath>\n",
              "    </text>\n",
              "    <path class=\"displacy-arrowhead\" d=\"M70,441.5 L62,429.5 78,429.5\" fill=\"currentColor\"/>\n",
              "</g>\n",
              "\n",
              "<g class=\"displacy-arrow\">\n",
              "    <path class=\"displacy-arc\" id=\"arrow-aa7ed8e0ad094ea5a825232fc019a7c6-0-1\" stroke-width=\"2px\" d=\"M245,439.5 C245,352.0 380.0,352.0 380.0,439.5\" fill=\"none\" stroke=\"currentColor\"/>\n",
              "    <text dy=\"1.25em\" style=\"font-size: 0.8em; letter-spacing: 1px\">\n",
              "        <textPath xlink:href=\"#arrow-aa7ed8e0ad094ea5a825232fc019a7c6-0-1\" class=\"displacy-label\" startOffset=\"50%\" side=\"left\" fill=\"currentColor\" text-anchor=\"middle\">prep</textPath>\n",
              "    </text>\n",
              "    <path class=\"displacy-arrowhead\" d=\"M380.0,441.5 L388.0,429.5 372.0,429.5\" fill=\"currentColor\"/>\n",
              "</g>\n",
              "\n",
              "<g class=\"displacy-arrow\">\n",
              "    <path class=\"displacy-arc\" id=\"arrow-aa7ed8e0ad094ea5a825232fc019a7c6-0-2\" stroke-width=\"2px\" d=\"M595,439.5 C595,352.0 730.0,352.0 730.0,439.5\" fill=\"none\" stroke=\"currentColor\"/>\n",
              "    <text dy=\"1.25em\" style=\"font-size: 0.8em; letter-spacing: 1px\">\n",
              "        <textPath xlink:href=\"#arrow-aa7ed8e0ad094ea5a825232fc019a7c6-0-2\" class=\"displacy-label\" startOffset=\"50%\" side=\"left\" fill=\"currentColor\" text-anchor=\"middle\">poss</textPath>\n",
              "    </text>\n",
              "    <path class=\"displacy-arrowhead\" d=\"M595,441.5 L587,429.5 603,429.5\" fill=\"currentColor\"/>\n",
              "</g>\n",
              "\n",
              "<g class=\"displacy-arrow\">\n",
              "    <path class=\"displacy-arc\" id=\"arrow-aa7ed8e0ad094ea5a825232fc019a7c6-0-3\" stroke-width=\"2px\" d=\"M420,439.5 C420,264.5 735.0,264.5 735.0,439.5\" fill=\"none\" stroke=\"currentColor\"/>\n",
              "    <text dy=\"1.25em\" style=\"font-size: 0.8em; letter-spacing: 1px\">\n",
              "        <textPath xlink:href=\"#arrow-aa7ed8e0ad094ea5a825232fc019a7c6-0-3\" class=\"displacy-label\" startOffset=\"50%\" side=\"left\" fill=\"currentColor\" text-anchor=\"middle\">pobj</textPath>\n",
              "    </text>\n",
              "    <path class=\"displacy-arrowhead\" d=\"M735.0,441.5 L743.0,429.5 727.0,429.5\" fill=\"currentColor\"/>\n",
              "</g>\n",
              "\n",
              "<g class=\"displacy-arrow\">\n",
              "    <path class=\"displacy-arc\" id=\"arrow-aa7ed8e0ad094ea5a825232fc019a7c6-0-4\" stroke-width=\"2px\" d=\"M245,439.5 C245,177.0 915.0,177.0 915.0,439.5\" fill=\"none\" stroke=\"currentColor\"/>\n",
              "    <text dy=\"1.25em\" style=\"font-size: 0.8em; letter-spacing: 1px\">\n",
              "        <textPath xlink:href=\"#arrow-aa7ed8e0ad094ea5a825232fc019a7c6-0-4\" class=\"displacy-label\" startOffset=\"50%\" side=\"left\" fill=\"currentColor\" text-anchor=\"middle\">prep</textPath>\n",
              "    </text>\n",
              "    <path class=\"displacy-arrowhead\" d=\"M915.0,441.5 L923.0,429.5 907.0,429.5\" fill=\"currentColor\"/>\n",
              "</g>\n",
              "\n",
              "<g class=\"displacy-arrow\">\n",
              "    <path class=\"displacy-arc\" id=\"arrow-aa7ed8e0ad094ea5a825232fc019a7c6-0-5\" stroke-width=\"2px\" d=\"M1120,439.5 C1120,264.5 1435.0,264.5 1435.0,439.5\" fill=\"none\" stroke=\"currentColor\"/>\n",
              "    <text dy=\"1.25em\" style=\"font-size: 0.8em; letter-spacing: 1px\">\n",
              "        <textPath xlink:href=\"#arrow-aa7ed8e0ad094ea5a825232fc019a7c6-0-5\" class=\"displacy-label\" startOffset=\"50%\" side=\"left\" fill=\"currentColor\" text-anchor=\"middle\">det</textPath>\n",
              "    </text>\n",
              "    <path class=\"displacy-arrowhead\" d=\"M1120,441.5 L1112,429.5 1128,429.5\" fill=\"currentColor\"/>\n",
              "</g>\n",
              "\n",
              "<g class=\"displacy-arrow\">\n",
              "    <path class=\"displacy-arc\" id=\"arrow-aa7ed8e0ad094ea5a825232fc019a7c6-0-6\" stroke-width=\"2px\" d=\"M1295,439.5 C1295,352.0 1430.0,352.0 1430.0,439.5\" fill=\"none\" stroke=\"currentColor\"/>\n",
              "    <text dy=\"1.25em\" style=\"font-size: 0.8em; letter-spacing: 1px\">\n",
              "        <textPath xlink:href=\"#arrow-aa7ed8e0ad094ea5a825232fc019a7c6-0-6\" class=\"displacy-label\" startOffset=\"50%\" side=\"left\" fill=\"currentColor\" text-anchor=\"middle\">compound</textPath>\n",
              "    </text>\n",
              "    <path class=\"displacy-arrowhead\" d=\"M1295,441.5 L1287,429.5 1303,429.5\" fill=\"currentColor\"/>\n",
              "</g>\n",
              "\n",
              "<g class=\"displacy-arrow\">\n",
              "    <path class=\"displacy-arc\" id=\"arrow-aa7ed8e0ad094ea5a825232fc019a7c6-0-7\" stroke-width=\"2px\" d=\"M945,439.5 C945,177.0 1440.0,177.0 1440.0,439.5\" fill=\"none\" stroke=\"currentColor\"/>\n",
              "    <text dy=\"1.25em\" style=\"font-size: 0.8em; letter-spacing: 1px\">\n",
              "        <textPath xlink:href=\"#arrow-aa7ed8e0ad094ea5a825232fc019a7c6-0-7\" class=\"displacy-label\" startOffset=\"50%\" side=\"left\" fill=\"currentColor\" text-anchor=\"middle\">pobj</textPath>\n",
              "    </text>\n",
              "    <path class=\"displacy-arrowhead\" d=\"M1440.0,441.5 L1448.0,429.5 1432.0,429.5\" fill=\"currentColor\"/>\n",
              "</g>\n",
              "\n",
              "<g class=\"displacy-arrow\">\n",
              "    <path class=\"displacy-arc\" id=\"arrow-aa7ed8e0ad094ea5a825232fc019a7c6-0-8\" stroke-width=\"2px\" d=\"M245,439.5 C245,89.5 1620.0,89.5 1620.0,439.5\" fill=\"none\" stroke=\"currentColor\"/>\n",
              "    <text dy=\"1.25em\" style=\"font-size: 0.8em; letter-spacing: 1px\">\n",
              "        <textPath xlink:href=\"#arrow-aa7ed8e0ad094ea5a825232fc019a7c6-0-8\" class=\"displacy-label\" startOffset=\"50%\" side=\"left\" fill=\"currentColor\" text-anchor=\"middle\">prep</textPath>\n",
              "    </text>\n",
              "    <path class=\"displacy-arrowhead\" d=\"M1620.0,441.5 L1628.0,429.5 1612.0,429.5\" fill=\"currentColor\"/>\n",
              "</g>\n",
              "\n",
              "<g class=\"displacy-arrow\">\n",
              "    <path class=\"displacy-arc\" id=\"arrow-aa7ed8e0ad094ea5a825232fc019a7c6-0-9\" stroke-width=\"2px\" d=\"M1820,439.5 C1820,352.0 1955.0,352.0 1955.0,439.5\" fill=\"none\" stroke=\"currentColor\"/>\n",
              "    <text dy=\"1.25em\" style=\"font-size: 0.8em; letter-spacing: 1px\">\n",
              "        <textPath xlink:href=\"#arrow-aa7ed8e0ad094ea5a825232fc019a7c6-0-9\" class=\"displacy-label\" startOffset=\"50%\" side=\"left\" fill=\"currentColor\" text-anchor=\"middle\">det</textPath>\n",
              "    </text>\n",
              "    <path class=\"displacy-arrowhead\" d=\"M1820,441.5 L1812,429.5 1828,429.5\" fill=\"currentColor\"/>\n",
              "</g>\n",
              "\n",
              "<g class=\"displacy-arrow\">\n",
              "    <path class=\"displacy-arc\" id=\"arrow-aa7ed8e0ad094ea5a825232fc019a7c6-0-10\" stroke-width=\"2px\" d=\"M1645,439.5 C1645,264.5 1960.0,264.5 1960.0,439.5\" fill=\"none\" stroke=\"currentColor\"/>\n",
              "    <text dy=\"1.25em\" style=\"font-size: 0.8em; letter-spacing: 1px\">\n",
              "        <textPath xlink:href=\"#arrow-aa7ed8e0ad094ea5a825232fc019a7c6-0-10\" class=\"displacy-label\" startOffset=\"50%\" side=\"left\" fill=\"currentColor\" text-anchor=\"middle\">pobj</textPath>\n",
              "    </text>\n",
              "    <path class=\"displacy-arrowhead\" d=\"M1960.0,441.5 L1968.0,429.5 1952.0,429.5\" fill=\"currentColor\"/>\n",
              "</g>\n",
              "\n",
              "<g class=\"displacy-arrow\">\n",
              "    <path class=\"displacy-arc\" id=\"arrow-aa7ed8e0ad094ea5a825232fc019a7c6-0-11\" stroke-width=\"2px\" d=\"M1995,439.5 C1995,352.0 2130.0,352.0 2130.0,439.5\" fill=\"none\" stroke=\"currentColor\"/>\n",
              "    <text dy=\"1.25em\" style=\"font-size: 0.8em; letter-spacing: 1px\">\n",
              "        <textPath xlink:href=\"#arrow-aa7ed8e0ad094ea5a825232fc019a7c6-0-11\" class=\"displacy-label\" startOffset=\"50%\" side=\"left\" fill=\"currentColor\" text-anchor=\"middle\">prep</textPath>\n",
              "    </text>\n",
              "    <path class=\"displacy-arrowhead\" d=\"M2130.0,441.5 L2138.0,429.5 2122.0,429.5\" fill=\"currentColor\"/>\n",
              "</g>\n",
              "\n",
              "<g class=\"displacy-arrow\">\n",
              "    <path class=\"displacy-arc\" id=\"arrow-aa7ed8e0ad094ea5a825232fc019a7c6-0-12\" stroke-width=\"2px\" d=\"M2345,439.5 C2345,177.0 3190.0,177.0 3190.0,439.5\" fill=\"none\" stroke=\"currentColor\"/>\n",
              "    <text dy=\"1.25em\" style=\"font-size: 0.8em; letter-spacing: 1px\">\n",
              "        <textPath xlink:href=\"#arrow-aa7ed8e0ad094ea5a825232fc019a7c6-0-12\" class=\"displacy-label\" startOffset=\"50%\" side=\"left\" fill=\"currentColor\" text-anchor=\"middle\">det</textPath>\n",
              "    </text>\n",
              "    <path class=\"displacy-arrowhead\" d=\"M2345,441.5 L2337,429.5 2353,429.5\" fill=\"currentColor\"/>\n",
              "</g>\n",
              "\n",
              "<g class=\"displacy-arrow\">\n",
              "    <path class=\"displacy-arc\" id=\"arrow-aa7ed8e0ad094ea5a825232fc019a7c6-0-13\" stroke-width=\"2px\" d=\"M2345,439.5 C2345,352.0 2480.0,352.0 2480.0,439.5\" fill=\"none\" stroke=\"currentColor\"/>\n",
              "    <text dy=\"1.25em\" style=\"font-size: 0.8em; letter-spacing: 1px\">\n",
              "        <textPath xlink:href=\"#arrow-aa7ed8e0ad094ea5a825232fc019a7c6-0-13\" class=\"displacy-label\" startOffset=\"50%\" side=\"left\" fill=\"currentColor\" text-anchor=\"middle\">dep</textPath>\n",
              "    </text>\n",
              "    <path class=\"displacy-arrowhead\" d=\"M2480.0,441.5 L2488.0,429.5 2472.0,429.5\" fill=\"currentColor\"/>\n",
              "</g>\n",
              "\n",
              "<g class=\"displacy-arrow\">\n",
              "    <path class=\"displacy-arc\" id=\"arrow-aa7ed8e0ad094ea5a825232fc019a7c6-0-14\" stroke-width=\"2px\" d=\"M2695,439.5 C2695,352.0 2830.0,352.0 2830.0,439.5\" fill=\"none\" stroke=\"currentColor\"/>\n",
              "    <text dy=\"1.25em\" style=\"font-size: 0.8em; letter-spacing: 1px\">\n",
              "        <textPath xlink:href=\"#arrow-aa7ed8e0ad094ea5a825232fc019a7c6-0-14\" class=\"displacy-label\" startOffset=\"50%\" side=\"left\" fill=\"currentColor\" text-anchor=\"middle\">advmod</textPath>\n",
              "    </text>\n",
              "    <path class=\"displacy-arrowhead\" d=\"M2695,441.5 L2687,429.5 2703,429.5\" fill=\"currentColor\"/>\n",
              "</g>\n",
              "\n",
              "<g class=\"displacy-arrow\">\n",
              "    <path class=\"displacy-arc\" id=\"arrow-aa7ed8e0ad094ea5a825232fc019a7c6-0-15\" stroke-width=\"2px\" d=\"M2870,439.5 C2870,264.5 3185.0,264.5 3185.0,439.5\" fill=\"none\" stroke=\"currentColor\"/>\n",
              "    <text dy=\"1.25em\" style=\"font-size: 0.8em; letter-spacing: 1px\">\n",
              "        <textPath xlink:href=\"#arrow-aa7ed8e0ad094ea5a825232fc019a7c6-0-15\" class=\"displacy-label\" startOffset=\"50%\" side=\"left\" fill=\"currentColor\" text-anchor=\"middle\">amod</textPath>\n",
              "    </text>\n",
              "    <path class=\"displacy-arrowhead\" d=\"M2870,441.5 L2862,429.5 2878,429.5\" fill=\"currentColor\"/>\n",
              "</g>\n",
              "\n",
              "<g class=\"displacy-arrow\">\n",
              "    <path class=\"displacy-arc\" id=\"arrow-aa7ed8e0ad094ea5a825232fc019a7c6-0-16\" stroke-width=\"2px\" d=\"M3045,439.5 C3045,352.0 3180.0,352.0 3180.0,439.5\" fill=\"none\" stroke=\"currentColor\"/>\n",
              "    <text dy=\"1.25em\" style=\"font-size: 0.8em; letter-spacing: 1px\">\n",
              "        <textPath xlink:href=\"#arrow-aa7ed8e0ad094ea5a825232fc019a7c6-0-16\" class=\"displacy-label\" startOffset=\"50%\" side=\"left\" fill=\"currentColor\" text-anchor=\"middle\">compound</textPath>\n",
              "    </text>\n",
              "    <path class=\"displacy-arrowhead\" d=\"M3045,441.5 L3037,429.5 3053,429.5\" fill=\"currentColor\"/>\n",
              "</g>\n",
              "\n",
              "<g class=\"displacy-arrow\">\n",
              "    <path class=\"displacy-arc\" id=\"arrow-aa7ed8e0ad094ea5a825232fc019a7c6-0-17\" stroke-width=\"2px\" d=\"M245,439.5 C245,2.0 3200.0,2.0 3200.0,439.5\" fill=\"none\" stroke=\"currentColor\"/>\n",
              "    <text dy=\"1.25em\" style=\"font-size: 0.8em; letter-spacing: 1px\">\n",
              "        <textPath xlink:href=\"#arrow-aa7ed8e0ad094ea5a825232fc019a7c6-0-17\" class=\"displacy-label\" startOffset=\"50%\" side=\"left\" fill=\"currentColor\" text-anchor=\"middle\">punct</textPath>\n",
              "    </text>\n",
              "    <path class=\"displacy-arrowhead\" d=\"M3200.0,441.5 L3208.0,429.5 3192.0,429.5\" fill=\"currentColor\"/>\n",
              "</g>\n",
              "\n",
              "<g class=\"displacy-arrow\">\n",
              "    <path class=\"displacy-arc\" id=\"arrow-aa7ed8e0ad094ea5a825232fc019a7c6-0-18\" stroke-width=\"2px\" d=\"M3220,439.5 C3220,352.0 3355.0,352.0 3355.0,439.5\" fill=\"none\" stroke=\"currentColor\"/>\n",
              "    <text dy=\"1.25em\" style=\"font-size: 0.8em; letter-spacing: 1px\">\n",
              "        <textPath xlink:href=\"#arrow-aa7ed8e0ad094ea5a825232fc019a7c6-0-18\" class=\"displacy-label\" startOffset=\"50%\" side=\"left\" fill=\"currentColor\" text-anchor=\"middle\">dep</textPath>\n",
              "    </text>\n",
              "    <path class=\"displacy-arrowhead\" d=\"M3355.0,441.5 L3363.0,429.5 3347.0,429.5\" fill=\"currentColor\"/>\n",
              "</g>\n",
              "</svg></span>"
            ]
          },
          "metadata": {}
        }
      ]
    },
    {
      "cell_type": "markdown",
      "source": [
        "**Show the first two named entities from Beatrix Potter's The Tale of Peter Rabbit**"
      ],
      "metadata": {
        "id": "8SEZ71qdaFZu"
      }
    },
    {
      "cell_type": "code",
      "source": [
        "def show_ents(doc):\n",
        "  if doc.ents:\n",
        "    for ent in doc.ents[0:2]:\n",
        "      print(ent.text + '-' +ent.label_ + '-' +str(spacy.explain(ent.label_)))\n",
        "  else:\n",
        "    print('No entities found')"
      ],
      "metadata": {
        "id": "mj7RCm5saopQ"
      },
      "execution_count": 179,
      "outputs": []
    },
    {
      "cell_type": "code",
      "source": [
        "show_ents(doc)"
      ],
      "metadata": {
        "colab": {
          "base_uri": "https://localhost:8080/"
        },
        "id": "kNXwlWsRa0hi",
        "outputId": "cdeb63cf-d5ff-48e9-c3db-93ab76ba4c49"
      },
      "execution_count": 180,
      "outputs": [
        {
          "output_type": "stream",
          "name": "stdout",
          "text": [
            "The Tale of Peter Rabbit-WORK_OF_ART-Titles of books, songs, etc.\n",
            "Beatrix Potter-PERSON-People, including fictional\n"
          ]
        }
      ]
    },
    {
      "cell_type": "markdown",
      "source": [
        "**How many sentences are contained in *The Tale of Peter Rabbit*?**"
      ],
      "metadata": {
        "id": "ZO3_Go7sa8xz"
      }
    },
    {
      "cell_type": "code",
      "source": [
        "# Tells the number of sentences\n",
        "print(f\"Actual number of sentences: {len(list(doc.sents))}\")"
      ],
      "metadata": {
        "colab": {
          "base_uri": "https://localhost:8080/"
        },
        "id": "dHMafiSWa-Sk",
        "outputId": "7b64322e-4a0e-4408-f1da-dbd0988a64a8"
      },
      "execution_count": 181,
      "outputs": [
        {
          "output_type": "stream",
          "name": "stdout",
          "text": [
            "Actual number of sentences: 55\n"
          ]
        }
      ]
    },
    {
      "cell_type": "markdown",
      "source": [
        "**CHALLENGE: How many sentences contain named entities?**"
      ],
      "metadata": {
        "id": "lfHH3TdpbLZU"
      }
    },
    {
      "cell_type": "code",
      "source": [
        "def count_sentence_with_ents(doc):\n",
        "  count = 0\n",
        "  for sent in doc.sents:\n",
        "    if sent.ents:\n",
        "      count +=1\n",
        "  return count"
      ],
      "metadata": {
        "id": "iW_EnHfSbHYO"
      },
      "execution_count": 182,
      "outputs": []
    },
    {
      "cell_type": "code",
      "source": [
        "#list_of_sents = [nlp(sent.text) for sent in doc.sents]\n",
        "#list_of_ners =  [doc for doc in list_of_sents if doc.ents]\n",
        "\n",
        "print(f\"number of sentences with named entites is {count_sentence_with_ents(doc)}\")"
      ],
      "metadata": {
        "colab": {
          "base_uri": "https://localhost:8080/"
        },
        "id": "qgxT4oY1b1-p",
        "outputId": "1b6d9178-a0ad-43e7-d58b-3cd4991973e7"
      },
      "execution_count": 213,
      "outputs": [
        {
          "output_type": "stream",
          "name": "stdout",
          "text": [
            "36\n",
            "number of sentences with named entites is 35\n"
          ]
        }
      ]
    },
    {
      "cell_type": "markdown",
      "source": [
        "**CHALLENGE: Display the named entity visualization for `list_of_sents[0]` from the previous problem**"
      ],
      "metadata": {
        "id": "A7wYhj72cTsf"
      }
    },
    {
      "cell_type": "code",
      "source": [
        "from spacy import displacy\n",
        "\n",
        "displacy.render(nlp(list(doc.sents)[0].text), style = 'ent', jupyter = True)"
      ],
      "metadata": {
        "colab": {
          "base_uri": "https://localhost:8080/",
          "height": 87
        },
        "id": "cAJwXQlccbhQ",
        "outputId": "cdc64cd6-ef6f-4362-d5e5-2720e19c9430"
      },
      "execution_count": 211,
      "outputs": [
        {
          "output_type": "display_data",
          "data": {
            "text/plain": [
              "<IPython.core.display.HTML object>"
            ],
            "text/html": [
              "<span class=\"tex2jax_ignore\"><div class=\"entities\" style=\"line-height: 2.5; direction: ltr\">\n",
              "<mark class=\"entity\" style=\"background: #f0d0ff; padding: 0.45em 0.6em; margin: 0 0.25em; line-height: 1; border-radius: 0.35em;\">\n",
              "    The Tale of Peter Rabbit\n",
              "    <span style=\"font-size: 0.8em; font-weight: bold; line-height: 1; border-radius: 0.35em; vertical-align: middle; margin-left: 0.5rem\">WORK_OF_ART</span>\n",
              "</mark>\n",
              ", by \n",
              "<mark class=\"entity\" style=\"background: #aa9cfc; padding: 0.45em 0.6em; margin: 0 0.25em; line-height: 1; border-radius: 0.35em;\">\n",
              "    Beatrix Potter\n",
              "    <span style=\"font-size: 0.8em; font-weight: bold; line-height: 1; border-radius: 0.35em; vertical-align: middle; margin-left: 0.5rem\">PERSON</span>\n",
              "</mark>\n",
              " (\n",
              "<mark class=\"entity\" style=\"background: #bfe1d9; padding: 0.45em 0.6em; margin: 0 0.25em; line-height: 1; border-radius: 0.35em;\">\n",
              "    1902\n",
              "    <span style=\"font-size: 0.8em; font-weight: bold; line-height: 1; border-radius: 0.35em; vertical-align: middle; margin-left: 0.5rem\">DATE</span>\n",
              "</mark>\n",
              ").<br><br></div></span>"
            ]
          },
          "metadata": {}
        }
      ]
    },
    {
      "cell_type": "markdown",
      "source": [
        "#4 Text Classification\n",
        "\n",
        "We need to perform a feature extraction from the raw text in order to pass numerical features to the machine learning algorithm.\n",
        "\n",
        "*   **Term frequency tf(t,d)**: the raw count of a term in a document, the number of times in a document, the number of times that term t occurs in document d.\n",
        "*   **Inverse Document Frequency**: the factor which diminishes the weight of terms that occur very frequently in the document set and increases the weight of terms that occur rarely. The logarithmically scaled inverse fraction of the documents that contain the word\n",
        "\n",
        "\\begin{equation}\n",
        "\\text{tfidf}(t,d,D) = \\text{tf}(t,d) \\times \\text{idf}(t,D)\n",
        "\\end{equation}\n",
        "\n",
        "\\begin{equation}\n",
        "\\text{idf}(t,d,D) = \\log \\frac{N}{\\left | \\left \\{ d \\in D : t \\in d \\right \\} \\right |}\n",
        "\\end{equation}"
      ],
      "metadata": {
        "id": "MIp-8QxJW98u"
      }
    },
    {
      "cell_type": "markdown",
      "source": [
        "##4.1 Text Feature Extraction"
      ],
      "metadata": {
        "id": "6V6PDZatRg3P"
      }
    },
    {
      "cell_type": "code",
      "source": [
        "# Here we set our working directory in our google drive to access datasets externally\n",
        "from google.colab import drive\n",
        "drive.mount('/content/drive')\n",
        "%cd /content/drive/MyDrive/ColabNotebooks/NLP"
      ],
      "metadata": {
        "id": "N1oWG3QLcCut"
      },
      "execution_count": null,
      "outputs": []
    },
    {
      "cell_type": "code",
      "source": [
        "import numpy as np\n",
        "import pandas as pd\n",
        "\n",
        "df = pd.read_csv('TEXTs/smsspamcollection.tsv', sep = '\\t')\n",
        "df.head()"
      ],
      "metadata": {
        "colab": {
          "base_uri": "https://localhost:8080/",
          "height": 206
        },
        "id": "v90tFrrzORQ1",
        "outputId": "9ebf2fcb-ce83-4b8b-8d04-a21a08994118"
      },
      "execution_count": 3,
      "outputs": [
        {
          "output_type": "execute_result",
          "data": {
            "text/plain": [
              "  label                                            message  length  punct\n",
              "0   ham  Go until jurong point, crazy.. Available only ...     111      9\n",
              "1   ham                      Ok lar... Joking wif u oni...      29      6\n",
              "2  spam  Free entry in 2 a wkly comp to win FA Cup fina...     155      6\n",
              "3   ham  U dun say so early hor... U c already then say...      49      6\n",
              "4   ham  Nah I don't think he goes to usf, he lives aro...      61      2"
            ],
            "text/html": [
              "\n",
              "  <div id=\"df-2f985259-6cb3-4a08-a1e7-deaa301356f2\" class=\"colab-df-container\">\n",
              "    <div>\n",
              "<style scoped>\n",
              "    .dataframe tbody tr th:only-of-type {\n",
              "        vertical-align: middle;\n",
              "    }\n",
              "\n",
              "    .dataframe tbody tr th {\n",
              "        vertical-align: top;\n",
              "    }\n",
              "\n",
              "    .dataframe thead th {\n",
              "        text-align: right;\n",
              "    }\n",
              "</style>\n",
              "<table border=\"1\" class=\"dataframe\">\n",
              "  <thead>\n",
              "    <tr style=\"text-align: right;\">\n",
              "      <th></th>\n",
              "      <th>label</th>\n",
              "      <th>message</th>\n",
              "      <th>length</th>\n",
              "      <th>punct</th>\n",
              "    </tr>\n",
              "  </thead>\n",
              "  <tbody>\n",
              "    <tr>\n",
              "      <th>0</th>\n",
              "      <td>ham</td>\n",
              "      <td>Go until jurong point, crazy.. Available only ...</td>\n",
              "      <td>111</td>\n",
              "      <td>9</td>\n",
              "    </tr>\n",
              "    <tr>\n",
              "      <th>1</th>\n",
              "      <td>ham</td>\n",
              "      <td>Ok lar... Joking wif u oni...</td>\n",
              "      <td>29</td>\n",
              "      <td>6</td>\n",
              "    </tr>\n",
              "    <tr>\n",
              "      <th>2</th>\n",
              "      <td>spam</td>\n",
              "      <td>Free entry in 2 a wkly comp to win FA Cup fina...</td>\n",
              "      <td>155</td>\n",
              "      <td>6</td>\n",
              "    </tr>\n",
              "    <tr>\n",
              "      <th>3</th>\n",
              "      <td>ham</td>\n",
              "      <td>U dun say so early hor... U c already then say...</td>\n",
              "      <td>49</td>\n",
              "      <td>6</td>\n",
              "    </tr>\n",
              "    <tr>\n",
              "      <th>4</th>\n",
              "      <td>ham</td>\n",
              "      <td>Nah I don't think he goes to usf, he lives aro...</td>\n",
              "      <td>61</td>\n",
              "      <td>2</td>\n",
              "    </tr>\n",
              "  </tbody>\n",
              "</table>\n",
              "</div>\n",
              "    <div class=\"colab-df-buttons\">\n",
              "\n",
              "  <div class=\"colab-df-container\">\n",
              "    <button class=\"colab-df-convert\" onclick=\"convertToInteractive('df-2f985259-6cb3-4a08-a1e7-deaa301356f2')\"\n",
              "            title=\"Convert this dataframe to an interactive table.\"\n",
              "            style=\"display:none;\">\n",
              "\n",
              "  <svg xmlns=\"http://www.w3.org/2000/svg\" height=\"24px\" viewBox=\"0 -960 960 960\">\n",
              "    <path d=\"M120-120v-720h720v720H120Zm60-500h600v-160H180v160Zm220 220h160v-160H400v160Zm0 220h160v-160H400v160ZM180-400h160v-160H180v160Zm440 0h160v-160H620v160ZM180-180h160v-160H180v160Zm440 0h160v-160H620v160Z\"/>\n",
              "  </svg>\n",
              "    </button>\n",
              "\n",
              "  <style>\n",
              "    .colab-df-container {\n",
              "      display:flex;\n",
              "      gap: 12px;\n",
              "    }\n",
              "\n",
              "    .colab-df-convert {\n",
              "      background-color: #E8F0FE;\n",
              "      border: none;\n",
              "      border-radius: 50%;\n",
              "      cursor: pointer;\n",
              "      display: none;\n",
              "      fill: #1967D2;\n",
              "      height: 32px;\n",
              "      padding: 0 0 0 0;\n",
              "      width: 32px;\n",
              "    }\n",
              "\n",
              "    .colab-df-convert:hover {\n",
              "      background-color: #E2EBFA;\n",
              "      box-shadow: 0px 1px 2px rgba(60, 64, 67, 0.3), 0px 1px 3px 1px rgba(60, 64, 67, 0.15);\n",
              "      fill: #174EA6;\n",
              "    }\n",
              "\n",
              "    .colab-df-buttons div {\n",
              "      margin-bottom: 4px;\n",
              "    }\n",
              "\n",
              "    [theme=dark] .colab-df-convert {\n",
              "      background-color: #3B4455;\n",
              "      fill: #D2E3FC;\n",
              "    }\n",
              "\n",
              "    [theme=dark] .colab-df-convert:hover {\n",
              "      background-color: #434B5C;\n",
              "      box-shadow: 0px 1px 3px 1px rgba(0, 0, 0, 0.15);\n",
              "      filter: drop-shadow(0px 1px 2px rgba(0, 0, 0, 0.3));\n",
              "      fill: #FFFFFF;\n",
              "    }\n",
              "  </style>\n",
              "\n",
              "    <script>\n",
              "      const buttonEl =\n",
              "        document.querySelector('#df-2f985259-6cb3-4a08-a1e7-deaa301356f2 button.colab-df-convert');\n",
              "      buttonEl.style.display =\n",
              "        google.colab.kernel.accessAllowed ? 'block' : 'none';\n",
              "\n",
              "      async function convertToInteractive(key) {\n",
              "        const element = document.querySelector('#df-2f985259-6cb3-4a08-a1e7-deaa301356f2');\n",
              "        const dataTable =\n",
              "          await google.colab.kernel.invokeFunction('convertToInteractive',\n",
              "                                                    [key], {});\n",
              "        if (!dataTable) return;\n",
              "\n",
              "        const docLinkHtml = 'Like what you see? Visit the ' +\n",
              "          '<a target=\"_blank\" href=https://colab.research.google.com/notebooks/data_table.ipynb>data table notebook</a>'\n",
              "          + ' to learn more about interactive tables.';\n",
              "        element.innerHTML = '';\n",
              "        dataTable['output_type'] = 'display_data';\n",
              "        await google.colab.output.renderOutput(dataTable, element);\n",
              "        const docLink = document.createElement('div');\n",
              "        docLink.innerHTML = docLinkHtml;\n",
              "        element.appendChild(docLink);\n",
              "      }\n",
              "    </script>\n",
              "  </div>\n",
              "\n",
              "\n",
              "<div id=\"df-5c5f62bb-c41c-4438-ab5c-430996c1ffc2\">\n",
              "  <button class=\"colab-df-quickchart\" onclick=\"quickchart('df-5c5f62bb-c41c-4438-ab5c-430996c1ffc2')\"\n",
              "            title=\"Suggest charts.\"\n",
              "            style=\"display:none;\">\n",
              "\n",
              "<svg xmlns=\"http://www.w3.org/2000/svg\" height=\"24px\"viewBox=\"0 0 24 24\"\n",
              "     width=\"24px\">\n",
              "    <g>\n",
              "        <path d=\"M19 3H5c-1.1 0-2 .9-2 2v14c0 1.1.9 2 2 2h14c1.1 0 2-.9 2-2V5c0-1.1-.9-2-2-2zM9 17H7v-7h2v7zm4 0h-2V7h2v10zm4 0h-2v-4h2v4z\"/>\n",
              "    </g>\n",
              "</svg>\n",
              "  </button>\n",
              "\n",
              "<style>\n",
              "  .colab-df-quickchart {\n",
              "      --bg-color: #E8F0FE;\n",
              "      --fill-color: #1967D2;\n",
              "      --hover-bg-color: #E2EBFA;\n",
              "      --hover-fill-color: #174EA6;\n",
              "      --disabled-fill-color: #AAA;\n",
              "      --disabled-bg-color: #DDD;\n",
              "  }\n",
              "\n",
              "  [theme=dark] .colab-df-quickchart {\n",
              "      --bg-color: #3B4455;\n",
              "      --fill-color: #D2E3FC;\n",
              "      --hover-bg-color: #434B5C;\n",
              "      --hover-fill-color: #FFFFFF;\n",
              "      --disabled-bg-color: #3B4455;\n",
              "      --disabled-fill-color: #666;\n",
              "  }\n",
              "\n",
              "  .colab-df-quickchart {\n",
              "    background-color: var(--bg-color);\n",
              "    border: none;\n",
              "    border-radius: 50%;\n",
              "    cursor: pointer;\n",
              "    display: none;\n",
              "    fill: var(--fill-color);\n",
              "    height: 32px;\n",
              "    padding: 0;\n",
              "    width: 32px;\n",
              "  }\n",
              "\n",
              "  .colab-df-quickchart:hover {\n",
              "    background-color: var(--hover-bg-color);\n",
              "    box-shadow: 0 1px 2px rgba(60, 64, 67, 0.3), 0 1px 3px 1px rgba(60, 64, 67, 0.15);\n",
              "    fill: var(--button-hover-fill-color);\n",
              "  }\n",
              "\n",
              "  .colab-df-quickchart-complete:disabled,\n",
              "  .colab-df-quickchart-complete:disabled:hover {\n",
              "    background-color: var(--disabled-bg-color);\n",
              "    fill: var(--disabled-fill-color);\n",
              "    box-shadow: none;\n",
              "  }\n",
              "\n",
              "  .colab-df-spinner {\n",
              "    border: 2px solid var(--fill-color);\n",
              "    border-color: transparent;\n",
              "    border-bottom-color: var(--fill-color);\n",
              "    animation:\n",
              "      spin 1s steps(1) infinite;\n",
              "  }\n",
              "\n",
              "  @keyframes spin {\n",
              "    0% {\n",
              "      border-color: transparent;\n",
              "      border-bottom-color: var(--fill-color);\n",
              "      border-left-color: var(--fill-color);\n",
              "    }\n",
              "    20% {\n",
              "      border-color: transparent;\n",
              "      border-left-color: var(--fill-color);\n",
              "      border-top-color: var(--fill-color);\n",
              "    }\n",
              "    30% {\n",
              "      border-color: transparent;\n",
              "      border-left-color: var(--fill-color);\n",
              "      border-top-color: var(--fill-color);\n",
              "      border-right-color: var(--fill-color);\n",
              "    }\n",
              "    40% {\n",
              "      border-color: transparent;\n",
              "      border-right-color: var(--fill-color);\n",
              "      border-top-color: var(--fill-color);\n",
              "    }\n",
              "    60% {\n",
              "      border-color: transparent;\n",
              "      border-right-color: var(--fill-color);\n",
              "    }\n",
              "    80% {\n",
              "      border-color: transparent;\n",
              "      border-right-color: var(--fill-color);\n",
              "      border-bottom-color: var(--fill-color);\n",
              "    }\n",
              "    90% {\n",
              "      border-color: transparent;\n",
              "      border-bottom-color: var(--fill-color);\n",
              "    }\n",
              "  }\n",
              "</style>\n",
              "\n",
              "  <script>\n",
              "    async function quickchart(key) {\n",
              "      const quickchartButtonEl =\n",
              "        document.querySelector('#' + key + ' button');\n",
              "      quickchartButtonEl.disabled = true;  // To prevent multiple clicks.\n",
              "      quickchartButtonEl.classList.add('colab-df-spinner');\n",
              "      try {\n",
              "        const charts = await google.colab.kernel.invokeFunction(\n",
              "            'suggestCharts', [key], {});\n",
              "      } catch (error) {\n",
              "        console.error('Error during call to suggestCharts:', error);\n",
              "      }\n",
              "      quickchartButtonEl.classList.remove('colab-df-spinner');\n",
              "      quickchartButtonEl.classList.add('colab-df-quickchart-complete');\n",
              "    }\n",
              "    (() => {\n",
              "      let quickchartButtonEl =\n",
              "        document.querySelector('#df-5c5f62bb-c41c-4438-ab5c-430996c1ffc2 button');\n",
              "      quickchartButtonEl.style.display =\n",
              "        google.colab.kernel.accessAllowed ? 'block' : 'none';\n",
              "    })();\n",
              "  </script>\n",
              "</div>\n",
              "    </div>\n",
              "  </div>\n"
            ]
          },
          "metadata": {},
          "execution_count": 3
        }
      ]
    },
    {
      "cell_type": "code",
      "source": [
        "df.isnull().sum()"
      ],
      "metadata": {
        "colab": {
          "base_uri": "https://localhost:8080/"
        },
        "id": "0mxB6ZFwTFQR",
        "outputId": "0db0a563-438d-423c-f2ee-d0d00cf8fde8"
      },
      "execution_count": 4,
      "outputs": [
        {
          "output_type": "execute_result",
          "data": {
            "text/plain": [
              "label      0\n",
              "message    0\n",
              "length     0\n",
              "punct      0\n",
              "dtype: int64"
            ]
          },
          "metadata": {},
          "execution_count": 4
        }
      ]
    },
    {
      "cell_type": "code",
      "source": [
        "df['label'].value_counts()"
      ],
      "metadata": {
        "colab": {
          "base_uri": "https://localhost:8080/"
        },
        "id": "ZVOvxTgMTRq7",
        "outputId": "25216d69-5c0a-4979-8e51-feff25a27d62"
      },
      "execution_count": 6,
      "outputs": [
        {
          "output_type": "execute_result",
          "data": {
            "text/plain": [
              "ham     4825\n",
              "spam     747\n",
              "Name: label, dtype: int64"
            ]
          },
          "metadata": {},
          "execution_count": 6
        }
      ]
    },
    {
      "cell_type": "code",
      "source": [
        "from sklearn.model_selection import train_test_split\n",
        "from sklearn.feature_extraction.text import CountVectorizer\n",
        "from sklearn.feature_extraction.text import TfidfTransformer\n",
        "from sklearn.feature_extraction.text import TfidfVectorizer\n",
        "from sklearn.svm import LinearSVC\n",
        "from sklearn.pipeline import Pipeline\n",
        "from sklearn.metrics import confusion_matrix, classification_report, accuracy_score\n",
        "\n",
        "# Here we create variables\n",
        "X = df['message']\n",
        "y = df['label']\n",
        "\n",
        "# Here we split the data\n",
        "X_train, X_test, y_train, y_test = train_test_split(X,y, test_size = 0.33, random_state = 42)\n",
        "\n",
        "# Initiate the vectorizer\n",
        "count_vect = CountVectorizer()\n",
        "\n",
        "# Fit vectorizer to the data\n",
        "#count_vect.fit(X_train)\n",
        "#X_train_counts = count_vect.transform(X_train)\n",
        "# Transform the original test message\n",
        "X_train_counts = count_vect.fit_transform(X_train)\n",
        "X_train_counts"
      ],
      "metadata": {
        "colab": {
          "base_uri": "https://localhost:8080/"
        },
        "id": "HLj_xJ6iTYMm",
        "outputId": "89a8a3eb-a31d-456a-bc5f-3fbbd30a3396"
      },
      "execution_count": 23,
      "outputs": [
        {
          "output_type": "execute_result",
          "data": {
            "text/plain": [
              "<3733x7082 sparse matrix of type '<class 'numpy.int64'>'\n",
              "\twith 49992 stored elements in Compressed Sparse Row format>"
            ]
          },
          "metadata": {},
          "execution_count": 23
        }
      ]
    },
    {
      "cell_type": "code",
      "source": [
        "# Here we create TF-IDF model\n",
        "tfidf_transformer = TfidfTransformer()\n",
        "X_train_tfidf = tfidf_transformer.fit_transform(X_train_counts)"
      ],
      "metadata": {
        "id": "edX1OurvV02m"
      },
      "execution_count": null,
      "outputs": []
    },
    {
      "cell_type": "code",
      "source": [
        "# Also the vectorization and TF-IIDF model can be created at once\n",
        "vectorizer = TfidfVectorizer()\n",
        "X_train_tfidf = vectorizer.fit_transform(X_train)"
      ],
      "metadata": {
        "id": "xal5Y1DDWAPU"
      },
      "execution_count": 14,
      "outputs": []
    },
    {
      "cell_type": "code",
      "source": [
        "# Here we train classifier\n",
        "clf = LinearSVC()\n",
        "clf.fit(X_train_tfidf,y_train)"
      ],
      "metadata": {
        "colab": {
          "base_uri": "https://localhost:8080/",
          "height": 74
        },
        "id": "V7JXkvlNWebD",
        "outputId": "995eeb92-7045-4cd7-84d4-39576fa8f7e0"
      },
      "execution_count": 16,
      "outputs": [
        {
          "output_type": "execute_result",
          "data": {
            "text/plain": [
              "LinearSVC()"
            ],
            "text/html": [
              "<style>#sk-container-id-1 {color: black;background-color: white;}#sk-container-id-1 pre{padding: 0;}#sk-container-id-1 div.sk-toggleable {background-color: white;}#sk-container-id-1 label.sk-toggleable__label {cursor: pointer;display: block;width: 100%;margin-bottom: 0;padding: 0.3em;box-sizing: border-box;text-align: center;}#sk-container-id-1 label.sk-toggleable__label-arrow:before {content: \"▸\";float: left;margin-right: 0.25em;color: #696969;}#sk-container-id-1 label.sk-toggleable__label-arrow:hover:before {color: black;}#sk-container-id-1 div.sk-estimator:hover label.sk-toggleable__label-arrow:before {color: black;}#sk-container-id-1 div.sk-toggleable__content {max-height: 0;max-width: 0;overflow: hidden;text-align: left;background-color: #f0f8ff;}#sk-container-id-1 div.sk-toggleable__content pre {margin: 0.2em;color: black;border-radius: 0.25em;background-color: #f0f8ff;}#sk-container-id-1 input.sk-toggleable__control:checked~div.sk-toggleable__content {max-height: 200px;max-width: 100%;overflow: auto;}#sk-container-id-1 input.sk-toggleable__control:checked~label.sk-toggleable__label-arrow:before {content: \"▾\";}#sk-container-id-1 div.sk-estimator input.sk-toggleable__control:checked~label.sk-toggleable__label {background-color: #d4ebff;}#sk-container-id-1 div.sk-label input.sk-toggleable__control:checked~label.sk-toggleable__label {background-color: #d4ebff;}#sk-container-id-1 input.sk-hidden--visually {border: 0;clip: rect(1px 1px 1px 1px);clip: rect(1px, 1px, 1px, 1px);height: 1px;margin: -1px;overflow: hidden;padding: 0;position: absolute;width: 1px;}#sk-container-id-1 div.sk-estimator {font-family: monospace;background-color: #f0f8ff;border: 1px dotted black;border-radius: 0.25em;box-sizing: border-box;margin-bottom: 0.5em;}#sk-container-id-1 div.sk-estimator:hover {background-color: #d4ebff;}#sk-container-id-1 div.sk-parallel-item::after {content: \"\";width: 100%;border-bottom: 1px solid gray;flex-grow: 1;}#sk-container-id-1 div.sk-label:hover label.sk-toggleable__label {background-color: #d4ebff;}#sk-container-id-1 div.sk-serial::before {content: \"\";position: absolute;border-left: 1px solid gray;box-sizing: border-box;top: 0;bottom: 0;left: 50%;z-index: 0;}#sk-container-id-1 div.sk-serial {display: flex;flex-direction: column;align-items: center;background-color: white;padding-right: 0.2em;padding-left: 0.2em;position: relative;}#sk-container-id-1 div.sk-item {position: relative;z-index: 1;}#sk-container-id-1 div.sk-parallel {display: flex;align-items: stretch;justify-content: center;background-color: white;position: relative;}#sk-container-id-1 div.sk-item::before, #sk-container-id-1 div.sk-parallel-item::before {content: \"\";position: absolute;border-left: 1px solid gray;box-sizing: border-box;top: 0;bottom: 0;left: 50%;z-index: -1;}#sk-container-id-1 div.sk-parallel-item {display: flex;flex-direction: column;z-index: 1;position: relative;background-color: white;}#sk-container-id-1 div.sk-parallel-item:first-child::after {align-self: flex-end;width: 50%;}#sk-container-id-1 div.sk-parallel-item:last-child::after {align-self: flex-start;width: 50%;}#sk-container-id-1 div.sk-parallel-item:only-child::after {width: 0;}#sk-container-id-1 div.sk-dashed-wrapped {border: 1px dashed gray;margin: 0 0.4em 0.5em 0.4em;box-sizing: border-box;padding-bottom: 0.4em;background-color: white;}#sk-container-id-1 div.sk-label label {font-family: monospace;font-weight: bold;display: inline-block;line-height: 1.2em;}#sk-container-id-1 div.sk-label-container {text-align: center;}#sk-container-id-1 div.sk-container {/* jupyter's `normalize.less` sets `[hidden] { display: none; }` but bootstrap.min.css set `[hidden] { display: none !important; }` so we also need the `!important` here to be able to override the default hidden behavior on the sphinx rendered scikit-learn.org. See: https://github.com/scikit-learn/scikit-learn/issues/21755 */display: inline-block !important;position: relative;}#sk-container-id-1 div.sk-text-repr-fallback {display: none;}</style><div id=\"sk-container-id-1\" class=\"sk-top-container\"><div class=\"sk-text-repr-fallback\"><pre>LinearSVC()</pre><b>In a Jupyter environment, please rerun this cell to show the HTML representation or trust the notebook. <br />On GitHub, the HTML representation is unable to render, please try loading this page with nbviewer.org.</b></div><div class=\"sk-container\" hidden><div class=\"sk-item\"><div class=\"sk-estimator sk-toggleable\"><input class=\"sk-toggleable__control sk-hidden--visually\" id=\"sk-estimator-id-1\" type=\"checkbox\" checked><label for=\"sk-estimator-id-1\" class=\"sk-toggleable__label sk-toggleable__label-arrow\">LinearSVC</label><div class=\"sk-toggleable__content\"><pre>LinearSVC()</pre></div></div></div></div></div>"
            ]
          },
          "metadata": {},
          "execution_count": 16
        }
      ]
    },
    {
      "cell_type": "code",
      "source": [
        "# Here we create a pipeline object includes both vectorization and classifier\n",
        "text_clf = Pipeline([('tfidf', TfidfVectorizer()),('clf', LinearSVC())])\n",
        "text_clf.fit(X_train,y_train)"
      ],
      "metadata": {
        "colab": {
          "base_uri": "https://localhost:8080/",
          "height": 125
        },
        "id": "gIeaxWtvW5o7",
        "outputId": "b48a597b-a493-4a84-e555-38c5dc6a0f91"
      },
      "execution_count": 19,
      "outputs": [
        {
          "output_type": "execute_result",
          "data": {
            "text/plain": [
              "Pipeline(steps=[('tfidf', TfidfVectorizer()), ('clf', LinearSVC())])"
            ],
            "text/html": [
              "<style>#sk-container-id-2 {color: black;background-color: white;}#sk-container-id-2 pre{padding: 0;}#sk-container-id-2 div.sk-toggleable {background-color: white;}#sk-container-id-2 label.sk-toggleable__label {cursor: pointer;display: block;width: 100%;margin-bottom: 0;padding: 0.3em;box-sizing: border-box;text-align: center;}#sk-container-id-2 label.sk-toggleable__label-arrow:before {content: \"▸\";float: left;margin-right: 0.25em;color: #696969;}#sk-container-id-2 label.sk-toggleable__label-arrow:hover:before {color: black;}#sk-container-id-2 div.sk-estimator:hover label.sk-toggleable__label-arrow:before {color: black;}#sk-container-id-2 div.sk-toggleable__content {max-height: 0;max-width: 0;overflow: hidden;text-align: left;background-color: #f0f8ff;}#sk-container-id-2 div.sk-toggleable__content pre {margin: 0.2em;color: black;border-radius: 0.25em;background-color: #f0f8ff;}#sk-container-id-2 input.sk-toggleable__control:checked~div.sk-toggleable__content {max-height: 200px;max-width: 100%;overflow: auto;}#sk-container-id-2 input.sk-toggleable__control:checked~label.sk-toggleable__label-arrow:before {content: \"▾\";}#sk-container-id-2 div.sk-estimator input.sk-toggleable__control:checked~label.sk-toggleable__label {background-color: #d4ebff;}#sk-container-id-2 div.sk-label input.sk-toggleable__control:checked~label.sk-toggleable__label {background-color: #d4ebff;}#sk-container-id-2 input.sk-hidden--visually {border: 0;clip: rect(1px 1px 1px 1px);clip: rect(1px, 1px, 1px, 1px);height: 1px;margin: -1px;overflow: hidden;padding: 0;position: absolute;width: 1px;}#sk-container-id-2 div.sk-estimator {font-family: monospace;background-color: #f0f8ff;border: 1px dotted black;border-radius: 0.25em;box-sizing: border-box;margin-bottom: 0.5em;}#sk-container-id-2 div.sk-estimator:hover {background-color: #d4ebff;}#sk-container-id-2 div.sk-parallel-item::after {content: \"\";width: 100%;border-bottom: 1px solid gray;flex-grow: 1;}#sk-container-id-2 div.sk-label:hover label.sk-toggleable__label {background-color: #d4ebff;}#sk-container-id-2 div.sk-serial::before {content: \"\";position: absolute;border-left: 1px solid gray;box-sizing: border-box;top: 0;bottom: 0;left: 50%;z-index: 0;}#sk-container-id-2 div.sk-serial {display: flex;flex-direction: column;align-items: center;background-color: white;padding-right: 0.2em;padding-left: 0.2em;position: relative;}#sk-container-id-2 div.sk-item {position: relative;z-index: 1;}#sk-container-id-2 div.sk-parallel {display: flex;align-items: stretch;justify-content: center;background-color: white;position: relative;}#sk-container-id-2 div.sk-item::before, #sk-container-id-2 div.sk-parallel-item::before {content: \"\";position: absolute;border-left: 1px solid gray;box-sizing: border-box;top: 0;bottom: 0;left: 50%;z-index: -1;}#sk-container-id-2 div.sk-parallel-item {display: flex;flex-direction: column;z-index: 1;position: relative;background-color: white;}#sk-container-id-2 div.sk-parallel-item:first-child::after {align-self: flex-end;width: 50%;}#sk-container-id-2 div.sk-parallel-item:last-child::after {align-self: flex-start;width: 50%;}#sk-container-id-2 div.sk-parallel-item:only-child::after {width: 0;}#sk-container-id-2 div.sk-dashed-wrapped {border: 1px dashed gray;margin: 0 0.4em 0.5em 0.4em;box-sizing: border-box;padding-bottom: 0.4em;background-color: white;}#sk-container-id-2 div.sk-label label {font-family: monospace;font-weight: bold;display: inline-block;line-height: 1.2em;}#sk-container-id-2 div.sk-label-container {text-align: center;}#sk-container-id-2 div.sk-container {/* jupyter's `normalize.less` sets `[hidden] { display: none; }` but bootstrap.min.css set `[hidden] { display: none !important; }` so we also need the `!important` here to be able to override the default hidden behavior on the sphinx rendered scikit-learn.org. See: https://github.com/scikit-learn/scikit-learn/issues/21755 */display: inline-block !important;position: relative;}#sk-container-id-2 div.sk-text-repr-fallback {display: none;}</style><div id=\"sk-container-id-2\" class=\"sk-top-container\"><div class=\"sk-text-repr-fallback\"><pre>Pipeline(steps=[(&#x27;tfidf&#x27;, TfidfVectorizer()), (&#x27;clf&#x27;, LinearSVC())])</pre><b>In a Jupyter environment, please rerun this cell to show the HTML representation or trust the notebook. <br />On GitHub, the HTML representation is unable to render, please try loading this page with nbviewer.org.</b></div><div class=\"sk-container\" hidden><div class=\"sk-item sk-dashed-wrapped\"><div class=\"sk-label-container\"><div class=\"sk-label sk-toggleable\"><input class=\"sk-toggleable__control sk-hidden--visually\" id=\"sk-estimator-id-2\" type=\"checkbox\" ><label for=\"sk-estimator-id-2\" class=\"sk-toggleable__label sk-toggleable__label-arrow\">Pipeline</label><div class=\"sk-toggleable__content\"><pre>Pipeline(steps=[(&#x27;tfidf&#x27;, TfidfVectorizer()), (&#x27;clf&#x27;, LinearSVC())])</pre></div></div></div><div class=\"sk-serial\"><div class=\"sk-item\"><div class=\"sk-estimator sk-toggleable\"><input class=\"sk-toggleable__control sk-hidden--visually\" id=\"sk-estimator-id-3\" type=\"checkbox\" ><label for=\"sk-estimator-id-3\" class=\"sk-toggleable__label sk-toggleable__label-arrow\">TfidfVectorizer</label><div class=\"sk-toggleable__content\"><pre>TfidfVectorizer()</pre></div></div></div><div class=\"sk-item\"><div class=\"sk-estimator sk-toggleable\"><input class=\"sk-toggleable__control sk-hidden--visually\" id=\"sk-estimator-id-4\" type=\"checkbox\" ><label for=\"sk-estimator-id-4\" class=\"sk-toggleable__label sk-toggleable__label-arrow\">LinearSVC</label><div class=\"sk-toggleable__content\"><pre>LinearSVC()</pre></div></div></div></div></div></div></div>"
            ]
          },
          "metadata": {},
          "execution_count": 19
        }
      ]
    },
    {
      "cell_type": "code",
      "source": [
        "# Here we make predictions using our pipeline\n",
        "predictions = text_clf.predict(X_test)\n",
        "print(confusion_matrix(y_test,predictions))\n",
        "print(accuracy_score(y_test,predictions))"
      ],
      "metadata": {
        "colab": {
          "base_uri": "https://localhost:8080/"
        },
        "id": "PZPljILeXssi",
        "outputId": "e901f15e-78db-4553-9af7-b858265f553e"
      },
      "execution_count": 24,
      "outputs": [
        {
          "output_type": "stream",
          "name": "stdout",
          "text": [
            "[[1586    7]\n",
            " [  12  234]]\n",
            "0.989668297988037\n"
          ]
        }
      ]
    },
    {
      "cell_type": "code",
      "source": [
        "text_clf.predict([\"Congratulations! You've been selected as a winner. Text won to 4255 congratulations.\"])"
      ],
      "metadata": {
        "colab": {
          "base_uri": "https://localhost:8080/"
        },
        "id": "rx4ROwwjYfXw",
        "outputId": "1a61e4c3-320d-4cf3-ad6b-46360ce88844"
      },
      "execution_count": 26,
      "outputs": [
        {
          "output_type": "execute_result",
          "data": {
            "text/plain": [
              "array(['spam'], dtype=object)"
            ]
          },
          "metadata": {},
          "execution_count": 26
        }
      ]
    },
    {
      "cell_type": "markdown",
      "source": [
        "##4.2 Text Classification Code"
      ],
      "metadata": {
        "id": "8gowwQMAY6ml"
      }
    },
    {
      "cell_type": "code",
      "source": [
        "# Here we set our working directory in our google drive to access datasets externally\n",
        "from google.colab import drive\n",
        "drive.mount('/content/drive')\n",
        "%cd /content/drive/MyDrive/ColabNotebooks/NLP"
      ],
      "metadata": {
        "id": "j-E1RaQ0cDr3"
      },
      "execution_count": null,
      "outputs": []
    },
    {
      "cell_type": "code",
      "source": [
        "import numpy as np\n",
        "import pandas as pd\n",
        "\n",
        "df = pd.read_csv('TEXTs/moviereviews.tsv', sep = '\\t')\n",
        "df.head()"
      ],
      "metadata": {
        "colab": {
          "base_uri": "https://localhost:8080/",
          "height": 206
        },
        "id": "v4xP2qx7Y-fK",
        "outputId": "daddfc24-a5b2-407e-e03a-00950a7b66cd"
      },
      "execution_count": 27,
      "outputs": [
        {
          "output_type": "execute_result",
          "data": {
            "text/plain": [
              "  label                                             review\n",
              "0   neg  how do films like mouse hunt get into theatres...\n",
              "1   neg  some talented actresses are blessed with a dem...\n",
              "2   pos  this has been an extraordinary year for austra...\n",
              "3   pos  according to hollywood movies made in last few...\n",
              "4   neg  my first press screening of 1998 and already i..."
            ],
            "text/html": [
              "\n",
              "  <div id=\"df-75c50c07-0c0f-46b7-b78e-e09b755e52f9\" class=\"colab-df-container\">\n",
              "    <div>\n",
              "<style scoped>\n",
              "    .dataframe tbody tr th:only-of-type {\n",
              "        vertical-align: middle;\n",
              "    }\n",
              "\n",
              "    .dataframe tbody tr th {\n",
              "        vertical-align: top;\n",
              "    }\n",
              "\n",
              "    .dataframe thead th {\n",
              "        text-align: right;\n",
              "    }\n",
              "</style>\n",
              "<table border=\"1\" class=\"dataframe\">\n",
              "  <thead>\n",
              "    <tr style=\"text-align: right;\">\n",
              "      <th></th>\n",
              "      <th>label</th>\n",
              "      <th>review</th>\n",
              "    </tr>\n",
              "  </thead>\n",
              "  <tbody>\n",
              "    <tr>\n",
              "      <th>0</th>\n",
              "      <td>neg</td>\n",
              "      <td>how do films like mouse hunt get into theatres...</td>\n",
              "    </tr>\n",
              "    <tr>\n",
              "      <th>1</th>\n",
              "      <td>neg</td>\n",
              "      <td>some talented actresses are blessed with a dem...</td>\n",
              "    </tr>\n",
              "    <tr>\n",
              "      <th>2</th>\n",
              "      <td>pos</td>\n",
              "      <td>this has been an extraordinary year for austra...</td>\n",
              "    </tr>\n",
              "    <tr>\n",
              "      <th>3</th>\n",
              "      <td>pos</td>\n",
              "      <td>according to hollywood movies made in last few...</td>\n",
              "    </tr>\n",
              "    <tr>\n",
              "      <th>4</th>\n",
              "      <td>neg</td>\n",
              "      <td>my first press screening of 1998 and already i...</td>\n",
              "    </tr>\n",
              "  </tbody>\n",
              "</table>\n",
              "</div>\n",
              "    <div class=\"colab-df-buttons\">\n",
              "\n",
              "  <div class=\"colab-df-container\">\n",
              "    <button class=\"colab-df-convert\" onclick=\"convertToInteractive('df-75c50c07-0c0f-46b7-b78e-e09b755e52f9')\"\n",
              "            title=\"Convert this dataframe to an interactive table.\"\n",
              "            style=\"display:none;\">\n",
              "\n",
              "  <svg xmlns=\"http://www.w3.org/2000/svg\" height=\"24px\" viewBox=\"0 -960 960 960\">\n",
              "    <path d=\"M120-120v-720h720v720H120Zm60-500h600v-160H180v160Zm220 220h160v-160H400v160Zm0 220h160v-160H400v160ZM180-400h160v-160H180v160Zm440 0h160v-160H620v160ZM180-180h160v-160H180v160Zm440 0h160v-160H620v160Z\"/>\n",
              "  </svg>\n",
              "    </button>\n",
              "\n",
              "  <style>\n",
              "    .colab-df-container {\n",
              "      display:flex;\n",
              "      gap: 12px;\n",
              "    }\n",
              "\n",
              "    .colab-df-convert {\n",
              "      background-color: #E8F0FE;\n",
              "      border: none;\n",
              "      border-radius: 50%;\n",
              "      cursor: pointer;\n",
              "      display: none;\n",
              "      fill: #1967D2;\n",
              "      height: 32px;\n",
              "      padding: 0 0 0 0;\n",
              "      width: 32px;\n",
              "    }\n",
              "\n",
              "    .colab-df-convert:hover {\n",
              "      background-color: #E2EBFA;\n",
              "      box-shadow: 0px 1px 2px rgba(60, 64, 67, 0.3), 0px 1px 3px 1px rgba(60, 64, 67, 0.15);\n",
              "      fill: #174EA6;\n",
              "    }\n",
              "\n",
              "    .colab-df-buttons div {\n",
              "      margin-bottom: 4px;\n",
              "    }\n",
              "\n",
              "    [theme=dark] .colab-df-convert {\n",
              "      background-color: #3B4455;\n",
              "      fill: #D2E3FC;\n",
              "    }\n",
              "\n",
              "    [theme=dark] .colab-df-convert:hover {\n",
              "      background-color: #434B5C;\n",
              "      box-shadow: 0px 1px 3px 1px rgba(0, 0, 0, 0.15);\n",
              "      filter: drop-shadow(0px 1px 2px rgba(0, 0, 0, 0.3));\n",
              "      fill: #FFFFFF;\n",
              "    }\n",
              "  </style>\n",
              "\n",
              "    <script>\n",
              "      const buttonEl =\n",
              "        document.querySelector('#df-75c50c07-0c0f-46b7-b78e-e09b755e52f9 button.colab-df-convert');\n",
              "      buttonEl.style.display =\n",
              "        google.colab.kernel.accessAllowed ? 'block' : 'none';\n",
              "\n",
              "      async function convertToInteractive(key) {\n",
              "        const element = document.querySelector('#df-75c50c07-0c0f-46b7-b78e-e09b755e52f9');\n",
              "        const dataTable =\n",
              "          await google.colab.kernel.invokeFunction('convertToInteractive',\n",
              "                                                    [key], {});\n",
              "        if (!dataTable) return;\n",
              "\n",
              "        const docLinkHtml = 'Like what you see? Visit the ' +\n",
              "          '<a target=\"_blank\" href=https://colab.research.google.com/notebooks/data_table.ipynb>data table notebook</a>'\n",
              "          + ' to learn more about interactive tables.';\n",
              "        element.innerHTML = '';\n",
              "        dataTable['output_type'] = 'display_data';\n",
              "        await google.colab.output.renderOutput(dataTable, element);\n",
              "        const docLink = document.createElement('div');\n",
              "        docLink.innerHTML = docLinkHtml;\n",
              "        element.appendChild(docLink);\n",
              "      }\n",
              "    </script>\n",
              "  </div>\n",
              "\n",
              "\n",
              "<div id=\"df-fb8a139b-c51d-4fff-abd8-0ba1319e732b\">\n",
              "  <button class=\"colab-df-quickchart\" onclick=\"quickchart('df-fb8a139b-c51d-4fff-abd8-0ba1319e732b')\"\n",
              "            title=\"Suggest charts.\"\n",
              "            style=\"display:none;\">\n",
              "\n",
              "<svg xmlns=\"http://www.w3.org/2000/svg\" height=\"24px\"viewBox=\"0 0 24 24\"\n",
              "     width=\"24px\">\n",
              "    <g>\n",
              "        <path d=\"M19 3H5c-1.1 0-2 .9-2 2v14c0 1.1.9 2 2 2h14c1.1 0 2-.9 2-2V5c0-1.1-.9-2-2-2zM9 17H7v-7h2v7zm4 0h-2V7h2v10zm4 0h-2v-4h2v4z\"/>\n",
              "    </g>\n",
              "</svg>\n",
              "  </button>\n",
              "\n",
              "<style>\n",
              "  .colab-df-quickchart {\n",
              "      --bg-color: #E8F0FE;\n",
              "      --fill-color: #1967D2;\n",
              "      --hover-bg-color: #E2EBFA;\n",
              "      --hover-fill-color: #174EA6;\n",
              "      --disabled-fill-color: #AAA;\n",
              "      --disabled-bg-color: #DDD;\n",
              "  }\n",
              "\n",
              "  [theme=dark] .colab-df-quickchart {\n",
              "      --bg-color: #3B4455;\n",
              "      --fill-color: #D2E3FC;\n",
              "      --hover-bg-color: #434B5C;\n",
              "      --hover-fill-color: #FFFFFF;\n",
              "      --disabled-bg-color: #3B4455;\n",
              "      --disabled-fill-color: #666;\n",
              "  }\n",
              "\n",
              "  .colab-df-quickchart {\n",
              "    background-color: var(--bg-color);\n",
              "    border: none;\n",
              "    border-radius: 50%;\n",
              "    cursor: pointer;\n",
              "    display: none;\n",
              "    fill: var(--fill-color);\n",
              "    height: 32px;\n",
              "    padding: 0;\n",
              "    width: 32px;\n",
              "  }\n",
              "\n",
              "  .colab-df-quickchart:hover {\n",
              "    background-color: var(--hover-bg-color);\n",
              "    box-shadow: 0 1px 2px rgba(60, 64, 67, 0.3), 0 1px 3px 1px rgba(60, 64, 67, 0.15);\n",
              "    fill: var(--button-hover-fill-color);\n",
              "  }\n",
              "\n",
              "  .colab-df-quickchart-complete:disabled,\n",
              "  .colab-df-quickchart-complete:disabled:hover {\n",
              "    background-color: var(--disabled-bg-color);\n",
              "    fill: var(--disabled-fill-color);\n",
              "    box-shadow: none;\n",
              "  }\n",
              "\n",
              "  .colab-df-spinner {\n",
              "    border: 2px solid var(--fill-color);\n",
              "    border-color: transparent;\n",
              "    border-bottom-color: var(--fill-color);\n",
              "    animation:\n",
              "      spin 1s steps(1) infinite;\n",
              "  }\n",
              "\n",
              "  @keyframes spin {\n",
              "    0% {\n",
              "      border-color: transparent;\n",
              "      border-bottom-color: var(--fill-color);\n",
              "      border-left-color: var(--fill-color);\n",
              "    }\n",
              "    20% {\n",
              "      border-color: transparent;\n",
              "      border-left-color: var(--fill-color);\n",
              "      border-top-color: var(--fill-color);\n",
              "    }\n",
              "    30% {\n",
              "      border-color: transparent;\n",
              "      border-left-color: var(--fill-color);\n",
              "      border-top-color: var(--fill-color);\n",
              "      border-right-color: var(--fill-color);\n",
              "    }\n",
              "    40% {\n",
              "      border-color: transparent;\n",
              "      border-right-color: var(--fill-color);\n",
              "      border-top-color: var(--fill-color);\n",
              "    }\n",
              "    60% {\n",
              "      border-color: transparent;\n",
              "      border-right-color: var(--fill-color);\n",
              "    }\n",
              "    80% {\n",
              "      border-color: transparent;\n",
              "      border-right-color: var(--fill-color);\n",
              "      border-bottom-color: var(--fill-color);\n",
              "    }\n",
              "    90% {\n",
              "      border-color: transparent;\n",
              "      border-bottom-color: var(--fill-color);\n",
              "    }\n",
              "  }\n",
              "</style>\n",
              "\n",
              "  <script>\n",
              "    async function quickchart(key) {\n",
              "      const quickchartButtonEl =\n",
              "        document.querySelector('#' + key + ' button');\n",
              "      quickchartButtonEl.disabled = true;  // To prevent multiple clicks.\n",
              "      quickchartButtonEl.classList.add('colab-df-spinner');\n",
              "      try {\n",
              "        const charts = await google.colab.kernel.invokeFunction(\n",
              "            'suggestCharts', [key], {});\n",
              "      } catch (error) {\n",
              "        console.error('Error during call to suggestCharts:', error);\n",
              "      }\n",
              "      quickchartButtonEl.classList.remove('colab-df-spinner');\n",
              "      quickchartButtonEl.classList.add('colab-df-quickchart-complete');\n",
              "    }\n",
              "    (() => {\n",
              "      let quickchartButtonEl =\n",
              "        document.querySelector('#df-fb8a139b-c51d-4fff-abd8-0ba1319e732b button');\n",
              "      quickchartButtonEl.style.display =\n",
              "        google.colab.kernel.accessAllowed ? 'block' : 'none';\n",
              "    })();\n",
              "  </script>\n",
              "</div>\n",
              "    </div>\n",
              "  </div>\n"
            ]
          },
          "metadata": {},
          "execution_count": 27
        }
      ]
    },
    {
      "cell_type": "code",
      "source": [
        "df.isnull().sum()"
      ],
      "metadata": {
        "colab": {
          "base_uri": "https://localhost:8080/"
        },
        "id": "oTDhzMPGZsTj",
        "outputId": "0339d465-b7bd-4528-e987-f109c2887d7d"
      },
      "execution_count": 29,
      "outputs": [
        {
          "output_type": "execute_result",
          "data": {
            "text/plain": [
              "label      0\n",
              "review    35\n",
              "dtype: int64"
            ]
          },
          "metadata": {},
          "execution_count": 29
        }
      ]
    },
    {
      "cell_type": "code",
      "source": [
        "df.dropna(inplace=True)\n",
        "df.isnull().sum()"
      ],
      "metadata": {
        "colab": {
          "base_uri": "https://localhost:8080/"
        },
        "id": "7IOVGljaZxFu",
        "outputId": "013e744f-769d-47ec-b898-e4b578cfe4ee"
      },
      "execution_count": 37,
      "outputs": [
        {
          "output_type": "execute_result",
          "data": {
            "text/plain": [
              "label     0\n",
              "review    0\n",
              "dtype: int64"
            ]
          },
          "metadata": {},
          "execution_count": 37
        }
      ]
    },
    {
      "cell_type": "code",
      "source": [
        "# Here we check if the review is a white space\n",
        "blanks = []\n",
        "\n",
        "for i, lb, rv in df.itertuples():\n",
        "  if rv.isspace():\n",
        "    blanks.append(i)\n",
        "\n",
        "df.drop(blanks, inplace = True)\n",
        "len(df)"
      ],
      "metadata": {
        "colab": {
          "base_uri": "https://localhost:8080/"
        },
        "id": "vb1NLwPMaKYx",
        "outputId": "498052a3-4943-4cd9-9c37-9b5f4b5cf019"
      },
      "execution_count": 38,
      "outputs": [
        {
          "output_type": "execute_result",
          "data": {
            "text/plain": [
              "1938"
            ]
          },
          "metadata": {},
          "execution_count": 38
        }
      ]
    },
    {
      "cell_type": "code",
      "source": [
        "from sklearn.model_selection import train_test_split\n",
        "from sklearn.feature_extraction.text import TfidfVectorizer\n",
        "from sklearn.svm import LinearSVC\n",
        "from sklearn.pipeline import Pipeline\n",
        "from sklearn.metrics import confusion_matrix, classification_report, accuracy_score\n",
        "\n",
        "# Here we create variables\n",
        "X = df['review']\n",
        "y = df['label']\n",
        "\n",
        "# Here we split the data\n",
        "X_train, X_test, y_train, y_test = train_test_split(X,y, test_size = 0.3, random_state = 40)\n",
        "\n",
        "# Here we create a pipeline object includes both vectorization and classifier\n",
        "text_clf = Pipeline([('tfidf', TfidfVectorizer()),('clf', LinearSVC())])\n",
        "text_clf.fit(X_train,y_train)\n",
        "\n",
        "# Here we make predictions using our pipeline\n",
        "predictions = text_clf.predict(X_test)\n",
        "print(confusion_matrix(y_test,predictions))\n",
        "print(accuracy_score(y_test,predictions))"
      ],
      "metadata": {
        "colab": {
          "base_uri": "https://localhost:8080/"
        },
        "id": "qKLzunV2ZahD",
        "outputId": "ed57b7f4-e02b-4e5c-edae-f4f70cac3e69"
      },
      "execution_count": 47,
      "outputs": [
        {
          "output_type": "stream",
          "name": "stdout",
          "text": [
            "[[224  42]\n",
            " [ 56 260]]\n",
            "0.8316151202749141\n"
          ]
        }
      ]
    },
    {
      "cell_type": "code",
      "source": [
        "text_clf.predict([\"This movie is hilarious.\"])"
      ],
      "metadata": {
        "colab": {
          "base_uri": "https://localhost:8080/"
        },
        "id": "hVzrR5G_Z_iG",
        "outputId": "25dfd665-271b-42bb-aa2c-a8ef7bf2f215"
      },
      "execution_count": 48,
      "outputs": [
        {
          "output_type": "execute_result",
          "data": {
            "text/plain": [
              "array(['pos'], dtype=object)"
            ]
          },
          "metadata": {},
          "execution_count": 48
        }
      ]
    },
    {
      "cell_type": "markdown",
      "source": [
        "## Text Classification Assessment\n",
        "\n",
        "This assessment is very much like the Text Classification Project we just completed, and the dataset is very similar.\n",
        "\n",
        "The **moviereviews2.tsv** dataset contains the text of 6000 movie reviews. 3000 are positive, 3000 are negative, and the text has been preprocessed as a tab-delimited file. As before, labels are given as `pos` and `neg`.\n",
        "\n",
        "We've included 20 reviews that contain either `NaN` data, or have strings made up of whitespace.\n",
        "\n",
        "For more information on this dataset visit http://ai.stanford.edu/~amaas/data/sentiment/"
      ],
      "metadata": {
        "id": "U7psa4ljbQnp"
      }
    },
    {
      "cell_type": "code",
      "source": [
        "# Here we set our working directory in our google drive to access datasets externally\n",
        "from google.colab import drive\n",
        "drive.mount('/content/drive')\n",
        "%cd /content/drive/MyDrive/ColabNotebooks/NLP"
      ],
      "metadata": {
        "id": "CVtLQEBtbW05"
      },
      "execution_count": null,
      "outputs": []
    },
    {
      "cell_type": "markdown",
      "source": [
        "**Perform imports and load the dataset into a pandas DataFrame**"
      ],
      "metadata": {
        "id": "uvNOKqc6cQJ_"
      }
    },
    {
      "cell_type": "code",
      "source": [
        "import numpy as np\n",
        "import pandas as pd\n",
        "\n",
        "df = pd.read_csv('TEXTs/moviereviews2.tsv', sep = '\\t')\n",
        "df.head()"
      ],
      "metadata": {
        "colab": {
          "base_uri": "https://localhost:8080/",
          "height": 206
        },
        "id": "Smae1_qRcFFL",
        "outputId": "496192f6-5d85-4c9a-ce82-d362c988e32b"
      },
      "execution_count": 50,
      "outputs": [
        {
          "output_type": "execute_result",
          "data": {
            "text/plain": [
              "  label                                             review\n",
              "0   pos  I loved this movie and will watch it again. Or...\n",
              "1   pos  A warm, touching movie that has a fantasy-like...\n",
              "2   pos  I was not expecting the powerful filmmaking ex...\n",
              "3   neg  This so-called \"documentary\" tries to tell tha...\n",
              "4   pos  This show has been my escape from reality for ..."
            ],
            "text/html": [
              "\n",
              "  <div id=\"df-e17d14df-7573-49e7-b7cb-0d9f552d5493\" class=\"colab-df-container\">\n",
              "    <div>\n",
              "<style scoped>\n",
              "    .dataframe tbody tr th:only-of-type {\n",
              "        vertical-align: middle;\n",
              "    }\n",
              "\n",
              "    .dataframe tbody tr th {\n",
              "        vertical-align: top;\n",
              "    }\n",
              "\n",
              "    .dataframe thead th {\n",
              "        text-align: right;\n",
              "    }\n",
              "</style>\n",
              "<table border=\"1\" class=\"dataframe\">\n",
              "  <thead>\n",
              "    <tr style=\"text-align: right;\">\n",
              "      <th></th>\n",
              "      <th>label</th>\n",
              "      <th>review</th>\n",
              "    </tr>\n",
              "  </thead>\n",
              "  <tbody>\n",
              "    <tr>\n",
              "      <th>0</th>\n",
              "      <td>pos</td>\n",
              "      <td>I loved this movie and will watch it again. Or...</td>\n",
              "    </tr>\n",
              "    <tr>\n",
              "      <th>1</th>\n",
              "      <td>pos</td>\n",
              "      <td>A warm, touching movie that has a fantasy-like...</td>\n",
              "    </tr>\n",
              "    <tr>\n",
              "      <th>2</th>\n",
              "      <td>pos</td>\n",
              "      <td>I was not expecting the powerful filmmaking ex...</td>\n",
              "    </tr>\n",
              "    <tr>\n",
              "      <th>3</th>\n",
              "      <td>neg</td>\n",
              "      <td>This so-called \"documentary\" tries to tell tha...</td>\n",
              "    </tr>\n",
              "    <tr>\n",
              "      <th>4</th>\n",
              "      <td>pos</td>\n",
              "      <td>This show has been my escape from reality for ...</td>\n",
              "    </tr>\n",
              "  </tbody>\n",
              "</table>\n",
              "</div>\n",
              "    <div class=\"colab-df-buttons\">\n",
              "\n",
              "  <div class=\"colab-df-container\">\n",
              "    <button class=\"colab-df-convert\" onclick=\"convertToInteractive('df-e17d14df-7573-49e7-b7cb-0d9f552d5493')\"\n",
              "            title=\"Convert this dataframe to an interactive table.\"\n",
              "            style=\"display:none;\">\n",
              "\n",
              "  <svg xmlns=\"http://www.w3.org/2000/svg\" height=\"24px\" viewBox=\"0 -960 960 960\">\n",
              "    <path d=\"M120-120v-720h720v720H120Zm60-500h600v-160H180v160Zm220 220h160v-160H400v160Zm0 220h160v-160H400v160ZM180-400h160v-160H180v160Zm440 0h160v-160H620v160ZM180-180h160v-160H180v160Zm440 0h160v-160H620v160Z\"/>\n",
              "  </svg>\n",
              "    </button>\n",
              "\n",
              "  <style>\n",
              "    .colab-df-container {\n",
              "      display:flex;\n",
              "      gap: 12px;\n",
              "    }\n",
              "\n",
              "    .colab-df-convert {\n",
              "      background-color: #E8F0FE;\n",
              "      border: none;\n",
              "      border-radius: 50%;\n",
              "      cursor: pointer;\n",
              "      display: none;\n",
              "      fill: #1967D2;\n",
              "      height: 32px;\n",
              "      padding: 0 0 0 0;\n",
              "      width: 32px;\n",
              "    }\n",
              "\n",
              "    .colab-df-convert:hover {\n",
              "      background-color: #E2EBFA;\n",
              "      box-shadow: 0px 1px 2px rgba(60, 64, 67, 0.3), 0px 1px 3px 1px rgba(60, 64, 67, 0.15);\n",
              "      fill: #174EA6;\n",
              "    }\n",
              "\n",
              "    .colab-df-buttons div {\n",
              "      margin-bottom: 4px;\n",
              "    }\n",
              "\n",
              "    [theme=dark] .colab-df-convert {\n",
              "      background-color: #3B4455;\n",
              "      fill: #D2E3FC;\n",
              "    }\n",
              "\n",
              "    [theme=dark] .colab-df-convert:hover {\n",
              "      background-color: #434B5C;\n",
              "      box-shadow: 0px 1px 3px 1px rgba(0, 0, 0, 0.15);\n",
              "      filter: drop-shadow(0px 1px 2px rgba(0, 0, 0, 0.3));\n",
              "      fill: #FFFFFF;\n",
              "    }\n",
              "  </style>\n",
              "\n",
              "    <script>\n",
              "      const buttonEl =\n",
              "        document.querySelector('#df-e17d14df-7573-49e7-b7cb-0d9f552d5493 button.colab-df-convert');\n",
              "      buttonEl.style.display =\n",
              "        google.colab.kernel.accessAllowed ? 'block' : 'none';\n",
              "\n",
              "      async function convertToInteractive(key) {\n",
              "        const element = document.querySelector('#df-e17d14df-7573-49e7-b7cb-0d9f552d5493');\n",
              "        const dataTable =\n",
              "          await google.colab.kernel.invokeFunction('convertToInteractive',\n",
              "                                                    [key], {});\n",
              "        if (!dataTable) return;\n",
              "\n",
              "        const docLinkHtml = 'Like what you see? Visit the ' +\n",
              "          '<a target=\"_blank\" href=https://colab.research.google.com/notebooks/data_table.ipynb>data table notebook</a>'\n",
              "          + ' to learn more about interactive tables.';\n",
              "        element.innerHTML = '';\n",
              "        dataTable['output_type'] = 'display_data';\n",
              "        await google.colab.output.renderOutput(dataTable, element);\n",
              "        const docLink = document.createElement('div');\n",
              "        docLink.innerHTML = docLinkHtml;\n",
              "        element.appendChild(docLink);\n",
              "      }\n",
              "    </script>\n",
              "  </div>\n",
              "\n",
              "\n",
              "<div id=\"df-69a950dc-57c9-4136-a778-18711f4ca7b0\">\n",
              "  <button class=\"colab-df-quickchart\" onclick=\"quickchart('df-69a950dc-57c9-4136-a778-18711f4ca7b0')\"\n",
              "            title=\"Suggest charts.\"\n",
              "            style=\"display:none;\">\n",
              "\n",
              "<svg xmlns=\"http://www.w3.org/2000/svg\" height=\"24px\"viewBox=\"0 0 24 24\"\n",
              "     width=\"24px\">\n",
              "    <g>\n",
              "        <path d=\"M19 3H5c-1.1 0-2 .9-2 2v14c0 1.1.9 2 2 2h14c1.1 0 2-.9 2-2V5c0-1.1-.9-2-2-2zM9 17H7v-7h2v7zm4 0h-2V7h2v10zm4 0h-2v-4h2v4z\"/>\n",
              "    </g>\n",
              "</svg>\n",
              "  </button>\n",
              "\n",
              "<style>\n",
              "  .colab-df-quickchart {\n",
              "      --bg-color: #E8F0FE;\n",
              "      --fill-color: #1967D2;\n",
              "      --hover-bg-color: #E2EBFA;\n",
              "      --hover-fill-color: #174EA6;\n",
              "      --disabled-fill-color: #AAA;\n",
              "      --disabled-bg-color: #DDD;\n",
              "  }\n",
              "\n",
              "  [theme=dark] .colab-df-quickchart {\n",
              "      --bg-color: #3B4455;\n",
              "      --fill-color: #D2E3FC;\n",
              "      --hover-bg-color: #434B5C;\n",
              "      --hover-fill-color: #FFFFFF;\n",
              "      --disabled-bg-color: #3B4455;\n",
              "      --disabled-fill-color: #666;\n",
              "  }\n",
              "\n",
              "  .colab-df-quickchart {\n",
              "    background-color: var(--bg-color);\n",
              "    border: none;\n",
              "    border-radius: 50%;\n",
              "    cursor: pointer;\n",
              "    display: none;\n",
              "    fill: var(--fill-color);\n",
              "    height: 32px;\n",
              "    padding: 0;\n",
              "    width: 32px;\n",
              "  }\n",
              "\n",
              "  .colab-df-quickchart:hover {\n",
              "    background-color: var(--hover-bg-color);\n",
              "    box-shadow: 0 1px 2px rgba(60, 64, 67, 0.3), 0 1px 3px 1px rgba(60, 64, 67, 0.15);\n",
              "    fill: var(--button-hover-fill-color);\n",
              "  }\n",
              "\n",
              "  .colab-df-quickchart-complete:disabled,\n",
              "  .colab-df-quickchart-complete:disabled:hover {\n",
              "    background-color: var(--disabled-bg-color);\n",
              "    fill: var(--disabled-fill-color);\n",
              "    box-shadow: none;\n",
              "  }\n",
              "\n",
              "  .colab-df-spinner {\n",
              "    border: 2px solid var(--fill-color);\n",
              "    border-color: transparent;\n",
              "    border-bottom-color: var(--fill-color);\n",
              "    animation:\n",
              "      spin 1s steps(1) infinite;\n",
              "  }\n",
              "\n",
              "  @keyframes spin {\n",
              "    0% {\n",
              "      border-color: transparent;\n",
              "      border-bottom-color: var(--fill-color);\n",
              "      border-left-color: var(--fill-color);\n",
              "    }\n",
              "    20% {\n",
              "      border-color: transparent;\n",
              "      border-left-color: var(--fill-color);\n",
              "      border-top-color: var(--fill-color);\n",
              "    }\n",
              "    30% {\n",
              "      border-color: transparent;\n",
              "      border-left-color: var(--fill-color);\n",
              "      border-top-color: var(--fill-color);\n",
              "      border-right-color: var(--fill-color);\n",
              "    }\n",
              "    40% {\n",
              "      border-color: transparent;\n",
              "      border-right-color: var(--fill-color);\n",
              "      border-top-color: var(--fill-color);\n",
              "    }\n",
              "    60% {\n",
              "      border-color: transparent;\n",
              "      border-right-color: var(--fill-color);\n",
              "    }\n",
              "    80% {\n",
              "      border-color: transparent;\n",
              "      border-right-color: var(--fill-color);\n",
              "      border-bottom-color: var(--fill-color);\n",
              "    }\n",
              "    90% {\n",
              "      border-color: transparent;\n",
              "      border-bottom-color: var(--fill-color);\n",
              "    }\n",
              "  }\n",
              "</style>\n",
              "\n",
              "  <script>\n",
              "    async function quickchart(key) {\n",
              "      const quickchartButtonEl =\n",
              "        document.querySelector('#' + key + ' button');\n",
              "      quickchartButtonEl.disabled = true;  // To prevent multiple clicks.\n",
              "      quickchartButtonEl.classList.add('colab-df-spinner');\n",
              "      try {\n",
              "        const charts = await google.colab.kernel.invokeFunction(\n",
              "            'suggestCharts', [key], {});\n",
              "      } catch (error) {\n",
              "        console.error('Error during call to suggestCharts:', error);\n",
              "      }\n",
              "      quickchartButtonEl.classList.remove('colab-df-spinner');\n",
              "      quickchartButtonEl.classList.add('colab-df-quickchart-complete');\n",
              "    }\n",
              "    (() => {\n",
              "      let quickchartButtonEl =\n",
              "        document.querySelector('#df-69a950dc-57c9-4136-a778-18711f4ca7b0 button');\n",
              "      quickchartButtonEl.style.display =\n",
              "        google.colab.kernel.accessAllowed ? 'block' : 'none';\n",
              "    })();\n",
              "  </script>\n",
              "</div>\n",
              "    </div>\n",
              "  </div>\n"
            ]
          },
          "metadata": {},
          "execution_count": 50
        }
      ]
    },
    {
      "cell_type": "markdown",
      "source": [
        "**Check for missing values:**"
      ],
      "metadata": {
        "id": "wP5LEY_xccCd"
      }
    },
    {
      "cell_type": "code",
      "source": [
        "df.isnull().sum()"
      ],
      "metadata": {
        "colab": {
          "base_uri": "https://localhost:8080/"
        },
        "id": "YUZjT7K8cgI3",
        "outputId": "37f8d868-cff8-407e-d74e-d634195698b1"
      },
      "execution_count": 51,
      "outputs": [
        {
          "output_type": "execute_result",
          "data": {
            "text/plain": [
              "label      0\n",
              "review    20\n",
              "dtype: int64"
            ]
          },
          "metadata": {},
          "execution_count": 51
        }
      ]
    },
    {
      "cell_type": "code",
      "source": [
        "df.dropna(inplace=True)\n",
        "df.isnull().sum()"
      ],
      "metadata": {
        "colab": {
          "base_uri": "https://localhost:8080/"
        },
        "id": "UwRs6TYEclzq",
        "outputId": "9410216e-9a47-4b29-b900-c6b0708efc58"
      },
      "execution_count": 52,
      "outputs": [
        {
          "output_type": "execute_result",
          "data": {
            "text/plain": [
              "label     0\n",
              "review    0\n",
              "dtype: int64"
            ]
          },
          "metadata": {},
          "execution_count": 52
        }
      ]
    },
    {
      "cell_type": "code",
      "source": [
        "# Here we check if the review is a white space\n",
        "blanks = []\n",
        "\n",
        "for i, lb, rv in df.itertuples():\n",
        "  if rv.isspace():\n",
        "    blanks.append(i)\n",
        "\n",
        "df.drop(blanks, inplace = True)\n",
        "len(df)"
      ],
      "metadata": {
        "colab": {
          "base_uri": "https://localhost:8080/"
        },
        "id": "4zsZRZxGcotY",
        "outputId": "15074f7f-e2cb-47f6-92be-5d7f300e9680"
      },
      "execution_count": 53,
      "outputs": [
        {
          "output_type": "execute_result",
          "data": {
            "text/plain": [
              "5980"
            ]
          },
          "metadata": {},
          "execution_count": 53
        }
      ]
    },
    {
      "cell_type": "markdown",
      "source": [
        "**Take a quick look at the label column:**"
      ],
      "metadata": {
        "id": "gg1dCxODd0UV"
      }
    },
    {
      "cell_type": "code",
      "source": [
        "df['label'].value_counts()"
      ],
      "metadata": {
        "colab": {
          "base_uri": "https://localhost:8080/"
        },
        "id": "isoBIT5ud0tc",
        "outputId": "946a3ff8-553a-41d5-ad92-facdd8d1e06b"
      },
      "execution_count": 58,
      "outputs": [
        {
          "output_type": "execute_result",
          "data": {
            "text/plain": [
              "pos    2990\n",
              "neg    2990\n",
              "Name: label, dtype: int64"
            ]
          },
          "metadata": {},
          "execution_count": 58
        }
      ]
    },
    {
      "cell_type": "markdown",
      "source": [
        "**Split the data into train & test sets:**\n",
        "\n",
        "You may use whatever settings you like. To compare your results to the solution notebook, use `test_size=0.33, random_state=42`"
      ],
      "metadata": {
        "id": "c-4Z_oIUctl1"
      }
    },
    {
      "cell_type": "code",
      "source": [
        "from sklearn.model_selection import train_test_split\n",
        "from sklearn.feature_extraction.text import TfidfVectorizer\n",
        "from sklearn.svm import LinearSVC\n",
        "from sklearn.pipeline import Pipeline\n",
        "from sklearn.metrics import confusion_matrix, classification_report, accuracy_score\n",
        "\n",
        "# Here we create variables\n",
        "X = df['review']\n",
        "y = df['label']\n",
        "\n",
        "# Here we split the data\n",
        "X_train, X_test, y_train, y_test = train_test_split(X,y, test_size = 0.33, random_state = 42)"
      ],
      "metadata": {
        "id": "8UmiMoyocsRi"
      },
      "execution_count": 54,
      "outputs": []
    },
    {
      "cell_type": "markdown",
      "source": [
        "**Build a pipeline to vectorize the date, then train and fit a model**\n",
        "\n",
        "You may use whatever model you like. To compare your results to the solution notebook, use `LinearSVC`."
      ],
      "metadata": {
        "id": "lVfmxKEtc--y"
      }
    },
    {
      "cell_type": "code",
      "source": [
        "# Here we create a pipeline object includes both vectorization and classifier\n",
        "text_clf = Pipeline([('tfidf', TfidfVectorizer()),('clf', LinearSVC())])\n",
        "text_clf.fit(X_train,y_train)\n",
        "\n",
        "# Here we make predictions using our pipeline\n",
        "predictions = text_clf.predict(X_test)\n",
        "print(confusion_matrix(y_test,predictions))\n",
        "print(accuracy_score(y_test,predictions))"
      ],
      "metadata": {
        "colab": {
          "base_uri": "https://localhost:8080/"
        },
        "id": "T6JT1KEvc_WG",
        "outputId": "21a4207f-82a5-43a5-a08f-360f1d51d2fb"
      },
      "execution_count": 55,
      "outputs": [
        {
          "output_type": "stream",
          "name": "stdout",
          "text": [
            "[[900  91]\n",
            " [ 63 920]]\n",
            "0.9219858156028369\n"
          ]
        }
      ]
    },
    {
      "cell_type": "code",
      "source": [
        "text_clf.predict([\"This movie sucks.\"])"
      ],
      "metadata": {
        "colab": {
          "base_uri": "https://localhost:8080/"
        },
        "id": "Pk54Y0cqdN5j",
        "outputId": "22ab0930-ea70-4531-87ec-4baccb4e9fb7"
      },
      "execution_count": 57,
      "outputs": [
        {
          "output_type": "execute_result",
          "data": {
            "text/plain": [
              "array(['neg'], dtype=object)"
            ]
          },
          "metadata": {},
          "execution_count": 57
        }
      ]
    }
  ]
}